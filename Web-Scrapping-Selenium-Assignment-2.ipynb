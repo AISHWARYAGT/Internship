{
 "cells": [
  {
   "cell_type": "code",
   "execution_count": 1,
   "id": "179af63c",
   "metadata": {},
   "outputs": [],
   "source": [
    "import selenium\n",
    "from selenium import webdriver\n",
    "import pandas as pd\n",
    "import warnings\n",
    "warnings.filterwarnings(\"ignore\")\n"
   ]
  },
  {
   "cell_type": "code",
   "execution_count": 2,
   "id": "db85c8e6",
   "metadata": {},
   "outputs": [],
   "source": [
    "#Q1\n",
    "driver= webdriver.Chrome(r'C:\\Users\\sofiy\\Downloads\\chromedriver_win32 (1)\\chromedriver.exe') #chromedriver path,i.e where the drives are stored the path is to be provided"
   ]
  },
  {
   "cell_type": "code",
   "execution_count": 3,
   "id": "70ceb011",
   "metadata": {},
   "outputs": [],
   "source": [
    "url='https://www.naukri.com/' #url from where the data is to be scrapped is given here\n",
    "driver.get(url) # it will get the data from the url link provided"
   ]
  },
  {
   "cell_type": "code",
   "execution_count": 4,
   "id": "b0185de1",
   "metadata": {},
   "outputs": [
    {
     "data": {
      "text/plain": [
       "<selenium.webdriver.remote.webelement.WebElement (session=\"b4dbfcffcf4ff1d354ee1b17672217f8\", element=\"9484e8c5-edec-4b68-9132-88cdba12f192\")>"
      ]
     },
     "execution_count": 4,
     "metadata": {},
     "output_type": "execute_result"
    }
   ],
   "source": [
    "search_job=driver.find_element(\"xpath\",'//*[@id=\"root\"]/div[2]/div[3]/div/div/div[1]/div/div/div/input') #xpath for search bar where the user inputs his/her preference, xpath is to be provided.\n",
    "search_job"
   ]
  },
  {
   "cell_type": "code",
   "execution_count": 5,
   "id": "8fb28017",
   "metadata": {},
   "outputs": [],
   "source": [
    "search_job.send_keys(\"Data Analyst\")# the job title that needs to be searched for must be given here."
   ]
  },
  {
   "cell_type": "code",
   "execution_count": 6,
   "id": "addf59d1",
   "metadata": {},
   "outputs": [
    {
     "data": {
      "text/plain": [
       "<selenium.webdriver.remote.webelement.WebElement (session=\"b4dbfcffcf4ff1d354ee1b17672217f8\", element=\"7c44e5cf-bee0-4316-b7b9-06d7830b86d1\")>"
      ]
     },
     "execution_count": 6,
     "metadata": {},
     "output_type": "execute_result"
    }
   ],
   "source": [
    "search_locn= driver.find_element('xpath','//*[@id=\"root\"]/div[2]/div[3]/div/div/div[5]/div/div/div/input')#xpath for location is provided.\n",
    "search_locn"
   ]
  },
  {
   "cell_type": "code",
   "execution_count": 7,
   "id": "eeeeae0c",
   "metadata": {},
   "outputs": [],
   "source": [
    "search_locn.send_keys(\"Bangalore\")# search bar input, i.e the user preference is to be provided."
   ]
  },
  {
   "cell_type": "code",
   "execution_count": 8,
   "id": "c1e75e09",
   "metadata": {},
   "outputs": [
    {
     "data": {
      "text/plain": [
       "<selenium.webdriver.remote.webelement.WebElement (session=\"b4dbfcffcf4ff1d354ee1b17672217f8\", element=\"322b0872-a9fd-4b4e-89fd-4bdeac6c6cba\")>"
      ]
     },
     "execution_count": 8,
     "metadata": {},
     "output_type": "execute_result"
    }
   ],
   "source": [
    "search_btn= driver.find_element('xpath','/html/body/div[1]/div[2]/div[3]/div/div/div[6]') #the search button xpath goes here as input.\n",
    "search_btn "
   ]
  },
  {
   "cell_type": "code",
   "execution_count": 9,
   "id": "68b77ce0",
   "metadata": {},
   "outputs": [],
   "source": [
    "search_btn.click() #this ensures that search button is clicked."
   ]
  },
  {
   "cell_type": "code",
   "execution_count": 10,
   "id": "17c6ef8e",
   "metadata": {},
   "outputs": [
    {
     "data": {
      "text/plain": [
       "20"
      ]
     },
     "execution_count": 10,
     "metadata": {},
     "output_type": "execute_result"
    }
   ],
   "source": [
    "title_t=driver.find_elements('xpath','//a[@class=\"title fw500 ellipsis\"]') #to scrap titles. Provide xpath of the titles.\n",
    "len(title_t)"
   ]
  },
  {
   "cell_type": "code",
   "execution_count": 11,
   "id": "733b0d3f",
   "metadata": {},
   "outputs": [
    {
     "data": {
      "text/plain": [
       "10"
      ]
     },
     "execution_count": 11,
     "metadata": {},
     "output_type": "execute_result"
    }
   ],
   "source": [
    "Profile_t=[]  # creating an empty list, data will be stored in here.\n",
    "for i in title_t: # for loop to scrap all the job_titles.\n",
    "    Profile_t.append(i.text) \n",
    "    if len(Profile_t)==10:\n",
    "        break\n",
    "len(Profile_t)"
   ]
  },
  {
   "cell_type": "code",
   "execution_count": 12,
   "id": "ddbc915e",
   "metadata": {},
   "outputs": [
    {
     "data": {
      "text/plain": [
       "['Senior Data Analyst',\n",
       " 'Data Analyst/Sr. Data Analyst',\n",
       " 'Sr.Business Data Analyst',\n",
       " 'Sr . Data Analyst',\n",
       " 'Business Data Analyst (Sr Exe / Asst Manager)',\n",
       " 'Principal Data Analyst',\n",
       " 'Hiring Data Analyst - Forensics, KPMG India',\n",
       " 'Data Analyst / Product Analyst / Business Analyst',\n",
       " 'Data Analyst',\n",
       " 'Data Analyst I']"
      ]
     },
     "execution_count": 12,
     "metadata": {},
     "output_type": "execute_result"
    }
   ],
   "source": [
    "Profile_t"
   ]
  },
  {
   "cell_type": "code",
   "execution_count": 13,
   "id": "c01b1b7b",
   "metadata": {},
   "outputs": [
    {
     "data": {
      "text/plain": [
       "20"
      ]
     },
     "execution_count": 13,
     "metadata": {},
     "output_type": "execute_result"
    }
   ],
   "source": [
    "locn_t=driver.find_elements('xpath','//li[@class=\"fleft grey-text br2 placeHolderLi location\"]')\n",
    "len(locn_t)\n"
   ]
  },
  {
   "cell_type": "code",
   "execution_count": 14,
   "id": "67c19fb3",
   "metadata": {},
   "outputs": [
    {
     "data": {
      "text/plain": [
       "10"
      ]
     },
     "execution_count": 14,
     "metadata": {},
     "output_type": "execute_result"
    }
   ],
   "source": [
    "location_t=[]\n",
    "for i in locn_t:\n",
    "    location_t.append(i.text)\n",
    "    if len(location_t)==10:\n",
    "        break\n",
    "len(location_t)"
   ]
  },
  {
   "cell_type": "code",
   "execution_count": 15,
   "id": "e6649f9f",
   "metadata": {},
   "outputs": [
    {
     "data": {
      "text/plain": [
       "['Bangalore/Bengaluru',\n",
       " 'Bangalore/Bengaluru',\n",
       " 'Bangalore/Bengaluru, karnataka\\n(WFH during Covid)',\n",
       " 'Bangalore/Bengaluru',\n",
       " 'Bangalore/Bengaluru, Delhi / NCR',\n",
       " 'Bangalore/Bengaluru',\n",
       " 'Bangalore/Bengaluru, Noida, Kolkata, Mumbai, Gurgaon/Gurugram, Delhi / NCR, Mumbai (All Areas)',\n",
       " 'Bangalore/Bengaluru, Delhi / NCR',\n",
       " 'Bangalore/Bengaluru',\n",
       " 'Bangalore/Bengaluru']"
      ]
     },
     "execution_count": 15,
     "metadata": {},
     "output_type": "execute_result"
    }
   ],
   "source": [
    "location_t"
   ]
  },
  {
   "cell_type": "code",
   "execution_count": 16,
   "id": "11ce2cee",
   "metadata": {},
   "outputs": [
    {
     "data": {
      "text/plain": [
       "20"
      ]
     },
     "execution_count": 16,
     "metadata": {},
     "output_type": "execute_result"
    }
   ],
   "source": [
    "exper_t=driver.find_elements('xpath','//li[@class=\"fleft grey-text br2 placeHolderLi experience\"]')\n",
    "len(exper_t)\n"
   ]
  },
  {
   "cell_type": "code",
   "execution_count": 17,
   "id": "b15ccd6a",
   "metadata": {},
   "outputs": [
    {
     "data": {
      "text/plain": [
       "10"
      ]
     },
     "execution_count": 17,
     "metadata": {},
     "output_type": "execute_result"
    }
   ],
   "source": [
    "experience_t=[]\n",
    "for i in exper_t:\n",
    "    experience_t.append(i.text)\n",
    "    if len(experience_t)==10:\n",
    "        break\n",
    "len(experience_t)"
   ]
  },
  {
   "cell_type": "code",
   "execution_count": 18,
   "id": "6035157a",
   "metadata": {},
   "outputs": [
    {
     "data": {
      "text/plain": [
       "['2-3 Yrs',\n",
       " '3-8 Yrs',\n",
       " '6-11 Yrs',\n",
       " '3-8 Yrs',\n",
       " '3-6 Yrs',\n",
       " '5-7 Yrs',\n",
       " '2-6 Yrs',\n",
       " '2-5 Yrs',\n",
       " '4-7 Yrs',\n",
       " '5-10 Yrs']"
      ]
     },
     "execution_count": 18,
     "metadata": {},
     "output_type": "execute_result"
    }
   ],
   "source": [
    "experience_t"
   ]
  },
  {
   "cell_type": "code",
   "execution_count": 19,
   "id": "261c2a39",
   "metadata": {},
   "outputs": [
    {
     "data": {
      "text/plain": [
       "20"
      ]
     },
     "execution_count": 19,
     "metadata": {},
     "output_type": "execute_result"
    }
   ],
   "source": [
    "comp_name=driver.find_elements('xpath','//a[@class=\"subTitle ellipsis fleft\"]')\n",
    "len(comp_name)\n"
   ]
  },
  {
   "cell_type": "code",
   "execution_count": 20,
   "id": "d5127ba2",
   "metadata": {},
   "outputs": [
    {
     "data": {
      "text/plain": [
       "10"
      ]
     },
     "execution_count": 20,
     "metadata": {},
     "output_type": "execute_result"
    }
   ],
   "source": [
    "company_t=[]\n",
    "for i in comp_name:\n",
    "    company_t.append(i.text)\n",
    "    if len(company_t)==10:\n",
    "        break\n",
    "len(company_t)"
   ]
  },
  {
   "cell_type": "code",
   "execution_count": 21,
   "id": "60516958",
   "metadata": {},
   "outputs": [
    {
     "data": {
      "text/plain": [
       "['ANZ',\n",
       " 'Brillio',\n",
       " 'Collabera',\n",
       " 'cloudneeti',\n",
       " 'Talent Leads HR Solutions Pvt Ltd',\n",
       " 'SVB Global Services India LLP',\n",
       " 'KPMG India',\n",
       " 'Benchire',\n",
       " 'Brillio',\n",
       " 'Cerner']"
      ]
     },
     "execution_count": 21,
     "metadata": {},
     "output_type": "execute_result"
    }
   ],
   "source": [
    "company_t"
   ]
  },
  {
   "cell_type": "code",
   "execution_count": 22,
   "id": "68fa3f66",
   "metadata": {},
   "outputs": [
    {
     "data": {
      "text/html": [
       "<div>\n",
       "<style scoped>\n",
       "    .dataframe tbody tr th:only-of-type {\n",
       "        vertical-align: middle;\n",
       "    }\n",
       "\n",
       "    .dataframe tbody tr th {\n",
       "        vertical-align: top;\n",
       "    }\n",
       "\n",
       "    .dataframe thead th {\n",
       "        text-align: right;\n",
       "    }\n",
       "</style>\n",
       "<table border=\"1\" class=\"dataframe\">\n",
       "  <thead>\n",
       "    <tr style=\"text-align: right;\">\n",
       "      <th></th>\n",
       "      <th>Job Title</th>\n",
       "      <th>Company</th>\n",
       "      <th>Experience</th>\n",
       "      <th>Location</th>\n",
       "    </tr>\n",
       "  </thead>\n",
       "  <tbody>\n",
       "    <tr>\n",
       "      <th>0</th>\n",
       "      <td>Senior Data Analyst</td>\n",
       "      <td>ANZ</td>\n",
       "      <td>2-3 Yrs</td>\n",
       "      <td>Bangalore/Bengaluru</td>\n",
       "    </tr>\n",
       "    <tr>\n",
       "      <th>1</th>\n",
       "      <td>Data Analyst/Sr. Data Analyst</td>\n",
       "      <td>Brillio</td>\n",
       "      <td>3-8 Yrs</td>\n",
       "      <td>Bangalore/Bengaluru</td>\n",
       "    </tr>\n",
       "    <tr>\n",
       "      <th>2</th>\n",
       "      <td>Sr.Business Data Analyst</td>\n",
       "      <td>Collabera</td>\n",
       "      <td>6-11 Yrs</td>\n",
       "      <td>Bangalore/Bengaluru, karnataka\\n(WFH during Co...</td>\n",
       "    </tr>\n",
       "    <tr>\n",
       "      <th>3</th>\n",
       "      <td>Sr . Data Analyst</td>\n",
       "      <td>cloudneeti</td>\n",
       "      <td>3-8 Yrs</td>\n",
       "      <td>Bangalore/Bengaluru</td>\n",
       "    </tr>\n",
       "    <tr>\n",
       "      <th>4</th>\n",
       "      <td>Business Data Analyst (Sr Exe / Asst Manager)</td>\n",
       "      <td>Talent Leads HR Solutions Pvt Ltd</td>\n",
       "      <td>3-6 Yrs</td>\n",
       "      <td>Bangalore/Bengaluru, Delhi / NCR</td>\n",
       "    </tr>\n",
       "    <tr>\n",
       "      <th>5</th>\n",
       "      <td>Principal Data Analyst</td>\n",
       "      <td>SVB Global Services India LLP</td>\n",
       "      <td>5-7 Yrs</td>\n",
       "      <td>Bangalore/Bengaluru</td>\n",
       "    </tr>\n",
       "    <tr>\n",
       "      <th>6</th>\n",
       "      <td>Hiring Data Analyst - Forensics, KPMG India</td>\n",
       "      <td>KPMG India</td>\n",
       "      <td>2-6 Yrs</td>\n",
       "      <td>Bangalore/Bengaluru, Noida, Kolkata, Mumbai, G...</td>\n",
       "    </tr>\n",
       "    <tr>\n",
       "      <th>7</th>\n",
       "      <td>Data Analyst / Product Analyst / Business Analyst</td>\n",
       "      <td>Benchire</td>\n",
       "      <td>2-5 Yrs</td>\n",
       "      <td>Bangalore/Bengaluru, Delhi / NCR</td>\n",
       "    </tr>\n",
       "    <tr>\n",
       "      <th>8</th>\n",
       "      <td>Data Analyst</td>\n",
       "      <td>Brillio</td>\n",
       "      <td>4-7 Yrs</td>\n",
       "      <td>Bangalore/Bengaluru</td>\n",
       "    </tr>\n",
       "    <tr>\n",
       "      <th>9</th>\n",
       "      <td>Data Analyst I</td>\n",
       "      <td>Cerner</td>\n",
       "      <td>5-10 Yrs</td>\n",
       "      <td>Bangalore/Bengaluru</td>\n",
       "    </tr>\n",
       "  </tbody>\n",
       "</table>\n",
       "</div>"
      ],
      "text/plain": [
       "                                           Job Title  \\\n",
       "0                                Senior Data Analyst   \n",
       "1                      Data Analyst/Sr. Data Analyst   \n",
       "2                           Sr.Business Data Analyst   \n",
       "3                                  Sr . Data Analyst   \n",
       "4      Business Data Analyst (Sr Exe / Asst Manager)   \n",
       "5                             Principal Data Analyst   \n",
       "6        Hiring Data Analyst - Forensics, KPMG India   \n",
       "7  Data Analyst / Product Analyst / Business Analyst   \n",
       "8                                       Data Analyst   \n",
       "9                                     Data Analyst I   \n",
       "\n",
       "                             Company Experience  \\\n",
       "0                                ANZ    2-3 Yrs   \n",
       "1                            Brillio    3-8 Yrs   \n",
       "2                          Collabera   6-11 Yrs   \n",
       "3                         cloudneeti    3-8 Yrs   \n",
       "4  Talent Leads HR Solutions Pvt Ltd    3-6 Yrs   \n",
       "5      SVB Global Services India LLP    5-7 Yrs   \n",
       "6                         KPMG India    2-6 Yrs   \n",
       "7                           Benchire    2-5 Yrs   \n",
       "8                            Brillio    4-7 Yrs   \n",
       "9                             Cerner   5-10 Yrs   \n",
       "\n",
       "                                            Location  \n",
       "0                                Bangalore/Bengaluru  \n",
       "1                                Bangalore/Bengaluru  \n",
       "2  Bangalore/Bengaluru, karnataka\\n(WFH during Co...  \n",
       "3                                Bangalore/Bengaluru  \n",
       "4                   Bangalore/Bengaluru, Delhi / NCR  \n",
       "5                                Bangalore/Bengaluru  \n",
       "6  Bangalore/Bengaluru, Noida, Kolkata, Mumbai, G...  \n",
       "7                   Bangalore/Bengaluru, Delhi / NCR  \n",
       "8                                Bangalore/Bengaluru  \n",
       "9                                Bangalore/Bengaluru  "
      ]
     },
     "execution_count": 22,
     "metadata": {},
     "output_type": "execute_result"
    }
   ],
   "source": [
    "job=pd.DataFrame()\n",
    "job['Job Title']= Profile_t\n",
    "job['Company']=company_t\n",
    "job['Experience']=experience_t\n",
    "job['Location']=location_t\n",
    "job"
   ]
  },
  {
   "cell_type": "code",
   "execution_count": null,
   "id": "77eba019",
   "metadata": {},
   "outputs": [],
   "source": [
    "#Q2 #Write a python program to scrape data for “Data Scientist” Job position in “Bangalore” location. You \n",
    "#    have to scrape the job-title, job-location, company_name"
   ]
  },
  {
   "cell_type": "code",
   "execution_count": 25,
   "id": "0f503132",
   "metadata": {},
   "outputs": [],
   "source": [
    "driver= webdriver.Chrome(r'C:\\Users\\sofiy\\Downloads\\chromedriver_win32 (1)\\chromedriver.exe')"
   ]
  },
  {
   "cell_type": "code",
   "execution_count": 26,
   "id": "78801220",
   "metadata": {},
   "outputs": [],
   "source": [
    "url='https://www.naukri.com/'\n",
    "driver.get(url)"
   ]
  },
  {
   "cell_type": "code",
   "execution_count": 27,
   "id": "1ff95939",
   "metadata": {},
   "outputs": [
    {
     "data": {
      "text/plain": [
       "<selenium.webdriver.remote.webelement.WebElement (session=\"f1694ab7ac32e18836b1ccf9b21bbe46\", element=\"9c5e65b8-c96f-4023-88c2-28beb4337bf9\")>"
      ]
     },
     "execution_count": 27,
     "metadata": {},
     "output_type": "execute_result"
    }
   ],
   "source": [
    "search_job=driver.find_element(\"xpath\", '//*[@id=\"root\"]/div[2]/div[3]/div/div/div[1]/div/div/div/input')\n",
    "search_job"
   ]
  },
  {
   "cell_type": "code",
   "execution_count": 28,
   "id": "d4304e5d",
   "metadata": {},
   "outputs": [],
   "source": [
    "search_job.send_keys(\"Data Scientist\")"
   ]
  },
  {
   "cell_type": "code",
   "execution_count": 29,
   "id": "d48d3766",
   "metadata": {},
   "outputs": [
    {
     "data": {
      "text/plain": [
       "<selenium.webdriver.remote.webelement.WebElement (session=\"f1694ab7ac32e18836b1ccf9b21bbe46\", element=\"3cca1a25-4977-4119-8fd9-05aa012539e1\")>"
      ]
     },
     "execution_count": 29,
     "metadata": {},
     "output_type": "execute_result"
    }
   ],
   "source": [
    "search_locn= driver.find_element('xpath','//*[@id=\"root\"]/div[2]/div[3]/div/div/div[5]/div/div/div/input')\n",
    "search_locn"
   ]
  },
  {
   "cell_type": "code",
   "execution_count": 30,
   "id": "bfc0d834",
   "metadata": {},
   "outputs": [],
   "source": [
    "search_locn.send_keys(\"Bangalore\")"
   ]
  },
  {
   "cell_type": "code",
   "execution_count": 31,
   "id": "03438d96",
   "metadata": {},
   "outputs": [
    {
     "data": {
      "text/plain": [
       "<selenium.webdriver.remote.webelement.WebElement (session=\"f1694ab7ac32e18836b1ccf9b21bbe46\", element=\"d2023f94-d824-4fbc-a74b-b1e1aa1fd471\")>"
      ]
     },
     "execution_count": 31,
     "metadata": {},
     "output_type": "execute_result"
    }
   ],
   "source": [
    "search_btn= driver.find_element('xpath','/html/body/div[1]/div[2]/div[3]/div/div/div[6]')\n",
    "search_btn "
   ]
  },
  {
   "cell_type": "code",
   "execution_count": 32,
   "id": "42d8cbb6",
   "metadata": {},
   "outputs": [],
   "source": [
    "search_btn.click()"
   ]
  },
  {
   "cell_type": "code",
   "execution_count": 33,
   "id": "860f6888",
   "metadata": {},
   "outputs": [
    {
     "data": {
      "text/plain": [
       "20"
      ]
     },
     "execution_count": 33,
     "metadata": {},
     "output_type": "execute_result"
    }
   ],
   "source": [
    "title_t=driver.find_elements('xpath','//a[@class=\"title fw500 ellipsis\"]')\n",
    "len(title_t)"
   ]
  },
  {
   "cell_type": "code",
   "execution_count": 34,
   "id": "4b35fd81",
   "metadata": {},
   "outputs": [
    {
     "data": {
      "text/plain": [
       "10"
      ]
     },
     "execution_count": 34,
     "metadata": {},
     "output_type": "execute_result"
    }
   ],
   "source": [
    "job_t=[]\n",
    "for i in title_t:\n",
    "    job_t.append(i.text)\n",
    "    if len(job_t)==10:\n",
    "        break\n",
    "    \n",
    "len(job_t)"
   ]
  },
  {
   "cell_type": "code",
   "execution_count": 35,
   "id": "f6434ca8",
   "metadata": {},
   "outputs": [
    {
     "data": {
      "text/plain": [
       "['Data Science Senior Analyst',\n",
       " 'Data Scientist - II',\n",
       " 'Urgent Job Opening For AI Practitioner - Data Science at Wipro Holmes',\n",
       " 'Data Scientist',\n",
       " 'Data Scientist',\n",
       " 'Data Scientist',\n",
       " 'Data Scientist',\n",
       " 'Sr Data Scientist',\n",
       " 'Data Scientist',\n",
       " 'Data Scientist']"
      ]
     },
     "execution_count": 35,
     "metadata": {},
     "output_type": "execute_result"
    }
   ],
   "source": [
    "job_t"
   ]
  },
  {
   "cell_type": "code",
   "execution_count": 36,
   "id": "0af07264",
   "metadata": {},
   "outputs": [
    {
     "data": {
      "text/plain": [
       "20"
      ]
     },
     "execution_count": 36,
     "metadata": {},
     "output_type": "execute_result"
    }
   ],
   "source": [
    "locn_t=driver.find_elements('xpath','//li[@class=\"fleft grey-text br2 placeHolderLi location\"]')\n",
    "len(locn_t)"
   ]
  },
  {
   "cell_type": "code",
   "execution_count": 37,
   "id": "5916e0be",
   "metadata": {},
   "outputs": [
    {
     "data": {
      "text/plain": [
       "10"
      ]
     },
     "execution_count": 37,
     "metadata": {},
     "output_type": "execute_result"
    }
   ],
   "source": [
    "loc_t=[]\n",
    "for i in locn_t:\n",
    "    loc_t.append(i.text)\n",
    "    if len(loc_t)==10:\n",
    "        break\n",
    "    \n",
    "len(loc_t)"
   ]
  },
  {
   "cell_type": "code",
   "execution_count": 38,
   "id": "175ee73d",
   "metadata": {},
   "outputs": [
    {
     "data": {
      "text/plain": [
       "['Bangalore/Bengaluru, Kolkata, Mumbai, Hyderabad/Secunderabad, Pune, Chennai, delhi ncr',\n",
       " 'Bangalore/Bengaluru, India, Mumbai (All Areas)',\n",
       " 'Bangalore/Bengaluru, Kochi/Cochin, New Delhi, Coimbatore, Chennai, Pune, Mumbai, Hyderabad',\n",
       " 'Bangalore/Bengaluru',\n",
       " 'Bangalore/Bengaluru',\n",
       " 'Bangalore/Bengaluru',\n",
       " 'Bangalore/Bengaluru',\n",
       " 'Bangalore/Bengaluru',\n",
       " 'Bangalore/Bengaluru',\n",
       " 'Bangalore/Bengaluru']"
      ]
     },
     "execution_count": 38,
     "metadata": {},
     "output_type": "execute_result"
    }
   ],
   "source": [
    "loc_t"
   ]
  },
  {
   "cell_type": "code",
   "execution_count": 39,
   "id": "7dd491f0",
   "metadata": {},
   "outputs": [
    {
     "data": {
      "text/plain": [
       "20"
      ]
     },
     "execution_count": 39,
     "metadata": {},
     "output_type": "execute_result"
    }
   ],
   "source": [
    "comp_t=driver.find_elements('xpath','//a[@class=\"subTitle ellipsis fleft\"]')\n",
    "len(comp_t)"
   ]
  },
  {
   "cell_type": "code",
   "execution_count": 40,
   "id": "02bc6683",
   "metadata": {},
   "outputs": [
    {
     "data": {
      "text/plain": [
       "10"
      ]
     },
     "execution_count": 40,
     "metadata": {},
     "output_type": "execute_result"
    }
   ],
   "source": [
    "company_t=[]\n",
    "for i in comp_t:\n",
    "    company_t.append(i.text)\n",
    "    if len(company_t)==10:\n",
    "        break\n",
    "    \n",
    "len(company_t)"
   ]
  },
  {
   "cell_type": "code",
   "execution_count": 41,
   "id": "1dd5250a",
   "metadata": {},
   "outputs": [
    {
     "data": {
      "text/plain": [
       "['Accenture',\n",
       " 'SMARTPADDLE TECHNOLOGY PVT. LTD.',\n",
       " 'Wipro',\n",
       " 'Applied Materials',\n",
       " 'Applied Materials',\n",
       " 'Applied Materials',\n",
       " 'Applied Materials',\n",
       " 'Caterpillar Inc',\n",
       " 'Applied Materials',\n",
       " 'Applied Materials']"
      ]
     },
     "execution_count": 41,
     "metadata": {},
     "output_type": "execute_result"
    }
   ],
   "source": [
    "company_t"
   ]
  },
  {
   "cell_type": "code",
   "execution_count": 42,
   "id": "705e6f9d",
   "metadata": {},
   "outputs": [
    {
     "data": {
      "text/html": [
       "<div>\n",
       "<style scoped>\n",
       "    .dataframe tbody tr th:only-of-type {\n",
       "        vertical-align: middle;\n",
       "    }\n",
       "\n",
       "    .dataframe tbody tr th {\n",
       "        vertical-align: top;\n",
       "    }\n",
       "\n",
       "    .dataframe thead th {\n",
       "        text-align: right;\n",
       "    }\n",
       "</style>\n",
       "<table border=\"1\" class=\"dataframe\">\n",
       "  <thead>\n",
       "    <tr style=\"text-align: right;\">\n",
       "      <th></th>\n",
       "      <th>Job Title</th>\n",
       "      <th>Location</th>\n",
       "      <th>Company</th>\n",
       "    </tr>\n",
       "  </thead>\n",
       "  <tbody>\n",
       "    <tr>\n",
       "      <th>0</th>\n",
       "      <td>Data Science Senior Analyst</td>\n",
       "      <td>Bangalore/Bengaluru, Kolkata, Mumbai, Hyderaba...</td>\n",
       "      <td>Accenture</td>\n",
       "    </tr>\n",
       "    <tr>\n",
       "      <th>1</th>\n",
       "      <td>Data Scientist - II</td>\n",
       "      <td>Bangalore/Bengaluru, India, Mumbai (All Areas)</td>\n",
       "      <td>SMARTPADDLE TECHNOLOGY PVT. LTD.</td>\n",
       "    </tr>\n",
       "    <tr>\n",
       "      <th>2</th>\n",
       "      <td>Urgent Job Opening For AI Practitioner - Data ...</td>\n",
       "      <td>Bangalore/Bengaluru, Kochi/Cochin, New Delhi, ...</td>\n",
       "      <td>Wipro</td>\n",
       "    </tr>\n",
       "    <tr>\n",
       "      <th>3</th>\n",
       "      <td>Data Scientist</td>\n",
       "      <td>Bangalore/Bengaluru</td>\n",
       "      <td>Applied Materials</td>\n",
       "    </tr>\n",
       "    <tr>\n",
       "      <th>4</th>\n",
       "      <td>Data Scientist</td>\n",
       "      <td>Bangalore/Bengaluru</td>\n",
       "      <td>Applied Materials</td>\n",
       "    </tr>\n",
       "    <tr>\n",
       "      <th>5</th>\n",
       "      <td>Data Scientist</td>\n",
       "      <td>Bangalore/Bengaluru</td>\n",
       "      <td>Applied Materials</td>\n",
       "    </tr>\n",
       "    <tr>\n",
       "      <th>6</th>\n",
       "      <td>Data Scientist</td>\n",
       "      <td>Bangalore/Bengaluru</td>\n",
       "      <td>Applied Materials</td>\n",
       "    </tr>\n",
       "    <tr>\n",
       "      <th>7</th>\n",
       "      <td>Sr Data Scientist</td>\n",
       "      <td>Bangalore/Bengaluru</td>\n",
       "      <td>Caterpillar Inc</td>\n",
       "    </tr>\n",
       "    <tr>\n",
       "      <th>8</th>\n",
       "      <td>Data Scientist</td>\n",
       "      <td>Bangalore/Bengaluru</td>\n",
       "      <td>Applied Materials</td>\n",
       "    </tr>\n",
       "    <tr>\n",
       "      <th>9</th>\n",
       "      <td>Data Scientist</td>\n",
       "      <td>Bangalore/Bengaluru</td>\n",
       "      <td>Applied Materials</td>\n",
       "    </tr>\n",
       "  </tbody>\n",
       "</table>\n",
       "</div>"
      ],
      "text/plain": [
       "                                           Job Title  \\\n",
       "0                        Data Science Senior Analyst   \n",
       "1                                Data Scientist - II   \n",
       "2  Urgent Job Opening For AI Practitioner - Data ...   \n",
       "3                                     Data Scientist   \n",
       "4                                     Data Scientist   \n",
       "5                                     Data Scientist   \n",
       "6                                     Data Scientist   \n",
       "7                                  Sr Data Scientist   \n",
       "8                                     Data Scientist   \n",
       "9                                     Data Scientist   \n",
       "\n",
       "                                            Location  \\\n",
       "0  Bangalore/Bengaluru, Kolkata, Mumbai, Hyderaba...   \n",
       "1     Bangalore/Bengaluru, India, Mumbai (All Areas)   \n",
       "2  Bangalore/Bengaluru, Kochi/Cochin, New Delhi, ...   \n",
       "3                                Bangalore/Bengaluru   \n",
       "4                                Bangalore/Bengaluru   \n",
       "5                                Bangalore/Bengaluru   \n",
       "6                                Bangalore/Bengaluru   \n",
       "7                                Bangalore/Bengaluru   \n",
       "8                                Bangalore/Bengaluru   \n",
       "9                                Bangalore/Bengaluru   \n",
       "\n",
       "                            Company  \n",
       "0                         Accenture  \n",
       "1  SMARTPADDLE TECHNOLOGY PVT. LTD.  \n",
       "2                             Wipro  \n",
       "3                 Applied Materials  \n",
       "4                 Applied Materials  \n",
       "5                 Applied Materials  \n",
       "6                 Applied Materials  \n",
       "7                   Caterpillar Inc  \n",
       "8                 Applied Materials  \n",
       "9                 Applied Materials  "
      ]
     },
     "execution_count": 42,
     "metadata": {},
     "output_type": "execute_result"
    }
   ],
   "source": [
    "job_details=pd.DataFrame()\n",
    "job_details['Job Title']= job_t\n",
    "job_details['Location']=loc_t\n",
    "job_details['Company']=company_t\n",
    "job_details"
   ]
  },
  {
   "cell_type": "code",
   "execution_count": 43,
   "id": "d5801ba9",
   "metadata": {},
   "outputs": [],
   "source": [
    "#Q3\n",
    "driver= webdriver.Chrome(r'C:\\Users\\sofiy\\Downloads\\chromedriver_win32 (1)\\chromedriver.exe')"
   ]
  },
  {
   "cell_type": "code",
   "execution_count": 44,
   "id": "31621843",
   "metadata": {},
   "outputs": [],
   "source": [
    "url='https://www.naukri.com/'\n",
    "driver.get(url)"
   ]
  },
  {
   "cell_type": "code",
   "execution_count": 45,
   "id": "0888c890",
   "metadata": {},
   "outputs": [
    {
     "data": {
      "text/plain": [
       "<selenium.webdriver.remote.webelement.WebElement (session=\"cf3ee5d8b57e5688ad6e8cb848a5639e\", element=\"65d7213b-b0b1-4ea3-8fe8-9b670aae2d92\")>"
      ]
     },
     "execution_count": 45,
     "metadata": {},
     "output_type": "execute_result"
    }
   ],
   "source": [
    "search_jobtab=driver.find_element(\"xpath\", '//*[@id=\"root\"]/div[2]/div[3]/div/div/div[1]/div/div/div/input')\n",
    "search_jobtab "
   ]
  },
  {
   "cell_type": "code",
   "execution_count": 46,
   "id": "6e325ddf",
   "metadata": {},
   "outputs": [],
   "source": [
    "search_jobtab.send_keys(\"Data Scientist\")"
   ]
  },
  {
   "cell_type": "code",
   "execution_count": 47,
   "id": "bd0a29da",
   "metadata": {},
   "outputs": [
    {
     "data": {
      "text/plain": [
       "<selenium.webdriver.remote.webelement.WebElement (session=\"cf3ee5d8b57e5688ad6e8cb848a5639e\", element=\"acc327e8-6254-471a-8d95-ef38d2242a15\")>"
      ]
     },
     "execution_count": 47,
     "metadata": {},
     "output_type": "execute_result"
    }
   ],
   "source": [
    "search_btn= driver.find_element('xpath','/html/body/div[1]/div[2]/div[3]/div/div/div[6]')\n",
    "search_btn  "
   ]
  },
  {
   "cell_type": "code",
   "execution_count": 48,
   "id": "dbc2d8dd",
   "metadata": {},
   "outputs": [],
   "source": [
    "search_btn.click()"
   ]
  },
  {
   "cell_type": "code",
   "execution_count": 50,
   "id": "2e8cf5fa",
   "metadata": {},
   "outputs": [
    {
     "data": {
      "text/plain": [
       "<selenium.webdriver.remote.webelement.WebElement (session=\"cf3ee5d8b57e5688ad6e8cb848a5639e\", element=\"40422ce9-da35-475c-a723-9c2c69d41ed1\")>"
      ]
     },
     "execution_count": 50,
     "metadata": {},
     "output_type": "execute_result"
    }
   ],
   "source": [
    "location_filter=driver.find_element('xpath','/html/body/div[1]/div[3]/div[2]/section[1]/div[2]/div[5]/div[2]/div[3]/label/i')\n",
    "location_filter"
   ]
  },
  {
   "cell_type": "code",
   "execution_count": 51,
   "id": "47a78456",
   "metadata": {},
   "outputs": [],
   "source": [
    "location_filter.click()"
   ]
  },
  {
   "cell_type": "code",
   "execution_count": 54,
   "id": "57850c7e",
   "metadata": {
    "scrolled": true
   },
   "outputs": [
    {
     "data": {
      "text/plain": [
       "<selenium.webdriver.remote.webelement.WebElement (session=\"cf3ee5d8b57e5688ad6e8cb848a5639e\", element=\"1c1d1843-c218-4704-87b2-57a27e9f4d14\")>"
      ]
     },
     "execution_count": 54,
     "metadata": {},
     "output_type": "execute_result"
    }
   ],
   "source": [
    "salary_filter=driver.find_element('xpath','/html/body/div[1]/div[3]/div[2]/section[1]/div[2]/div[6]/div[2]/div[2]/label/i')\n",
    "salary_filter "
   ]
  },
  {
   "cell_type": "code",
   "execution_count": 55,
   "id": "f9d655c9",
   "metadata": {},
   "outputs": [],
   "source": [
    "salary_filter.click()"
   ]
  },
  {
   "cell_type": "code",
   "execution_count": 56,
   "id": "9fc6d6a4",
   "metadata": {},
   "outputs": [
    {
     "data": {
      "text/plain": [
       "20"
      ]
     },
     "execution_count": 56,
     "metadata": {},
     "output_type": "execute_result"
    }
   ],
   "source": [
    "title_t=driver.find_elements('xpath','//a[@class=\"title fw500 ellipsis\"]')\n",
    "len(title_t)"
   ]
  },
  {
   "cell_type": "code",
   "execution_count": 57,
   "id": "5da0ec38",
   "metadata": {},
   "outputs": [
    {
     "data": {
      "text/plain": [
       "['Data Scientist - Noida/Bangalore',\n",
       " 'DigitalBCG GAMMA Data Scientist',\n",
       " 'Senior Associate - Data Science',\n",
       " 'Data Scientist For Healthcare Product team',\n",
       " 'Data Scientist For Healthcare Product team',\n",
       " 'Data Scientist - MIND Infotech',\n",
       " 'Data Scientist - Engine Algorithm',\n",
       " 'Data Science Associate',\n",
       " 'Data Scientist',\n",
       " 'Data Scientist']"
      ]
     },
     "execution_count": 57,
     "metadata": {},
     "output_type": "execute_result"
    }
   ],
   "source": [
    "job_t=[]\n",
    "for i in title_t:\n",
    "    job_t.append(i.text)\n",
    "    if len(job_t)==10:\n",
    "        break\n",
    "    \n",
    "job_t"
   ]
  },
  {
   "cell_type": "code",
   "execution_count": 58,
   "id": "5d8d5b30",
   "metadata": {},
   "outputs": [
    {
     "data": {
      "text/plain": [
       "20"
      ]
     },
     "execution_count": 58,
     "metadata": {},
     "output_type": "execute_result"
    }
   ],
   "source": [
    "comp_t=driver.find_elements('xpath','//a[@class=\"subTitle ellipsis fleft\"]')\n",
    "len(comp_t)"
   ]
  },
  {
   "cell_type": "code",
   "execution_count": 59,
   "id": "81e3fc88",
   "metadata": {},
   "outputs": [
    {
     "data": {
      "text/plain": [
       "['EXL',\n",
       " 'Boston Consulting Group',\n",
       " 'Black Turtle',\n",
       " 'SECUREKLOUD TECHNOLOGIES',\n",
       " 'SECUREKLOUD TECHNOLOGIES',\n",
       " 'MOTHERSONSUMI INFOTECH & DESIGNS LIMITED',\n",
       " 'Primo Hiring',\n",
       " 'Kreate Energy',\n",
       " 'Mount Talent Consulting Private Limited',\n",
       " 'Mount Talent Consulting Private Limited']"
      ]
     },
     "execution_count": 59,
     "metadata": {},
     "output_type": "execute_result"
    }
   ],
   "source": [
    "company_t=[]\n",
    "for i in comp_t:\n",
    "    company_t.append(i.text)\n",
    "    if len(company_t)==10:\n",
    "        break\n",
    "    \n",
    "company_t"
   ]
  },
  {
   "cell_type": "code",
   "execution_count": 60,
   "id": "f2ba984c",
   "metadata": {},
   "outputs": [
    {
     "data": {
      "text/plain": [
       "20"
      ]
     },
     "execution_count": 60,
     "metadata": {},
     "output_type": "execute_result"
    }
   ],
   "source": [
    "experience_t=driver.find_elements('xpath','//li[@class=\"fleft grey-text br2 placeHolderLi experience\"]')\n",
    "len(experience_t)"
   ]
  },
  {
   "cell_type": "code",
   "execution_count": 61,
   "id": "9c48840e",
   "metadata": {},
   "outputs": [
    {
     "data": {
      "text/plain": [
       "['5-10 Yrs',\n",
       " '2-5 Yrs',\n",
       " '4-7 Yrs',\n",
       " '2-7 Yrs',\n",
       " '2-7 Yrs',\n",
       " '4-8 Yrs',\n",
       " '1-3 Yrs',\n",
       " '2-4 Yrs',\n",
       " '2-4 Yrs',\n",
       " '2-4 Yrs']"
      ]
     },
     "execution_count": 61,
     "metadata": {},
     "output_type": "execute_result"
    }
   ],
   "source": [
    "exper_t=[]\n",
    "for i in experience_t:\n",
    "    exper_t.append(i.text)\n",
    "    if len(exper_t)==10:\n",
    "        break\n",
    "    \n",
    "exper_t"
   ]
  },
  {
   "cell_type": "code",
   "execution_count": 62,
   "id": "42da68bc",
   "metadata": {},
   "outputs": [
    {
     "data": {
      "text/plain": [
       "20"
      ]
     },
     "execution_count": 62,
     "metadata": {},
     "output_type": "execute_result"
    }
   ],
   "source": [
    "locn_t=driver.find_elements('xpath','//li[@class=\"fleft grey-text br2 placeHolderLi location\"]')\n",
    "len(locn_t)"
   ]
  },
  {
   "cell_type": "code",
   "execution_count": 63,
   "id": "a3ff7e30",
   "metadata": {},
   "outputs": [
    {
     "data": {
      "text/plain": [
       "['Noida, Bangalore/Bengaluru',\n",
       " 'New Delhi, Bangalore/Bengaluru',\n",
       " 'Mumbai, Hyderabad/Secunderabad, Gurgaon/Gurugram, Bangalore/Bengaluru',\n",
       " 'Delhi / NCR, Chennai, Bangalore/Bengaluru',\n",
       " 'Delhi / NCR, Chennai, Bangalore/Bengaluru',\n",
       " 'Noida',\n",
       " 'Delhi / NCR, Kolkata, Mumbai, Hyderabad/Secunderabad, Lucknow, Chennai, Ahmedabad, Bangalore/Bengaluru',\n",
       " 'Delhi / NCR(Vaishali)',\n",
       " 'Delhi / NCR, Pune, Bangalore/Bengaluru',\n",
       " 'Delhi / NCR, Pune, Bangalore/Bengaluru']"
      ]
     },
     "execution_count": 63,
     "metadata": {},
     "output_type": "execute_result"
    }
   ],
   "source": [
    "location_t=[]\n",
    "for i in locn_t:\n",
    "    location_t.append(i.text)\n",
    "    if len(location_t)==10:\n",
    "        break\n",
    "    \n",
    "location_t"
   ]
  },
  {
   "cell_type": "code",
   "execution_count": 64,
   "id": "98eb0bc3",
   "metadata": {},
   "outputs": [
    {
     "data": {
      "text/html": [
       "<div>\n",
       "<style scoped>\n",
       "    .dataframe tbody tr th:only-of-type {\n",
       "        vertical-align: middle;\n",
       "    }\n",
       "\n",
       "    .dataframe tbody tr th {\n",
       "        vertical-align: top;\n",
       "    }\n",
       "\n",
       "    .dataframe thead th {\n",
       "        text-align: right;\n",
       "    }\n",
       "</style>\n",
       "<table border=\"1\" class=\"dataframe\">\n",
       "  <thead>\n",
       "    <tr style=\"text-align: right;\">\n",
       "      <th></th>\n",
       "      <th>Job Title</th>\n",
       "      <th>Company</th>\n",
       "      <th>Experience</th>\n",
       "      <th>Location</th>\n",
       "    </tr>\n",
       "  </thead>\n",
       "  <tbody>\n",
       "    <tr>\n",
       "      <th>0</th>\n",
       "      <td>Data Scientist - Noida/Bangalore</td>\n",
       "      <td>EXL</td>\n",
       "      <td>5-10 Yrs</td>\n",
       "      <td>Noida, Bangalore/Bengaluru</td>\n",
       "    </tr>\n",
       "    <tr>\n",
       "      <th>1</th>\n",
       "      <td>DigitalBCG GAMMA Data Scientist</td>\n",
       "      <td>Boston Consulting Group</td>\n",
       "      <td>2-5 Yrs</td>\n",
       "      <td>New Delhi, Bangalore/Bengaluru</td>\n",
       "    </tr>\n",
       "    <tr>\n",
       "      <th>2</th>\n",
       "      <td>Senior Associate - Data Science</td>\n",
       "      <td>Black Turtle</td>\n",
       "      <td>4-7 Yrs</td>\n",
       "      <td>Mumbai, Hyderabad/Secunderabad, Gurgaon/Gurugr...</td>\n",
       "    </tr>\n",
       "    <tr>\n",
       "      <th>3</th>\n",
       "      <td>Data Scientist For Healthcare Product team</td>\n",
       "      <td>SECUREKLOUD TECHNOLOGIES</td>\n",
       "      <td>2-7 Yrs</td>\n",
       "      <td>Delhi / NCR, Chennai, Bangalore/Bengaluru</td>\n",
       "    </tr>\n",
       "    <tr>\n",
       "      <th>4</th>\n",
       "      <td>Data Scientist For Healthcare Product team</td>\n",
       "      <td>SECUREKLOUD TECHNOLOGIES</td>\n",
       "      <td>2-7 Yrs</td>\n",
       "      <td>Delhi / NCR, Chennai, Bangalore/Bengaluru</td>\n",
       "    </tr>\n",
       "    <tr>\n",
       "      <th>5</th>\n",
       "      <td>Data Scientist - MIND Infotech</td>\n",
       "      <td>MOTHERSONSUMI INFOTECH &amp; DESIGNS LIMITED</td>\n",
       "      <td>4-8 Yrs</td>\n",
       "      <td>Noida</td>\n",
       "    </tr>\n",
       "    <tr>\n",
       "      <th>6</th>\n",
       "      <td>Data Scientist - Engine Algorithm</td>\n",
       "      <td>Primo Hiring</td>\n",
       "      <td>1-3 Yrs</td>\n",
       "      <td>Delhi / NCR, Kolkata, Mumbai, Hyderabad/Secund...</td>\n",
       "    </tr>\n",
       "    <tr>\n",
       "      <th>7</th>\n",
       "      <td>Data Science Associate</td>\n",
       "      <td>Kreate Energy</td>\n",
       "      <td>2-4 Yrs</td>\n",
       "      <td>Delhi / NCR(Vaishali)</td>\n",
       "    </tr>\n",
       "    <tr>\n",
       "      <th>8</th>\n",
       "      <td>Data Scientist</td>\n",
       "      <td>Mount Talent Consulting Private Limited</td>\n",
       "      <td>2-4 Yrs</td>\n",
       "      <td>Delhi / NCR, Pune, Bangalore/Bengaluru</td>\n",
       "    </tr>\n",
       "    <tr>\n",
       "      <th>9</th>\n",
       "      <td>Data Scientist</td>\n",
       "      <td>Mount Talent Consulting Private Limited</td>\n",
       "      <td>2-4 Yrs</td>\n",
       "      <td>Delhi / NCR, Pune, Bangalore/Bengaluru</td>\n",
       "    </tr>\n",
       "  </tbody>\n",
       "</table>\n",
       "</div>"
      ],
      "text/plain": [
       "                                    Job Title  \\\n",
       "0            Data Scientist - Noida/Bangalore   \n",
       "1             DigitalBCG GAMMA Data Scientist   \n",
       "2             Senior Associate - Data Science   \n",
       "3  Data Scientist For Healthcare Product team   \n",
       "4  Data Scientist For Healthcare Product team   \n",
       "5              Data Scientist - MIND Infotech   \n",
       "6           Data Scientist - Engine Algorithm   \n",
       "7                      Data Science Associate   \n",
       "8                              Data Scientist   \n",
       "9                              Data Scientist   \n",
       "\n",
       "                                    Company Experience  \\\n",
       "0                                       EXL   5-10 Yrs   \n",
       "1                   Boston Consulting Group    2-5 Yrs   \n",
       "2                              Black Turtle    4-7 Yrs   \n",
       "3                  SECUREKLOUD TECHNOLOGIES    2-7 Yrs   \n",
       "4                  SECUREKLOUD TECHNOLOGIES    2-7 Yrs   \n",
       "5  MOTHERSONSUMI INFOTECH & DESIGNS LIMITED    4-8 Yrs   \n",
       "6                              Primo Hiring    1-3 Yrs   \n",
       "7                             Kreate Energy    2-4 Yrs   \n",
       "8   Mount Talent Consulting Private Limited    2-4 Yrs   \n",
       "9   Mount Talent Consulting Private Limited    2-4 Yrs   \n",
       "\n",
       "                                            Location  \n",
       "0                         Noida, Bangalore/Bengaluru  \n",
       "1                     New Delhi, Bangalore/Bengaluru  \n",
       "2  Mumbai, Hyderabad/Secunderabad, Gurgaon/Gurugr...  \n",
       "3          Delhi / NCR, Chennai, Bangalore/Bengaluru  \n",
       "4          Delhi / NCR, Chennai, Bangalore/Bengaluru  \n",
       "5                                              Noida  \n",
       "6  Delhi / NCR, Kolkata, Mumbai, Hyderabad/Secund...  \n",
       "7                              Delhi / NCR(Vaishali)  \n",
       "8             Delhi / NCR, Pune, Bangalore/Bengaluru  \n",
       "9             Delhi / NCR, Pune, Bangalore/Bengaluru  "
      ]
     },
     "execution_count": 64,
     "metadata": {},
     "output_type": "execute_result"
    }
   ],
   "source": [
    "job=pd.DataFrame()\n",
    "job['Job Title']= job_t\n",
    "job['Company']=company_t\n",
    "job['Experience']=exper_t\n",
    "job['Location']=location_t\n",
    "job"
   ]
  },
  {
   "cell_type": "code",
   "execution_count": 65,
   "id": "a29b21f1",
   "metadata": {},
   "outputs": [],
   "source": [
    "#Q4\n",
    "driver= webdriver.Chrome(r'C:\\Users\\sofiy\\Downloads\\chromedriver_win32 (1)\\chromedriver.exe')"
   ]
  },
  {
   "cell_type": "code",
   "execution_count": 66,
   "id": "3dcb584c",
   "metadata": {},
   "outputs": [],
   "source": [
    "url='https://www.flipkart.com/'\n",
    "driver.get(url)"
   ]
  },
  {
   "cell_type": "code",
   "execution_count": 67,
   "id": "a6169762",
   "metadata": {},
   "outputs": [
    {
     "data": {
      "text/plain": [
       "<selenium.webdriver.remote.webelement.WebElement (session=\"8f2d529429181dea9cb2b241d8b6a8fc\", element=\"90f5bec3-64ae-42bc-a42f-97c7c5c5eff1\")>"
      ]
     },
     "execution_count": 67,
     "metadata": {},
     "output_type": "execute_result"
    }
   ],
   "source": [
    "search_bar=driver.find_element(\"xpath\", '//*[@id=\"container\"]/div/div[1]/div[1]/div[2]/div[2]/form/div/div/input')\n",
    "search_bar"
   ]
  },
  {
   "cell_type": "code",
   "execution_count": 68,
   "id": "690fa2ec",
   "metadata": {},
   "outputs": [],
   "source": [
    "search_bar.send_keys(\"sunglasses\")"
   ]
  },
  {
   "cell_type": "code",
   "execution_count": 71,
   "id": "a8d51072",
   "metadata": {},
   "outputs": [
    {
     "data": {
      "text/plain": [
       "<selenium.webdriver.remote.webelement.WebElement (session=\"8f2d529429181dea9cb2b241d8b6a8fc\", element=\"b7ebec09-c659-440c-beaf-3418c15c25c4\")>"
      ]
     },
     "execution_count": 71,
     "metadata": {},
     "output_type": "execute_result"
    }
   ],
   "source": [
    "search_btn= driver.find_element('xpath','/html/body/div[1]/div/div[1]/div[1]/div[2]/div[2]/form/div/button')\n",
    "search_btn "
   ]
  },
  {
   "cell_type": "code",
   "execution_count": 72,
   "id": "0669f329",
   "metadata": {},
   "outputs": [],
   "source": [
    "search_btn.click()"
   ]
  },
  {
   "cell_type": "code",
   "execution_count": 73,
   "id": "94599c93",
   "metadata": {},
   "outputs": [
    {
     "data": {
      "text/plain": [
       "40"
      ]
     },
     "execution_count": 73,
     "metadata": {},
     "output_type": "execute_result"
    }
   ],
   "source": [
    "brand_n=driver.find_elements('xpath','//div[@class=\"_2WkVRV\"]')\n",
    "len(brand_n)"
   ]
  },
  {
   "cell_type": "code",
   "execution_count": 74,
   "id": "48ed622c",
   "metadata": {},
   "outputs": [
    {
     "data": {
      "text/plain": [
       "['VINCENT CHASE',\n",
       " 'VINCENT CHASE',\n",
       " 'DAHAAZIL',\n",
       " 'Fastrack',\n",
       " 'New Specs',\n",
       " 'PIRASO',\n",
       " 'Fastrack',\n",
       " 'VINCENT CHASE',\n",
       " 'ROZZETTA CRAFT',\n",
       " 'Elligator',\n",
       " 'SUNBEE',\n",
       " 'VINCENT CHASE',\n",
       " 'ROZZETTA CRAFT',\n",
       " 'Fastrack',\n",
       " 'SUNBEE',\n",
       " 'VINCENT CHASE',\n",
       " 'PIRASO',\n",
       " 'PIRASO',\n",
       " 'PIRASO',\n",
       " 'VINCENT CHASE',\n",
       " 'NuVew',\n",
       " 'Fastrack',\n",
       " 'SHAAH COLLECTIONS',\n",
       " 'VINCENT CHASE',\n",
       " 'Rich Club',\n",
       " 'PIRASO',\n",
       " 'DEIXELS',\n",
       " 'VINCENT CHASE',\n",
       " 'SHAAH COLLECTIONS',\n",
       " 'CRYSTAL CART',\n",
       " 'HAMIW COLLECTION',\n",
       " 'VINCENT CHASE',\n",
       " 'Fastrack',\n",
       " 'CRYSTAL CART',\n",
       " 'ROZZETTA CRAFT',\n",
       " 'VINCENT CHASE',\n",
       " 'Fastrack',\n",
       " 'Lee Topper',\n",
       " 'Sewell',\n",
       " 'VINCENT CHASE']"
      ]
     },
     "execution_count": 74,
     "metadata": {},
     "output_type": "execute_result"
    }
   ],
   "source": [
    "brand=[]\n",
    "for i in brand_n:\n",
    "    brand.append(i.text)\n",
    "    if len(brand)==100:\n",
    "        break\n",
    "    \n",
    "brand"
   ]
  },
  {
   "cell_type": "code",
   "execution_count": 75,
   "id": "f7874784",
   "metadata": {},
   "outputs": [
    {
     "data": {
      "text/plain": [
       "40"
      ]
     },
     "execution_count": 75,
     "metadata": {},
     "output_type": "execute_result"
    }
   ],
   "source": [
    "descript=driver.find_elements('xpath','//a[@class=\"IRpwTa\"]')\n",
    "len(descript)"
   ]
  },
  {
   "cell_type": "code",
   "execution_count": 76,
   "id": "09ebabc0",
   "metadata": {},
   "outputs": [
    {
     "data": {
      "text/plain": [
       "['Polarized, UV Protection Round Sunglasses (50)',\n",
       " 'by Lenskart Polarized, UV Protection Cat-eye Sunglasses...',\n",
       " 'UV Protection, Night Vision, Riding Glasses Wayfarer, W...',\n",
       " 'UV Protection Wayfarer Sunglasses (Free Size)',\n",
       " 'UV Protection Rectangular Sunglasses (Free Size)',\n",
       " 'UV Protection Aviator Sunglasses (58)',\n",
       " 'UV Protection Rectangular Sunglasses (Free Size)',\n",
       " 'by Lenskart Polarized, UV Protection Round Sunglasses (...',\n",
       " 'UV Protection, Gradient Retro Square Sunglasses (Free S...',\n",
       " 'UV Protection Round Sunglasses (54)',\n",
       " 'UV Protection, Polarized Wayfarer Sunglasses (Free Size...',\n",
       " 'by Lenskart UV Protection Rectangular Sunglasses (54)',\n",
       " 'Polarized, Riding Glasses Sports, Wrap-around Sunglasse...',\n",
       " 'UV Protection Shield Sunglasses (Free Size)',\n",
       " 'UV Protection, Polarized, Mirrored Retro Square Sunglas...',\n",
       " 'UV Protection Wayfarer Sunglasses (55)',\n",
       " 'UV Protection Aviator Sunglasses (54)',\n",
       " 'UV Protection Retro Square Sunglasses (52)',\n",
       " 'UV Protection Aviator Sunglasses (54)',\n",
       " 'by Lenskart Polarized, UV Protection Rectangular Sungla...',\n",
       " 'UV Protection Sports Sunglasses (62)',\n",
       " 'UV Protection Aviator Sunglasses (Free Size)',\n",
       " 'UV Protection Round Sunglasses (Free Size)',\n",
       " 'by Lenskart Polarized, UV Protection Cat-eye Sunglasses...',\n",
       " 'UV Protection Retro Square Sunglasses (54)',\n",
       " 'UV Protection Wayfarer Sunglasses (32)',\n",
       " 'UV Protection Aviator Sunglasses (Free Size)',\n",
       " 'by Lenskart Polarized, UV Protection Wayfarer Sunglasse...',\n",
       " 'UV Protection, Polarized, Mirrored Rectangular Sunglass...',\n",
       " 'Mirrored, Night Vision Oval Sunglasses (Free Size)',\n",
       " 'UV Protection Wayfarer, Sports, Shield, Rectangular, Re...',\n",
       " 'by Lenskart Polarized, UV Protection Round Sunglasses (...',\n",
       " 'UV Protection Aviator Sunglasses (58)',\n",
       " 'Polarized, UV Protection, Mirrored, Gradient Rectangula...',\n",
       " 'UV Protection, Gradient Rectangular Sunglasses (Free Si...',\n",
       " 'UV Protection Rectangular Sunglasses (52)',\n",
       " 'Gradient, UV Protection Wayfarer Sunglasses (Free Size)',\n",
       " 'Riding Glasses Wrap-around Sunglasses (Free Size)',\n",
       " 'Mirrored, Night Vision, UV Protection, Riding Glasses S...',\n",
       " 'by Lenskart Polarized, UV Protection Aviator Sunglasses...']"
      ]
     },
     "execution_count": 76,
     "metadata": {},
     "output_type": "execute_result"
    }
   ],
   "source": [
    "descriptn=[]\n",
    "for i in descript:\n",
    "    descriptn.append(i.text)\n",
    "    if len(descriptn)==100:\n",
    "        break\n",
    "    \n",
    "descriptn"
   ]
  },
  {
   "cell_type": "code",
   "execution_count": 77,
   "id": "3e68d3cb",
   "metadata": {},
   "outputs": [
    {
     "data": {
      "text/plain": [
       "40"
      ]
     },
     "execution_count": 77,
     "metadata": {},
     "output_type": "execute_result"
    }
   ],
   "source": [
    "price_t=driver.find_elements('xpath','//div[@class=\"_30jeq3\"]') \n",
    "len(price_t)"
   ]
  },
  {
   "cell_type": "code",
   "execution_count": 78,
   "id": "e75add47",
   "metadata": {},
   "outputs": [
    {
     "data": {
      "text/plain": [
       "['₹949',\n",
       " '₹949',\n",
       " '₹189',\n",
       " '₹799',\n",
       " '₹265',\n",
       " '₹359',\n",
       " '₹639',\n",
       " '₹849',\n",
       " '₹349',\n",
       " '₹298',\n",
       " '₹268',\n",
       " '₹749',\n",
       " '₹499',\n",
       " '₹719',\n",
       " '₹246',\n",
       " '₹749',\n",
       " '₹249',\n",
       " '₹306',\n",
       " '₹249',\n",
       " '₹749',\n",
       " '₹291',\n",
       " '₹639',\n",
       " '₹265',\n",
       " '₹949',\n",
       " '₹265',\n",
       " '₹226',\n",
       " '₹236',\n",
       " '₹749',\n",
       " '₹185',\n",
       " '₹189',\n",
       " '₹179',\n",
       " '₹999',\n",
       " '₹1,039',\n",
       " '₹529',\n",
       " '₹399',\n",
       " '₹649',\n",
       " '₹719',\n",
       " '₹299',\n",
       " '₹265',\n",
       " '₹949']"
      ]
     },
     "execution_count": 78,
     "metadata": {},
     "output_type": "execute_result"
    }
   ],
   "source": [
    "price=[]\n",
    "for i in price_t:\n",
    "    price.append(i.text)\n",
    "    if len(price)==100:\n",
    "        break\n",
    "    \n",
    "price"
   ]
  },
  {
   "cell_type": "code",
   "execution_count": 79,
   "id": "40a81115",
   "metadata": {
    "scrolled": true
   },
   "outputs": [
    {
     "data": {
      "text/html": [
       "<div>\n",
       "<style scoped>\n",
       "    .dataframe tbody tr th:only-of-type {\n",
       "        vertical-align: middle;\n",
       "    }\n",
       "\n",
       "    .dataframe tbody tr th {\n",
       "        vertical-align: top;\n",
       "    }\n",
       "\n",
       "    .dataframe thead th {\n",
       "        text-align: right;\n",
       "    }\n",
       "</style>\n",
       "<table border=\"1\" class=\"dataframe\">\n",
       "  <thead>\n",
       "    <tr style=\"text-align: right;\">\n",
       "      <th></th>\n",
       "      <th>Product</th>\n",
       "      <th>Product Description</th>\n",
       "      <th>Price</th>\n",
       "    </tr>\n",
       "  </thead>\n",
       "  <tbody>\n",
       "    <tr>\n",
       "      <th>0</th>\n",
       "      <td>VINCENT CHASE</td>\n",
       "      <td>Polarized, UV Protection Round Sunglasses (50)</td>\n",
       "      <td>₹949</td>\n",
       "    </tr>\n",
       "    <tr>\n",
       "      <th>1</th>\n",
       "      <td>VINCENT CHASE</td>\n",
       "      <td>by Lenskart Polarized, UV Protection Cat-eye S...</td>\n",
       "      <td>₹949</td>\n",
       "    </tr>\n",
       "    <tr>\n",
       "      <th>2</th>\n",
       "      <td>DAHAAZIL</td>\n",
       "      <td>UV Protection, Night Vision, Riding Glasses Wa...</td>\n",
       "      <td>₹189</td>\n",
       "    </tr>\n",
       "    <tr>\n",
       "      <th>3</th>\n",
       "      <td>Fastrack</td>\n",
       "      <td>UV Protection Wayfarer Sunglasses (Free Size)</td>\n",
       "      <td>₹799</td>\n",
       "    </tr>\n",
       "    <tr>\n",
       "      <th>4</th>\n",
       "      <td>New Specs</td>\n",
       "      <td>UV Protection Rectangular Sunglasses (Free Size)</td>\n",
       "      <td>₹265</td>\n",
       "    </tr>\n",
       "    <tr>\n",
       "      <th>5</th>\n",
       "      <td>PIRASO</td>\n",
       "      <td>UV Protection Aviator Sunglasses (58)</td>\n",
       "      <td>₹359</td>\n",
       "    </tr>\n",
       "    <tr>\n",
       "      <th>6</th>\n",
       "      <td>Fastrack</td>\n",
       "      <td>UV Protection Rectangular Sunglasses (Free Size)</td>\n",
       "      <td>₹639</td>\n",
       "    </tr>\n",
       "    <tr>\n",
       "      <th>7</th>\n",
       "      <td>VINCENT CHASE</td>\n",
       "      <td>by Lenskart Polarized, UV Protection Round Sun...</td>\n",
       "      <td>₹849</td>\n",
       "    </tr>\n",
       "    <tr>\n",
       "      <th>8</th>\n",
       "      <td>ROZZETTA CRAFT</td>\n",
       "      <td>UV Protection, Gradient Retro Square Sunglasse...</td>\n",
       "      <td>₹349</td>\n",
       "    </tr>\n",
       "    <tr>\n",
       "      <th>9</th>\n",
       "      <td>Elligator</td>\n",
       "      <td>UV Protection Round Sunglasses (54)</td>\n",
       "      <td>₹298</td>\n",
       "    </tr>\n",
       "    <tr>\n",
       "      <th>10</th>\n",
       "      <td>SUNBEE</td>\n",
       "      <td>UV Protection, Polarized Wayfarer Sunglasses (...</td>\n",
       "      <td>₹268</td>\n",
       "    </tr>\n",
       "    <tr>\n",
       "      <th>11</th>\n",
       "      <td>VINCENT CHASE</td>\n",
       "      <td>by Lenskart UV Protection Rectangular Sunglass...</td>\n",
       "      <td>₹749</td>\n",
       "    </tr>\n",
       "    <tr>\n",
       "      <th>12</th>\n",
       "      <td>ROZZETTA CRAFT</td>\n",
       "      <td>Polarized, Riding Glasses Sports, Wrap-around ...</td>\n",
       "      <td>₹499</td>\n",
       "    </tr>\n",
       "    <tr>\n",
       "      <th>13</th>\n",
       "      <td>Fastrack</td>\n",
       "      <td>UV Protection Shield Sunglasses (Free Size)</td>\n",
       "      <td>₹719</td>\n",
       "    </tr>\n",
       "    <tr>\n",
       "      <th>14</th>\n",
       "      <td>SUNBEE</td>\n",
       "      <td>UV Protection, Polarized, Mirrored Retro Squar...</td>\n",
       "      <td>₹246</td>\n",
       "    </tr>\n",
       "    <tr>\n",
       "      <th>15</th>\n",
       "      <td>VINCENT CHASE</td>\n",
       "      <td>UV Protection Wayfarer Sunglasses (55)</td>\n",
       "      <td>₹749</td>\n",
       "    </tr>\n",
       "    <tr>\n",
       "      <th>16</th>\n",
       "      <td>PIRASO</td>\n",
       "      <td>UV Protection Aviator Sunglasses (54)</td>\n",
       "      <td>₹249</td>\n",
       "    </tr>\n",
       "    <tr>\n",
       "      <th>17</th>\n",
       "      <td>PIRASO</td>\n",
       "      <td>UV Protection Retro Square Sunglasses (52)</td>\n",
       "      <td>₹306</td>\n",
       "    </tr>\n",
       "    <tr>\n",
       "      <th>18</th>\n",
       "      <td>PIRASO</td>\n",
       "      <td>UV Protection Aviator Sunglasses (54)</td>\n",
       "      <td>₹249</td>\n",
       "    </tr>\n",
       "    <tr>\n",
       "      <th>19</th>\n",
       "      <td>VINCENT CHASE</td>\n",
       "      <td>by Lenskart Polarized, UV Protection Rectangul...</td>\n",
       "      <td>₹749</td>\n",
       "    </tr>\n",
       "    <tr>\n",
       "      <th>20</th>\n",
       "      <td>NuVew</td>\n",
       "      <td>UV Protection Sports Sunglasses (62)</td>\n",
       "      <td>₹291</td>\n",
       "    </tr>\n",
       "    <tr>\n",
       "      <th>21</th>\n",
       "      <td>Fastrack</td>\n",
       "      <td>UV Protection Aviator Sunglasses (Free Size)</td>\n",
       "      <td>₹639</td>\n",
       "    </tr>\n",
       "    <tr>\n",
       "      <th>22</th>\n",
       "      <td>SHAAH COLLECTIONS</td>\n",
       "      <td>UV Protection Round Sunglasses (Free Size)</td>\n",
       "      <td>₹265</td>\n",
       "    </tr>\n",
       "    <tr>\n",
       "      <th>23</th>\n",
       "      <td>VINCENT CHASE</td>\n",
       "      <td>by Lenskart Polarized, UV Protection Cat-eye S...</td>\n",
       "      <td>₹949</td>\n",
       "    </tr>\n",
       "    <tr>\n",
       "      <th>24</th>\n",
       "      <td>Rich Club</td>\n",
       "      <td>UV Protection Retro Square Sunglasses (54)</td>\n",
       "      <td>₹265</td>\n",
       "    </tr>\n",
       "    <tr>\n",
       "      <th>25</th>\n",
       "      <td>PIRASO</td>\n",
       "      <td>UV Protection Wayfarer Sunglasses (32)</td>\n",
       "      <td>₹226</td>\n",
       "    </tr>\n",
       "    <tr>\n",
       "      <th>26</th>\n",
       "      <td>DEIXELS</td>\n",
       "      <td>UV Protection Aviator Sunglasses (Free Size)</td>\n",
       "      <td>₹236</td>\n",
       "    </tr>\n",
       "    <tr>\n",
       "      <th>27</th>\n",
       "      <td>VINCENT CHASE</td>\n",
       "      <td>by Lenskart Polarized, UV Protection Wayfarer ...</td>\n",
       "      <td>₹749</td>\n",
       "    </tr>\n",
       "    <tr>\n",
       "      <th>28</th>\n",
       "      <td>SHAAH COLLECTIONS</td>\n",
       "      <td>UV Protection, Polarized, Mirrored Rectangular...</td>\n",
       "      <td>₹185</td>\n",
       "    </tr>\n",
       "    <tr>\n",
       "      <th>29</th>\n",
       "      <td>CRYSTAL CART</td>\n",
       "      <td>Mirrored, Night Vision Oval Sunglasses (Free S...</td>\n",
       "      <td>₹189</td>\n",
       "    </tr>\n",
       "    <tr>\n",
       "      <th>30</th>\n",
       "      <td>HAMIW COLLECTION</td>\n",
       "      <td>UV Protection Wayfarer, Sports, Shield, Rectan...</td>\n",
       "      <td>₹179</td>\n",
       "    </tr>\n",
       "    <tr>\n",
       "      <th>31</th>\n",
       "      <td>VINCENT CHASE</td>\n",
       "      <td>by Lenskart Polarized, UV Protection Round Sun...</td>\n",
       "      <td>₹999</td>\n",
       "    </tr>\n",
       "    <tr>\n",
       "      <th>32</th>\n",
       "      <td>Fastrack</td>\n",
       "      <td>UV Protection Aviator Sunglasses (58)</td>\n",
       "      <td>₹1,039</td>\n",
       "    </tr>\n",
       "    <tr>\n",
       "      <th>33</th>\n",
       "      <td>CRYSTAL CART</td>\n",
       "      <td>Polarized, UV Protection, Mirrored, Gradient R...</td>\n",
       "      <td>₹529</td>\n",
       "    </tr>\n",
       "    <tr>\n",
       "      <th>34</th>\n",
       "      <td>ROZZETTA CRAFT</td>\n",
       "      <td>UV Protection, Gradient Rectangular Sunglasses...</td>\n",
       "      <td>₹399</td>\n",
       "    </tr>\n",
       "    <tr>\n",
       "      <th>35</th>\n",
       "      <td>VINCENT CHASE</td>\n",
       "      <td>UV Protection Rectangular Sunglasses (52)</td>\n",
       "      <td>₹649</td>\n",
       "    </tr>\n",
       "    <tr>\n",
       "      <th>36</th>\n",
       "      <td>Fastrack</td>\n",
       "      <td>Gradient, UV Protection Wayfarer Sunglasses (F...</td>\n",
       "      <td>₹719</td>\n",
       "    </tr>\n",
       "    <tr>\n",
       "      <th>37</th>\n",
       "      <td>Lee Topper</td>\n",
       "      <td>Riding Glasses Wrap-around Sunglasses (Free Size)</td>\n",
       "      <td>₹299</td>\n",
       "    </tr>\n",
       "    <tr>\n",
       "      <th>38</th>\n",
       "      <td>Sewell</td>\n",
       "      <td>Mirrored, Night Vision, UV Protection, Riding ...</td>\n",
       "      <td>₹265</td>\n",
       "    </tr>\n",
       "    <tr>\n",
       "      <th>39</th>\n",
       "      <td>VINCENT CHASE</td>\n",
       "      <td>by Lenskart Polarized, UV Protection Aviator S...</td>\n",
       "      <td>₹949</td>\n",
       "    </tr>\n",
       "  </tbody>\n",
       "</table>\n",
       "</div>"
      ],
      "text/plain": [
       "              Product                                Product Description  \\\n",
       "0       VINCENT CHASE     Polarized, UV Protection Round Sunglasses (50)   \n",
       "1       VINCENT CHASE  by Lenskart Polarized, UV Protection Cat-eye S...   \n",
       "2            DAHAAZIL  UV Protection, Night Vision, Riding Glasses Wa...   \n",
       "3            Fastrack      UV Protection Wayfarer Sunglasses (Free Size)   \n",
       "4           New Specs   UV Protection Rectangular Sunglasses (Free Size)   \n",
       "5              PIRASO              UV Protection Aviator Sunglasses (58)   \n",
       "6            Fastrack   UV Protection Rectangular Sunglasses (Free Size)   \n",
       "7       VINCENT CHASE  by Lenskart Polarized, UV Protection Round Sun...   \n",
       "8      ROZZETTA CRAFT  UV Protection, Gradient Retro Square Sunglasse...   \n",
       "9           Elligator                UV Protection Round Sunglasses (54)   \n",
       "10             SUNBEE  UV Protection, Polarized Wayfarer Sunglasses (...   \n",
       "11      VINCENT CHASE  by Lenskart UV Protection Rectangular Sunglass...   \n",
       "12     ROZZETTA CRAFT  Polarized, Riding Glasses Sports, Wrap-around ...   \n",
       "13           Fastrack        UV Protection Shield Sunglasses (Free Size)   \n",
       "14             SUNBEE  UV Protection, Polarized, Mirrored Retro Squar...   \n",
       "15      VINCENT CHASE             UV Protection Wayfarer Sunglasses (55)   \n",
       "16             PIRASO              UV Protection Aviator Sunglasses (54)   \n",
       "17             PIRASO         UV Protection Retro Square Sunglasses (52)   \n",
       "18             PIRASO              UV Protection Aviator Sunglasses (54)   \n",
       "19      VINCENT CHASE  by Lenskart Polarized, UV Protection Rectangul...   \n",
       "20              NuVew               UV Protection Sports Sunglasses (62)   \n",
       "21           Fastrack       UV Protection Aviator Sunglasses (Free Size)   \n",
       "22  SHAAH COLLECTIONS         UV Protection Round Sunglasses (Free Size)   \n",
       "23      VINCENT CHASE  by Lenskart Polarized, UV Protection Cat-eye S...   \n",
       "24          Rich Club         UV Protection Retro Square Sunglasses (54)   \n",
       "25             PIRASO             UV Protection Wayfarer Sunglasses (32)   \n",
       "26            DEIXELS       UV Protection Aviator Sunglasses (Free Size)   \n",
       "27      VINCENT CHASE  by Lenskart Polarized, UV Protection Wayfarer ...   \n",
       "28  SHAAH COLLECTIONS  UV Protection, Polarized, Mirrored Rectangular...   \n",
       "29       CRYSTAL CART  Mirrored, Night Vision Oval Sunglasses (Free S...   \n",
       "30   HAMIW COLLECTION  UV Protection Wayfarer, Sports, Shield, Rectan...   \n",
       "31      VINCENT CHASE  by Lenskart Polarized, UV Protection Round Sun...   \n",
       "32           Fastrack              UV Protection Aviator Sunglasses (58)   \n",
       "33       CRYSTAL CART  Polarized, UV Protection, Mirrored, Gradient R...   \n",
       "34     ROZZETTA CRAFT  UV Protection, Gradient Rectangular Sunglasses...   \n",
       "35      VINCENT CHASE          UV Protection Rectangular Sunglasses (52)   \n",
       "36           Fastrack  Gradient, UV Protection Wayfarer Sunglasses (F...   \n",
       "37         Lee Topper  Riding Glasses Wrap-around Sunglasses (Free Size)   \n",
       "38             Sewell  Mirrored, Night Vision, UV Protection, Riding ...   \n",
       "39      VINCENT CHASE  by Lenskart Polarized, UV Protection Aviator S...   \n",
       "\n",
       "     Price  \n",
       "0     ₹949  \n",
       "1     ₹949  \n",
       "2     ₹189  \n",
       "3     ₹799  \n",
       "4     ₹265  \n",
       "5     ₹359  \n",
       "6     ₹639  \n",
       "7     ₹849  \n",
       "8     ₹349  \n",
       "9     ₹298  \n",
       "10    ₹268  \n",
       "11    ₹749  \n",
       "12    ₹499  \n",
       "13    ₹719  \n",
       "14    ₹246  \n",
       "15    ₹749  \n",
       "16    ₹249  \n",
       "17    ₹306  \n",
       "18    ₹249  \n",
       "19    ₹749  \n",
       "20    ₹291  \n",
       "21    ₹639  \n",
       "22    ₹265  \n",
       "23    ₹949  \n",
       "24    ₹265  \n",
       "25    ₹226  \n",
       "26    ₹236  \n",
       "27    ₹749  \n",
       "28    ₹185  \n",
       "29    ₹189  \n",
       "30    ₹179  \n",
       "31    ₹999  \n",
       "32  ₹1,039  \n",
       "33    ₹529  \n",
       "34    ₹399  \n",
       "35    ₹649  \n",
       "36    ₹719  \n",
       "37    ₹299  \n",
       "38    ₹265  \n",
       "39    ₹949  "
      ]
     },
     "execution_count": 79,
     "metadata": {},
     "output_type": "execute_result"
    }
   ],
   "source": [
    "sunglasses=pd.DataFrame()\n",
    "sunglasses['Product']= brand\n",
    "sunglasses['Product Description']=descriptn\n",
    "sunglasses['Price']=price\n",
    "sunglasses"
   ]
  },
  {
   "cell_type": "code",
   "execution_count": 80,
   "id": "791d4983",
   "metadata": {},
   "outputs": [
    {
     "data": {
      "text/plain": [
       "<selenium.webdriver.remote.webelement.WebElement (session=\"8f2d529429181dea9cb2b241d8b6a8fc\", element=\"3349915e-f739-4332-93af-f14b0456cdcc\")>"
      ]
     },
     "execution_count": 80,
     "metadata": {},
     "output_type": "execute_result"
    }
   ],
   "source": [
    "next_btn= driver.find_element('xpath','/html/body/div[1]/div/div[3]/div[1]/div[2]/div[12]/div/div/nav/a[11]/span')\n",
    "next_btn"
   ]
  },
  {
   "cell_type": "code",
   "execution_count": 81,
   "id": "d6e7b889",
   "metadata": {},
   "outputs": [],
   "source": [
    "next_btn.click()"
   ]
  },
  {
   "cell_type": "code",
   "execution_count": 82,
   "id": "2d07357a",
   "metadata": {},
   "outputs": [
    {
     "data": {
      "text/plain": [
       "40"
      ]
     },
     "execution_count": 82,
     "metadata": {},
     "output_type": "execute_result"
    }
   ],
   "source": [
    "brand_n=driver.find_elements('xpath','//div[@class=\"_2WkVRV\"]')\n",
    "len(brand_n)"
   ]
  },
  {
   "cell_type": "code",
   "execution_count": 83,
   "id": "1f7a4a53",
   "metadata": {},
   "outputs": [
    {
     "data": {
      "text/plain": [
       "['SRPM',\n",
       " 'ROZZETTA CRAFT',\n",
       " 'CRYSTAL CART',\n",
       " 'VINCENT CHASE',\n",
       " 'PIRASO',\n",
       " 'Fastrack',\n",
       " 'IZAAN MART',\n",
       " 'VINCENT CHASE',\n",
       " 'Lee Topper',\n",
       " 'VINCENT CHASE',\n",
       " 'Mi',\n",
       " 'VINCENT CHASE',\n",
       " 'kingsunglasses',\n",
       " 'kingsunglasses',\n",
       " 'ROZZETTA CRAFT',\n",
       " 'CRYSTAL CART',\n",
       " 'VINCENT CHASE',\n",
       " 'Fastrack',\n",
       " 'VINCENT CHASE',\n",
       " 'CRYSTAL CART',\n",
       " 'ROYAL SON',\n",
       " 'SRPM',\n",
       " 'ROZZETTA CRAFT',\n",
       " 'VINCENT CHASE',\n",
       " 'VINCENT CHASE',\n",
       " 'New Specs',\n",
       " 'SUNBEE',\n",
       " 'NuVew',\n",
       " 'Fastrack',\n",
       " 'hipe',\n",
       " 'kingsunglasses',\n",
       " 'elegante',\n",
       " 'Urbanic',\n",
       " 'Elligator',\n",
       " 'kingsunglasses',\n",
       " 'ROZZETTA CRAFT',\n",
       " 'LIZA ANGEL',\n",
       " 'ROYAL SON',\n",
       " 'ROYAL SON',\n",
       " 'Roadster']"
      ]
     },
     "execution_count": 83,
     "metadata": {},
     "output_type": "execute_result"
    }
   ],
   "source": [
    "brand=[]\n",
    "for i in brand_n:\n",
    "    brand.append(i.text)\n",
    "    if len(brand)==100:\n",
    "        break\n",
    "    \n",
    "brand"
   ]
  },
  {
   "cell_type": "code",
   "execution_count": 84,
   "id": "09839a13",
   "metadata": {},
   "outputs": [
    {
     "data": {
      "text/plain": [
       "40"
      ]
     },
     "execution_count": 84,
     "metadata": {},
     "output_type": "execute_result"
    }
   ],
   "source": [
    "descript=driver.find_elements('xpath','//a[@class=\"IRpwTa\"]')\n",
    "len(descript)"
   ]
  },
  {
   "cell_type": "code",
   "execution_count": 85,
   "id": "3e15344a",
   "metadata": {},
   "outputs": [
    {
     "data": {
      "text/plain": [
       "['UV Protection Wayfarer Sunglasses (50)',\n",
       " 'UV Protection Rectangular Sunglasses (Free Size)',\n",
       " 'Polarized, UV Protection, Mirrored, Gradient Rectangula...',\n",
       " 'by Lenskart Polarized, UV Protection Round Sunglasses (...',\n",
       " 'UV Protection Aviator Sunglasses (54)',\n",
       " 'UV Protection Wayfarer Sunglasses (Free Size)',\n",
       " 'UV Protection Rectangular Sunglasses (55)',\n",
       " 'by Lenskart UV Protection Rectangular Sunglasses (54)',\n",
       " 'UV Protection Rectangular Sunglasses (Free Size)',\n",
       " 'Polarized, UV Protection Round Sunglasses (50)',\n",
       " 'Polarized Aviator Sunglasses (Free Size)',\n",
       " 'by Lenskart Polarized, UV Protection Rectangular Sungla...',\n",
       " 'Mirrored, UV Protection Wayfarer Sunglasses (Free Size)',\n",
       " 'UV Protection Round Sunglasses (54)',\n",
       " 'UV Protection, Gradient Round Sunglasses (Free Size)',\n",
       " 'Polarized, Gradient, UV Protection, Mirrored Over-sized...',\n",
       " 'Polarized, UV Protection Rectangular Sunglasses (59)',\n",
       " 'Gradient, UV Protection Wayfarer Sunglasses (Free Size)',\n",
       " 'by Lenskart Polarized, UV Protection Wayfarer Sunglasse...',\n",
       " 'UV Protection, Gradient Round Sunglasses (Free Size)',\n",
       " 'Mirrored Aviator Sunglasses (55)',\n",
       " 'Night Vision, UV Protection Round Sunglasses (54)',\n",
       " 'UV Protection, Gradient Rectangular Sunglasses (Free Si...',\n",
       " 'UV Protection Rectangular Sunglasses (50)',\n",
       " 'by Lenskart Polarized, UV Protection Cat-eye Sunglasses...',\n",
       " 'Mirrored, UV Protection, Riding Glasses, Others Round S...',\n",
       " 'UV Protection, Polarized, Mirrored Wayfarer Sunglasses ...',\n",
       " 'UV Protection Aviator Sunglasses (57)',\n",
       " 'Mirrored, UV Protection Wayfarer Sunglasses (Free Size)',\n",
       " 'Mirrored, Gradient, Riding Glasses Round Sunglasses (55...',\n",
       " 'UV Protection, Mirrored Aviator Sunglasses (Free Size)',\n",
       " 'Polarized, Riding Glasses, Night Vision Sports Sunglass...',\n",
       " 'Others Oval Sunglasses (Free Size)',\n",
       " 'UV Protection Round Sunglasses (53)',\n",
       " 'UV Protection, Riding Glasses, Mirrored Wayfarer Sungla...',\n",
       " 'UV Protection Spectacle Sunglasses (Free Size)',\n",
       " 'Riding Glasses, Night Vision Spectacle Sunglasses (Fre...',\n",
       " 'UV Protection, Gradient Butterfly Sunglasses (62)',\n",
       " 'Polarized, UV Protection Wayfarer, Retro Square Sunglas...',\n",
       " 'Others Aviator Sunglasses (Free Size)']"
      ]
     },
     "execution_count": 85,
     "metadata": {},
     "output_type": "execute_result"
    }
   ],
   "source": [
    "descriptn=[]\n",
    "for i in descript:\n",
    "    descriptn.append(i.text)\n",
    "    if len(descriptn)==100:\n",
    "        break\n",
    "    \n",
    "descriptn"
   ]
  },
  {
   "cell_type": "code",
   "execution_count": 86,
   "id": "25a040cd",
   "metadata": {},
   "outputs": [
    {
     "data": {
      "text/plain": [
       "40"
      ]
     },
     "execution_count": 86,
     "metadata": {},
     "output_type": "execute_result"
    }
   ],
   "source": [
    "price_t=driver.find_elements('xpath','//div[@class=\"_30jeq3\"]') \n",
    "len(price_t)"
   ]
  },
  {
   "cell_type": "code",
   "execution_count": 87,
   "id": "2ba9fed3",
   "metadata": {},
   "outputs": [
    {
     "data": {
      "text/plain": [
       "['₹211',\n",
       " '₹319',\n",
       " '₹529',\n",
       " '₹849',\n",
       " '₹246',\n",
       " '₹759',\n",
       " '₹290',\n",
       " '₹749',\n",
       " '₹219',\n",
       " '₹849',\n",
       " '₹949',\n",
       " '₹749',\n",
       " '₹269',\n",
       " '₹214',\n",
       " '₹399',\n",
       " '₹249',\n",
       " '₹949',\n",
       " '₹719',\n",
       " '₹749',\n",
       " '₹429',\n",
       " '₹379',\n",
       " '₹233',\n",
       " '₹381',\n",
       " '₹649',\n",
       " '₹949',\n",
       " '₹299',\n",
       " '₹268',\n",
       " '₹176',\n",
       " '₹899',\n",
       " '₹210',\n",
       " '₹269',\n",
       " '₹499',\n",
       " '₹524',\n",
       " '₹207',\n",
       " '₹213',\n",
       " '₹339',\n",
       " '₹179',\n",
       " '₹699',\n",
       " '₹664',\n",
       " '₹449']"
      ]
     },
     "execution_count": 87,
     "metadata": {},
     "output_type": "execute_result"
    }
   ],
   "source": [
    "price=[]\n",
    "for i in price_t:\n",
    "    price.append(i.text)\n",
    "    if len(price)==100:\n",
    "        break\n",
    "    \n",
    "price"
   ]
  },
  {
   "cell_type": "code",
   "execution_count": 88,
   "id": "12a8d6a9",
   "metadata": {},
   "outputs": [
    {
     "data": {
      "text/html": [
       "<div>\n",
       "<style scoped>\n",
       "    .dataframe tbody tr th:only-of-type {\n",
       "        vertical-align: middle;\n",
       "    }\n",
       "\n",
       "    .dataframe tbody tr th {\n",
       "        vertical-align: top;\n",
       "    }\n",
       "\n",
       "    .dataframe thead th {\n",
       "        text-align: right;\n",
       "    }\n",
       "</style>\n",
       "<table border=\"1\" class=\"dataframe\">\n",
       "  <thead>\n",
       "    <tr style=\"text-align: right;\">\n",
       "      <th></th>\n",
       "      <th>Product</th>\n",
       "      <th>Product Description</th>\n",
       "      <th>Price</th>\n",
       "    </tr>\n",
       "  </thead>\n",
       "  <tbody>\n",
       "    <tr>\n",
       "      <th>0</th>\n",
       "      <td>SRPM</td>\n",
       "      <td>UV Protection Wayfarer Sunglasses (50)</td>\n",
       "      <td>₹211</td>\n",
       "    </tr>\n",
       "    <tr>\n",
       "      <th>1</th>\n",
       "      <td>ROZZETTA CRAFT</td>\n",
       "      <td>UV Protection Rectangular Sunglasses (Free Size)</td>\n",
       "      <td>₹319</td>\n",
       "    </tr>\n",
       "    <tr>\n",
       "      <th>2</th>\n",
       "      <td>CRYSTAL CART</td>\n",
       "      <td>Polarized, UV Protection, Mirrored, Gradient R...</td>\n",
       "      <td>₹529</td>\n",
       "    </tr>\n",
       "    <tr>\n",
       "      <th>3</th>\n",
       "      <td>VINCENT CHASE</td>\n",
       "      <td>by Lenskart Polarized, UV Protection Round Sun...</td>\n",
       "      <td>₹849</td>\n",
       "    </tr>\n",
       "    <tr>\n",
       "      <th>4</th>\n",
       "      <td>PIRASO</td>\n",
       "      <td>UV Protection Aviator Sunglasses (54)</td>\n",
       "      <td>₹246</td>\n",
       "    </tr>\n",
       "    <tr>\n",
       "      <th>5</th>\n",
       "      <td>Fastrack</td>\n",
       "      <td>UV Protection Wayfarer Sunglasses (Free Size)</td>\n",
       "      <td>₹759</td>\n",
       "    </tr>\n",
       "    <tr>\n",
       "      <th>6</th>\n",
       "      <td>IZAAN MART</td>\n",
       "      <td>UV Protection Rectangular Sunglasses (55)</td>\n",
       "      <td>₹290</td>\n",
       "    </tr>\n",
       "    <tr>\n",
       "      <th>7</th>\n",
       "      <td>VINCENT CHASE</td>\n",
       "      <td>by Lenskart UV Protection Rectangular Sunglass...</td>\n",
       "      <td>₹749</td>\n",
       "    </tr>\n",
       "    <tr>\n",
       "      <th>8</th>\n",
       "      <td>Lee Topper</td>\n",
       "      <td>UV Protection Rectangular Sunglasses (Free Size)</td>\n",
       "      <td>₹219</td>\n",
       "    </tr>\n",
       "    <tr>\n",
       "      <th>9</th>\n",
       "      <td>VINCENT CHASE</td>\n",
       "      <td>Polarized, UV Protection Round Sunglasses (50)</td>\n",
       "      <td>₹849</td>\n",
       "    </tr>\n",
       "    <tr>\n",
       "      <th>10</th>\n",
       "      <td>Mi</td>\n",
       "      <td>Polarized Aviator Sunglasses (Free Size)</td>\n",
       "      <td>₹949</td>\n",
       "    </tr>\n",
       "    <tr>\n",
       "      <th>11</th>\n",
       "      <td>VINCENT CHASE</td>\n",
       "      <td>by Lenskart Polarized, UV Protection Rectangul...</td>\n",
       "      <td>₹749</td>\n",
       "    </tr>\n",
       "    <tr>\n",
       "      <th>12</th>\n",
       "      <td>kingsunglasses</td>\n",
       "      <td>Mirrored, UV Protection Wayfarer Sunglasses (F...</td>\n",
       "      <td>₹269</td>\n",
       "    </tr>\n",
       "    <tr>\n",
       "      <th>13</th>\n",
       "      <td>kingsunglasses</td>\n",
       "      <td>UV Protection Round Sunglasses (54)</td>\n",
       "      <td>₹214</td>\n",
       "    </tr>\n",
       "    <tr>\n",
       "      <th>14</th>\n",
       "      <td>ROZZETTA CRAFT</td>\n",
       "      <td>UV Protection, Gradient Round Sunglasses (Free...</td>\n",
       "      <td>₹399</td>\n",
       "    </tr>\n",
       "    <tr>\n",
       "      <th>15</th>\n",
       "      <td>CRYSTAL CART</td>\n",
       "      <td>Polarized, Gradient, UV Protection, Mirrored O...</td>\n",
       "      <td>₹249</td>\n",
       "    </tr>\n",
       "    <tr>\n",
       "      <th>16</th>\n",
       "      <td>VINCENT CHASE</td>\n",
       "      <td>Polarized, UV Protection Rectangular Sunglasse...</td>\n",
       "      <td>₹949</td>\n",
       "    </tr>\n",
       "    <tr>\n",
       "      <th>17</th>\n",
       "      <td>Fastrack</td>\n",
       "      <td>Gradient, UV Protection Wayfarer Sunglasses (F...</td>\n",
       "      <td>₹719</td>\n",
       "    </tr>\n",
       "    <tr>\n",
       "      <th>18</th>\n",
       "      <td>VINCENT CHASE</td>\n",
       "      <td>by Lenskart Polarized, UV Protection Wayfarer ...</td>\n",
       "      <td>₹749</td>\n",
       "    </tr>\n",
       "    <tr>\n",
       "      <th>19</th>\n",
       "      <td>CRYSTAL CART</td>\n",
       "      <td>UV Protection, Gradient Round Sunglasses (Free...</td>\n",
       "      <td>₹429</td>\n",
       "    </tr>\n",
       "    <tr>\n",
       "      <th>20</th>\n",
       "      <td>ROYAL SON</td>\n",
       "      <td>Mirrored Aviator Sunglasses (55)</td>\n",
       "      <td>₹379</td>\n",
       "    </tr>\n",
       "    <tr>\n",
       "      <th>21</th>\n",
       "      <td>SRPM</td>\n",
       "      <td>Night Vision, UV Protection Round Sunglasses (54)</td>\n",
       "      <td>₹233</td>\n",
       "    </tr>\n",
       "    <tr>\n",
       "      <th>22</th>\n",
       "      <td>ROZZETTA CRAFT</td>\n",
       "      <td>UV Protection, Gradient Rectangular Sunglasses...</td>\n",
       "      <td>₹381</td>\n",
       "    </tr>\n",
       "    <tr>\n",
       "      <th>23</th>\n",
       "      <td>VINCENT CHASE</td>\n",
       "      <td>UV Protection Rectangular Sunglasses (50)</td>\n",
       "      <td>₹649</td>\n",
       "    </tr>\n",
       "    <tr>\n",
       "      <th>24</th>\n",
       "      <td>VINCENT CHASE</td>\n",
       "      <td>by Lenskart Polarized, UV Protection Cat-eye S...</td>\n",
       "      <td>₹949</td>\n",
       "    </tr>\n",
       "    <tr>\n",
       "      <th>25</th>\n",
       "      <td>New Specs</td>\n",
       "      <td>Mirrored, UV Protection, Riding Glasses, Other...</td>\n",
       "      <td>₹299</td>\n",
       "    </tr>\n",
       "    <tr>\n",
       "      <th>26</th>\n",
       "      <td>SUNBEE</td>\n",
       "      <td>UV Protection, Polarized, Mirrored Wayfarer Su...</td>\n",
       "      <td>₹268</td>\n",
       "    </tr>\n",
       "    <tr>\n",
       "      <th>27</th>\n",
       "      <td>NuVew</td>\n",
       "      <td>UV Protection Aviator Sunglasses (57)</td>\n",
       "      <td>₹176</td>\n",
       "    </tr>\n",
       "    <tr>\n",
       "      <th>28</th>\n",
       "      <td>Fastrack</td>\n",
       "      <td>Mirrored, UV Protection Wayfarer Sunglasses (F...</td>\n",
       "      <td>₹899</td>\n",
       "    </tr>\n",
       "    <tr>\n",
       "      <th>29</th>\n",
       "      <td>hipe</td>\n",
       "      <td>Mirrored, Gradient, Riding Glasses Round Sungl...</td>\n",
       "      <td>₹210</td>\n",
       "    </tr>\n",
       "    <tr>\n",
       "      <th>30</th>\n",
       "      <td>kingsunglasses</td>\n",
       "      <td>UV Protection, Mirrored Aviator Sunglasses (Fr...</td>\n",
       "      <td>₹269</td>\n",
       "    </tr>\n",
       "    <tr>\n",
       "      <th>31</th>\n",
       "      <td>elegante</td>\n",
       "      <td>Polarized, Riding Glasses, Night Vision Sports...</td>\n",
       "      <td>₹499</td>\n",
       "    </tr>\n",
       "    <tr>\n",
       "      <th>32</th>\n",
       "      <td>Urbanic</td>\n",
       "      <td>Others Oval Sunglasses (Free Size)</td>\n",
       "      <td>₹524</td>\n",
       "    </tr>\n",
       "    <tr>\n",
       "      <th>33</th>\n",
       "      <td>Elligator</td>\n",
       "      <td>UV Protection Round Sunglasses (53)</td>\n",
       "      <td>₹207</td>\n",
       "    </tr>\n",
       "    <tr>\n",
       "      <th>34</th>\n",
       "      <td>kingsunglasses</td>\n",
       "      <td>UV Protection, Riding Glasses, Mirrored Wayfar...</td>\n",
       "      <td>₹213</td>\n",
       "    </tr>\n",
       "    <tr>\n",
       "      <th>35</th>\n",
       "      <td>ROZZETTA CRAFT</td>\n",
       "      <td>UV Protection Spectacle Sunglasses (Free Size)</td>\n",
       "      <td>₹339</td>\n",
       "    </tr>\n",
       "    <tr>\n",
       "      <th>36</th>\n",
       "      <td>LIZA ANGEL</td>\n",
       "      <td>Riding Glasses, Night Vision Spectacle Sunglas...</td>\n",
       "      <td>₹179</td>\n",
       "    </tr>\n",
       "    <tr>\n",
       "      <th>37</th>\n",
       "      <td>ROYAL SON</td>\n",
       "      <td>UV Protection, Gradient Butterfly Sunglasses (62)</td>\n",
       "      <td>₹699</td>\n",
       "    </tr>\n",
       "    <tr>\n",
       "      <th>38</th>\n",
       "      <td>ROYAL SON</td>\n",
       "      <td>Polarized, UV Protection Wayfarer, Retro Squar...</td>\n",
       "      <td>₹664</td>\n",
       "    </tr>\n",
       "    <tr>\n",
       "      <th>39</th>\n",
       "      <td>Roadster</td>\n",
       "      <td>Others Aviator Sunglasses (Free Size)</td>\n",
       "      <td>₹449</td>\n",
       "    </tr>\n",
       "  </tbody>\n",
       "</table>\n",
       "</div>"
      ],
      "text/plain": [
       "           Product                                Product Description Price\n",
       "0             SRPM             UV Protection Wayfarer Sunglasses (50)  ₹211\n",
       "1   ROZZETTA CRAFT   UV Protection Rectangular Sunglasses (Free Size)  ₹319\n",
       "2     CRYSTAL CART  Polarized, UV Protection, Mirrored, Gradient R...  ₹529\n",
       "3    VINCENT CHASE  by Lenskart Polarized, UV Protection Round Sun...  ₹849\n",
       "4           PIRASO              UV Protection Aviator Sunglasses (54)  ₹246\n",
       "5         Fastrack      UV Protection Wayfarer Sunglasses (Free Size)  ₹759\n",
       "6       IZAAN MART          UV Protection Rectangular Sunglasses (55)  ₹290\n",
       "7    VINCENT CHASE  by Lenskart UV Protection Rectangular Sunglass...  ₹749\n",
       "8       Lee Topper   UV Protection Rectangular Sunglasses (Free Size)  ₹219\n",
       "9    VINCENT CHASE     Polarized, UV Protection Round Sunglasses (50)  ₹849\n",
       "10              Mi           Polarized Aviator Sunglasses (Free Size)  ₹949\n",
       "11   VINCENT CHASE  by Lenskart Polarized, UV Protection Rectangul...  ₹749\n",
       "12  kingsunglasses  Mirrored, UV Protection Wayfarer Sunglasses (F...  ₹269\n",
       "13  kingsunglasses                UV Protection Round Sunglasses (54)  ₹214\n",
       "14  ROZZETTA CRAFT  UV Protection, Gradient Round Sunglasses (Free...  ₹399\n",
       "15    CRYSTAL CART  Polarized, Gradient, UV Protection, Mirrored O...  ₹249\n",
       "16   VINCENT CHASE  Polarized, UV Protection Rectangular Sunglasse...  ₹949\n",
       "17        Fastrack  Gradient, UV Protection Wayfarer Sunglasses (F...  ₹719\n",
       "18   VINCENT CHASE  by Lenskart Polarized, UV Protection Wayfarer ...  ₹749\n",
       "19    CRYSTAL CART  UV Protection, Gradient Round Sunglasses (Free...  ₹429\n",
       "20       ROYAL SON                   Mirrored Aviator Sunglasses (55)  ₹379\n",
       "21            SRPM  Night Vision, UV Protection Round Sunglasses (54)  ₹233\n",
       "22  ROZZETTA CRAFT  UV Protection, Gradient Rectangular Sunglasses...  ₹381\n",
       "23   VINCENT CHASE          UV Protection Rectangular Sunglasses (50)  ₹649\n",
       "24   VINCENT CHASE  by Lenskart Polarized, UV Protection Cat-eye S...  ₹949\n",
       "25       New Specs  Mirrored, UV Protection, Riding Glasses, Other...  ₹299\n",
       "26          SUNBEE  UV Protection, Polarized, Mirrored Wayfarer Su...  ₹268\n",
       "27           NuVew              UV Protection Aviator Sunglasses (57)  ₹176\n",
       "28        Fastrack  Mirrored, UV Protection Wayfarer Sunglasses (F...  ₹899\n",
       "29            hipe  Mirrored, Gradient, Riding Glasses Round Sungl...  ₹210\n",
       "30  kingsunglasses  UV Protection, Mirrored Aviator Sunglasses (Fr...  ₹269\n",
       "31        elegante  Polarized, Riding Glasses, Night Vision Sports...  ₹499\n",
       "32         Urbanic                 Others Oval Sunglasses (Free Size)  ₹524\n",
       "33       Elligator                UV Protection Round Sunglasses (53)  ₹207\n",
       "34  kingsunglasses  UV Protection, Riding Glasses, Mirrored Wayfar...  ₹213\n",
       "35  ROZZETTA CRAFT     UV Protection Spectacle Sunglasses (Free Size)  ₹339\n",
       "36      LIZA ANGEL  Riding Glasses, Night Vision Spectacle Sunglas...  ₹179\n",
       "37       ROYAL SON  UV Protection, Gradient Butterfly Sunglasses (62)  ₹699\n",
       "38       ROYAL SON  Polarized, UV Protection Wayfarer, Retro Squar...  ₹664\n",
       "39        Roadster              Others Aviator Sunglasses (Free Size)  ₹449"
      ]
     },
     "execution_count": 88,
     "metadata": {},
     "output_type": "execute_result"
    }
   ],
   "source": [
    "sunglasses=pd.DataFrame()\n",
    "sunglasses['Product']= brand\n",
    "sunglasses['Product Description']=descriptn\n",
    "sunglasses['Price']=price\n",
    "sunglasses"
   ]
  },
  {
   "cell_type": "code",
   "execution_count": 89,
   "id": "46d50b3d",
   "metadata": {},
   "outputs": [
    {
     "data": {
      "text/plain": [
       "<selenium.webdriver.remote.webelement.WebElement (session=\"8f2d529429181dea9cb2b241d8b6a8fc\", element=\"3349915e-f739-4332-93af-f14b0456cdcc\")>"
      ]
     },
     "execution_count": 89,
     "metadata": {},
     "output_type": "execute_result"
    }
   ],
   "source": [
    "next_btn= driver.find_element('xpath','/html/body/div[1]/div/div[3]/div[1]/div[2]/div[12]/div/div/nav/a[12]/span')\n",
    "next_btn  "
   ]
  },
  {
   "cell_type": "code",
   "execution_count": 90,
   "id": "d2c7b004",
   "metadata": {},
   "outputs": [],
   "source": [
    "next_btn.click()"
   ]
  },
  {
   "cell_type": "code",
   "execution_count": 91,
   "id": "d639c414",
   "metadata": {},
   "outputs": [
    {
     "data": {
      "text/plain": [
       "40"
      ]
     },
     "execution_count": 91,
     "metadata": {},
     "output_type": "execute_result"
    }
   ],
   "source": [
    "brand_n=driver.find_elements('xpath','//div[@class=\"_2WkVRV\"]')\n",
    "len(brand_n)"
   ]
  },
  {
   "cell_type": "code",
   "execution_count": 92,
   "id": "6b453758",
   "metadata": {},
   "outputs": [
    {
     "data": {
      "text/plain": [
       "['Fastrack',\n",
       " 'SHAAH COLLECTIONS',\n",
       " 'PIRASO',\n",
       " 'VINCENT CHASE',\n",
       " 'Fastrack',\n",
       " 'kingsunglasses',\n",
       " 'HAMIW COLLECTION',\n",
       " 'VINCENT CHASE',\n",
       " 'PIRASO',\n",
       " 'kingsunglasses',\n",
       " 'Silver Kartz',\n",
       " 'ROYAL SON',\n",
       " 'ROYAL SON',\n",
       " 'VINCENT CHASE',\n",
       " 'PHENOMENAL',\n",
       " 'elegante',\n",
       " 'Lee Topper',\n",
       " 'Rich Club',\n",
       " 'VINCENT CHASE',\n",
       " 'VINCENT CHASE']"
      ]
     },
     "execution_count": 92,
     "metadata": {},
     "output_type": "execute_result"
    }
   ],
   "source": [
    "brand=[]\n",
    "for i in brand_n:\n",
    "    brand.append(i.text)\n",
    "    if len(brand)==20:\n",
    "        break\n",
    "    \n",
    "brand"
   ]
  },
  {
   "cell_type": "code",
   "execution_count": 93,
   "id": "5c6f069e",
   "metadata": {},
   "outputs": [
    {
     "data": {
      "text/plain": [
       "40"
      ]
     },
     "execution_count": 93,
     "metadata": {},
     "output_type": "execute_result"
    }
   ],
   "source": [
    "descript=driver.find_elements('xpath','//a[@class=\"IRpwTa\"]')\n",
    "len(descript)"
   ]
  },
  {
   "cell_type": "code",
   "execution_count": 94,
   "id": "56c39b38",
   "metadata": {},
   "outputs": [
    {
     "data": {
      "text/plain": [
       "['UV Protection Wayfarer Sunglasses (55)',\n",
       " 'UV Protection Round Sunglasses (Free Size)',\n",
       " 'UV Protection Aviator Sunglasses (55)',\n",
       " 'by Lenskart Polarized, UV Protection Round Sunglasses (...',\n",
       " 'UV Protection Aviator Sunglasses (Free Size)',\n",
       " 'UV Protection Rectangular Sunglasses (55)',\n",
       " 'UV Protection Wayfarer, Sports, Shield, Rectangular, Re...',\n",
       " 'by Lenskart Polarized, UV Protection Aviator Sunglasses...',\n",
       " 'UV Protection Over-sized Sunglasses (65)',\n",
       " 'Mirrored, UV Protection Wayfarer, Rectangular Sunglasse...',\n",
       " 'UV Protection Wayfarer Sunglasses (Free Size)',\n",
       " 'Polarized, UV Protection Retro Square Sunglasses (55)',\n",
       " 'Mirrored Aviator Sunglasses (Free Size)',\n",
       " 'by Lenskart UV Protection Wayfarer Sunglasses (51)',\n",
       " 'UV Protection Retro Square Sunglasses (53)',\n",
       " 'Polarized, Riding Glasses, Night Vision Sports Sunglass...',\n",
       " 'UV Protection Round Sunglasses (Free Size)',\n",
       " 'UV Protection, Polarized Round Sunglasses (50)',\n",
       " 'by Lenskart UV Protection Round Sunglasses (58)',\n",
       " 'UV Protection Rectangular Sunglasses (52)']"
      ]
     },
     "execution_count": 94,
     "metadata": {},
     "output_type": "execute_result"
    }
   ],
   "source": [
    "descriptn=[]\n",
    "for i in descript:\n",
    "    descriptn.append(i.text)\n",
    "    if len(descriptn)==20:\n",
    "        break\n",
    "    \n",
    "descriptn"
   ]
  },
  {
   "cell_type": "code",
   "execution_count": 95,
   "id": "e74d7454",
   "metadata": {},
   "outputs": [
    {
     "data": {
      "text/plain": [
       "40"
      ]
     },
     "execution_count": 95,
     "metadata": {},
     "output_type": "execute_result"
    }
   ],
   "source": [
    "price_t=driver.find_elements('xpath','//div[@class=\"_30jeq3\"]') \n",
    "len(price_t)"
   ]
  },
  {
   "cell_type": "code",
   "execution_count": 96,
   "id": "9c202799",
   "metadata": {},
   "outputs": [
    {
     "data": {
      "text/plain": [
       "['₹607',\n",
       " '₹307',\n",
       " '₹246',\n",
       " '₹949',\n",
       " '₹759',\n",
       " '₹189',\n",
       " '₹179',\n",
       " '₹899',\n",
       " '₹419',\n",
       " '₹289',\n",
       " '₹288',\n",
       " '₹616',\n",
       " '₹379',\n",
       " '₹749',\n",
       " '₹267',\n",
       " '₹499',\n",
       " '₹245',\n",
       " '₹375',\n",
       " '₹949',\n",
       " '₹649']"
      ]
     },
     "execution_count": 96,
     "metadata": {},
     "output_type": "execute_result"
    }
   ],
   "source": [
    "price=[]\n",
    "for i in price_t:\n",
    "    price.append(i.text)\n",
    "    if len(price)==20:\n",
    "        break\n",
    "    \n",
    "price"
   ]
  },
  {
   "cell_type": "code",
   "execution_count": 97,
   "id": "6f3951fd",
   "metadata": {},
   "outputs": [
    {
     "data": {
      "text/html": [
       "<div>\n",
       "<style scoped>\n",
       "    .dataframe tbody tr th:only-of-type {\n",
       "        vertical-align: middle;\n",
       "    }\n",
       "\n",
       "    .dataframe tbody tr th {\n",
       "        vertical-align: top;\n",
       "    }\n",
       "\n",
       "    .dataframe thead th {\n",
       "        text-align: right;\n",
       "    }\n",
       "</style>\n",
       "<table border=\"1\" class=\"dataframe\">\n",
       "  <thead>\n",
       "    <tr style=\"text-align: right;\">\n",
       "      <th></th>\n",
       "      <th>Brand</th>\n",
       "      <th>Product Description</th>\n",
       "      <th>Price</th>\n",
       "    </tr>\n",
       "  </thead>\n",
       "  <tbody>\n",
       "    <tr>\n",
       "      <th>0</th>\n",
       "      <td>Fastrack</td>\n",
       "      <td>UV Protection Wayfarer Sunglasses (55)</td>\n",
       "      <td>₹607</td>\n",
       "    </tr>\n",
       "    <tr>\n",
       "      <th>1</th>\n",
       "      <td>SHAAH COLLECTIONS</td>\n",
       "      <td>UV Protection Round Sunglasses (Free Size)</td>\n",
       "      <td>₹307</td>\n",
       "    </tr>\n",
       "    <tr>\n",
       "      <th>2</th>\n",
       "      <td>PIRASO</td>\n",
       "      <td>UV Protection Aviator Sunglasses (55)</td>\n",
       "      <td>₹246</td>\n",
       "    </tr>\n",
       "    <tr>\n",
       "      <th>3</th>\n",
       "      <td>VINCENT CHASE</td>\n",
       "      <td>by Lenskart Polarized, UV Protection Round Sun...</td>\n",
       "      <td>₹949</td>\n",
       "    </tr>\n",
       "    <tr>\n",
       "      <th>4</th>\n",
       "      <td>Fastrack</td>\n",
       "      <td>UV Protection Aviator Sunglasses (Free Size)</td>\n",
       "      <td>₹759</td>\n",
       "    </tr>\n",
       "    <tr>\n",
       "      <th>5</th>\n",
       "      <td>kingsunglasses</td>\n",
       "      <td>UV Protection Rectangular Sunglasses (55)</td>\n",
       "      <td>₹189</td>\n",
       "    </tr>\n",
       "    <tr>\n",
       "      <th>6</th>\n",
       "      <td>HAMIW COLLECTION</td>\n",
       "      <td>UV Protection Wayfarer, Sports, Shield, Rectan...</td>\n",
       "      <td>₹179</td>\n",
       "    </tr>\n",
       "    <tr>\n",
       "      <th>7</th>\n",
       "      <td>VINCENT CHASE</td>\n",
       "      <td>by Lenskart Polarized, UV Protection Aviator S...</td>\n",
       "      <td>₹899</td>\n",
       "    </tr>\n",
       "    <tr>\n",
       "      <th>8</th>\n",
       "      <td>PIRASO</td>\n",
       "      <td>UV Protection Over-sized Sunglasses (65)</td>\n",
       "      <td>₹419</td>\n",
       "    </tr>\n",
       "    <tr>\n",
       "      <th>9</th>\n",
       "      <td>kingsunglasses</td>\n",
       "      <td>Mirrored, UV Protection Wayfarer, Rectangular ...</td>\n",
       "      <td>₹289</td>\n",
       "    </tr>\n",
       "    <tr>\n",
       "      <th>10</th>\n",
       "      <td>Silver Kartz</td>\n",
       "      <td>UV Protection Wayfarer Sunglasses (Free Size)</td>\n",
       "      <td>₹288</td>\n",
       "    </tr>\n",
       "    <tr>\n",
       "      <th>11</th>\n",
       "      <td>ROYAL SON</td>\n",
       "      <td>Polarized, UV Protection Retro Square Sunglass...</td>\n",
       "      <td>₹616</td>\n",
       "    </tr>\n",
       "    <tr>\n",
       "      <th>12</th>\n",
       "      <td>ROYAL SON</td>\n",
       "      <td>Mirrored Aviator Sunglasses (Free Size)</td>\n",
       "      <td>₹379</td>\n",
       "    </tr>\n",
       "    <tr>\n",
       "      <th>13</th>\n",
       "      <td>VINCENT CHASE</td>\n",
       "      <td>by Lenskart UV Protection Wayfarer Sunglasses ...</td>\n",
       "      <td>₹749</td>\n",
       "    </tr>\n",
       "    <tr>\n",
       "      <th>14</th>\n",
       "      <td>PHENOMENAL</td>\n",
       "      <td>UV Protection Retro Square Sunglasses (53)</td>\n",
       "      <td>₹267</td>\n",
       "    </tr>\n",
       "    <tr>\n",
       "      <th>15</th>\n",
       "      <td>elegante</td>\n",
       "      <td>Polarized, Riding Glasses, Night Vision Sports...</td>\n",
       "      <td>₹499</td>\n",
       "    </tr>\n",
       "    <tr>\n",
       "      <th>16</th>\n",
       "      <td>Lee Topper</td>\n",
       "      <td>UV Protection Round Sunglasses (Free Size)</td>\n",
       "      <td>₹245</td>\n",
       "    </tr>\n",
       "    <tr>\n",
       "      <th>17</th>\n",
       "      <td>Rich Club</td>\n",
       "      <td>UV Protection, Polarized Round Sunglasses (50)</td>\n",
       "      <td>₹375</td>\n",
       "    </tr>\n",
       "    <tr>\n",
       "      <th>18</th>\n",
       "      <td>VINCENT CHASE</td>\n",
       "      <td>by Lenskart UV Protection Round Sunglasses (58)</td>\n",
       "      <td>₹949</td>\n",
       "    </tr>\n",
       "    <tr>\n",
       "      <th>19</th>\n",
       "      <td>VINCENT CHASE</td>\n",
       "      <td>UV Protection Rectangular Sunglasses (52)</td>\n",
       "      <td>₹649</td>\n",
       "    </tr>\n",
       "  </tbody>\n",
       "</table>\n",
       "</div>"
      ],
      "text/plain": [
       "                Brand                                Product Description Price\n",
       "0            Fastrack             UV Protection Wayfarer Sunglasses (55)  ₹607\n",
       "1   SHAAH COLLECTIONS         UV Protection Round Sunglasses (Free Size)  ₹307\n",
       "2              PIRASO              UV Protection Aviator Sunglasses (55)  ₹246\n",
       "3       VINCENT CHASE  by Lenskart Polarized, UV Protection Round Sun...  ₹949\n",
       "4            Fastrack       UV Protection Aviator Sunglasses (Free Size)  ₹759\n",
       "5      kingsunglasses          UV Protection Rectangular Sunglasses (55)  ₹189\n",
       "6    HAMIW COLLECTION  UV Protection Wayfarer, Sports, Shield, Rectan...  ₹179\n",
       "7       VINCENT CHASE  by Lenskart Polarized, UV Protection Aviator S...  ₹899\n",
       "8              PIRASO           UV Protection Over-sized Sunglasses (65)  ₹419\n",
       "9      kingsunglasses  Mirrored, UV Protection Wayfarer, Rectangular ...  ₹289\n",
       "10       Silver Kartz      UV Protection Wayfarer Sunglasses (Free Size)  ₹288\n",
       "11          ROYAL SON  Polarized, UV Protection Retro Square Sunglass...  ₹616\n",
       "12          ROYAL SON            Mirrored Aviator Sunglasses (Free Size)  ₹379\n",
       "13      VINCENT CHASE  by Lenskart UV Protection Wayfarer Sunglasses ...  ₹749\n",
       "14         PHENOMENAL         UV Protection Retro Square Sunglasses (53)  ₹267\n",
       "15           elegante  Polarized, Riding Glasses, Night Vision Sports...  ₹499\n",
       "16         Lee Topper         UV Protection Round Sunglasses (Free Size)  ₹245\n",
       "17          Rich Club     UV Protection, Polarized Round Sunglasses (50)  ₹375\n",
       "18      VINCENT CHASE    by Lenskart UV Protection Round Sunglasses (58)  ₹949\n",
       "19      VINCENT CHASE          UV Protection Rectangular Sunglasses (52)  ₹649"
      ]
     },
     "execution_count": 97,
     "metadata": {},
     "output_type": "execute_result"
    }
   ],
   "source": [
    "sunglasses=pd.DataFrame()\n",
    "sunglasses['Brand']= brand\n",
    "sunglasses['Product Description']=descriptn\n",
    "sunglasses['Price']=price\n",
    "sunglasses"
   ]
  },
  {
   "cell_type": "code",
   "execution_count": 98,
   "id": "0d67aa0e",
   "metadata": {},
   "outputs": [],
   "source": [
    "#Q5\n",
    "driver= webdriver.Chrome(r'C:\\Users\\sofiy\\Downloads\\chromedriver_win32 (1)\\chromedriver.exe')"
   ]
  },
  {
   "cell_type": "code",
   "execution_count": 99,
   "id": "710dec1a",
   "metadata": {},
   "outputs": [],
   "source": [
    "url='https://www.flipkart.com/apple-iphone-11-black-64-gb-includes-earpods-power-adapter/product-reviews/itm0f37c2240b217?pid=MOBFKCTSVZAXUHGR&lid=LSTMOBFKCTSVZAXUHGREPBFGI&marketplace=FLIPKART'\n",
    "driver.get(url)"
   ]
  },
  {
   "cell_type": "code",
   "execution_count": 100,
   "id": "c919d80c",
   "metadata": {},
   "outputs": [
    {
     "data": {
      "text/plain": [
       "10"
      ]
     },
     "execution_count": 100,
     "metadata": {},
     "output_type": "execute_result"
    }
   ],
   "source": [
    "mob_rating=driver.find_elements('xpath','//div[@class=\"_3LWZlK _1BLPMq\"]')\n",
    "len(mob_rating)"
   ]
  },
  {
   "cell_type": "code",
   "execution_count": 101,
   "id": "a095844b",
   "metadata": {},
   "outputs": [
    {
     "data": {
      "text/plain": [
       "[['5'], ['5'], ['5'], ['5'], ['5'], ['5'], ['5'], ['5'], ['4'], ['5']]"
      ]
     },
     "execution_count": 101,
     "metadata": {},
     "output_type": "execute_result"
    }
   ],
   "source": [
    "rating=[]\n",
    "for i in mob_rating:\n",
    "    rating.append(i.text.split())\n",
    "    if len(rating)==10:\n",
    "        break\n",
    "    \n",
    "rating"
   ]
  },
  {
   "cell_type": "code",
   "execution_count": 102,
   "id": "2d94dac2",
   "metadata": {},
   "outputs": [
    {
     "data": {
      "text/plain": [
       "10"
      ]
     },
     "execution_count": 102,
     "metadata": {},
     "output_type": "execute_result"
    }
   ],
   "source": [
    "mob_review=driver.find_elements('xpath','//p[@class=\"_2-N8zT\"]')\n",
    "len(mob_review)"
   ]
  },
  {
   "cell_type": "code",
   "execution_count": 103,
   "id": "51a6d67e",
   "metadata": {},
   "outputs": [
    {
     "data": {
      "text/plain": [
       "['Simply awesome',\n",
       " 'Perfect product!',\n",
       " 'Best in the market!',\n",
       " 'Highly recommended',\n",
       " 'Worth every penny',\n",
       " 'Fabulous!',\n",
       " 'Great product',\n",
       " 'Worth every penny',\n",
       " 'Good choice',\n",
       " 'Highly recommended']"
      ]
     },
     "execution_count": 103,
     "metadata": {},
     "output_type": "execute_result"
    }
   ],
   "source": [
    "review=[]\n",
    "for i in mob_review:\n",
    "    review.append(i.text)\n",
    "    if len(review)==10:\n",
    "        break\n",
    "    \n",
    "review"
   ]
  },
  {
   "cell_type": "code",
   "execution_count": 104,
   "id": "971765e2",
   "metadata": {},
   "outputs": [
    {
     "data": {
      "text/plain": [
       "10"
      ]
     },
     "execution_count": 104,
     "metadata": {},
     "output_type": "execute_result"
    }
   ],
   "source": [
    "mob_fullreview=driver.find_elements('xpath','//div[@class=\"t-ZTKy\"]')\n",
    "len(mob_fullreview)"
   ]
  },
  {
   "cell_type": "code",
   "execution_count": 105,
   "id": "32271379",
   "metadata": {},
   "outputs": [
    {
     "data": {
      "text/plain": [
       "['Really satisfied with the Product I received... It’s totally genuine and the packaging was also really good so if ur planning to buy just go for it.',\n",
       " 'Amazing phone with great cameras and better battery which gives you the best performance. I just love the camera .',\n",
       " 'Great iPhone very snappy experience as apple kind. Upgraded from iPhone 7.\\nPros\\n-Camera top class\\n- Battery top performed\\n-Chipset no need to say as apple kind\\n-Security as you expect from apple\\n- Display super bright industry leading colour\\naccuracy and super responsive\\n-Build quality as expect from apple sturdy\\npremium durable beautiful stylish.\\n-Os most stable os in smartphone industry\\n\\nCons\\n-No 5G\\n-Display is not based on OLED technology\\n-Charger headphones and 1 apple stic...\\nREAD MORE',\n",
       " 'What a camera .....just awesome ..you can feel this iPhone just awesome . Good for gaming also ...try pubg in hd it’s just wow',\n",
       " 'Previously I was using one plus 3t it was a great phone\\nAnd then I decided to upgrade I am stuck between Samsung s10 plus or iPhone 11\\nI have seen the specs and everything were good except the display it’s somewhere between 720-1080 and it’s not even an amoled it’s an LCD display\\nBut I decided to go with iPhone because I have never used an IOS device I have Been an android user from the past 9 years I ordered IPhone 11 (128gb) product red\\nMy experience after using 3 weeks\\n1. The delivery ...\\nREAD MORE',\n",
       " 'This is my first iOS phone. I am very happy with this product. Very much satisfied with this. I love this phone.',\n",
       " 'Amazing Powerful and Durable Gadget.\\n\\nI’m am very happy with the camera picture quality, Amazing face id unlocked in dark room, Strong battery with perfect screen size as you can carry easily in pocket. This is my third iPhone.\\n\\nI shifted from android Samsung Note series to iPhone because of the strong build quality and peace of mind for next 3-4 years.\\n\\nDon’t think to much just go for it and I suggest you to go for minimum 128gb variant or more 256gb.\\n\\nI’ve attached my puppy pics and no fi...\\nREAD MORE',\n",
       " 'i11 is worthy to buy, too much happy with the product. Thank u flipkart I received the item on time..loved it..',\n",
       " 'So far it’s been an AMAZING experience coming back to iOS after nearly a decade but it’s not as versatile as android though phone is sturdy dropped it accidentally a couple of times and nothing happened fortunately camera is awesome',\n",
       " 'iphone 11 is a very good phone to buy only if you can compromise for the display. The display on this is device is pretty good but you can get other options with better displays in this price segment.\\nIf you can survive with an HD+ LCD panel with thicker bezels and a notch up top then this is a very good phone for you.\\nCameras are awesome, battery backup excellent, great performance and a decent premium look. Good job Apple !']"
      ]
     },
     "execution_count": 105,
     "metadata": {},
     "output_type": "execute_result"
    }
   ],
   "source": [
    "full_review=[]\n",
    "for i in mob_fullreview:\n",
    "    full_review.append(i.text)\n",
    "    if len(full_review)==10:\n",
    "        break\n",
    "    \n",
    "full_review"
   ]
  },
  {
   "cell_type": "code",
   "execution_count": 106,
   "id": "16113ba7",
   "metadata": {},
   "outputs": [
    {
     "data": {
      "text/html": [
       "<div>\n",
       "<style scoped>\n",
       "    .dataframe tbody tr th:only-of-type {\n",
       "        vertical-align: middle;\n",
       "    }\n",
       "\n",
       "    .dataframe tbody tr th {\n",
       "        vertical-align: top;\n",
       "    }\n",
       "\n",
       "    .dataframe thead th {\n",
       "        text-align: right;\n",
       "    }\n",
       "</style>\n",
       "<table border=\"1\" class=\"dataframe\">\n",
       "  <thead>\n",
       "    <tr style=\"text-align: right;\">\n",
       "      <th></th>\n",
       "      <th>Rating</th>\n",
       "      <th>Review Summary</th>\n",
       "      <th>Full Review</th>\n",
       "    </tr>\n",
       "  </thead>\n",
       "  <tbody>\n",
       "    <tr>\n",
       "      <th>0</th>\n",
       "      <td>[5]</td>\n",
       "      <td>Simply awesome</td>\n",
       "      <td>Really satisfied with the Product I received.....</td>\n",
       "    </tr>\n",
       "    <tr>\n",
       "      <th>1</th>\n",
       "      <td>[5]</td>\n",
       "      <td>Perfect product!</td>\n",
       "      <td>Amazing phone with great cameras and better ba...</td>\n",
       "    </tr>\n",
       "    <tr>\n",
       "      <th>2</th>\n",
       "      <td>[5]</td>\n",
       "      <td>Best in the market!</td>\n",
       "      <td>Great iPhone very snappy experience as apple k...</td>\n",
       "    </tr>\n",
       "    <tr>\n",
       "      <th>3</th>\n",
       "      <td>[5]</td>\n",
       "      <td>Highly recommended</td>\n",
       "      <td>What a camera .....just awesome ..you can feel...</td>\n",
       "    </tr>\n",
       "    <tr>\n",
       "      <th>4</th>\n",
       "      <td>[5]</td>\n",
       "      <td>Worth every penny</td>\n",
       "      <td>Previously I was using one plus 3t it was a gr...</td>\n",
       "    </tr>\n",
       "    <tr>\n",
       "      <th>5</th>\n",
       "      <td>[5]</td>\n",
       "      <td>Fabulous!</td>\n",
       "      <td>This is my first iOS phone. I am very happy wi...</td>\n",
       "    </tr>\n",
       "    <tr>\n",
       "      <th>6</th>\n",
       "      <td>[5]</td>\n",
       "      <td>Great product</td>\n",
       "      <td>Amazing Powerful and Durable Gadget.\\n\\nI’m am...</td>\n",
       "    </tr>\n",
       "    <tr>\n",
       "      <th>7</th>\n",
       "      <td>[5]</td>\n",
       "      <td>Worth every penny</td>\n",
       "      <td>i11 is worthy to buy, too much happy with the ...</td>\n",
       "    </tr>\n",
       "    <tr>\n",
       "      <th>8</th>\n",
       "      <td>[4]</td>\n",
       "      <td>Good choice</td>\n",
       "      <td>So far it’s been an AMAZING experience coming ...</td>\n",
       "    </tr>\n",
       "    <tr>\n",
       "      <th>9</th>\n",
       "      <td>[5]</td>\n",
       "      <td>Highly recommended</td>\n",
       "      <td>iphone 11 is a very good phone to buy only if ...</td>\n",
       "    </tr>\n",
       "  </tbody>\n",
       "</table>\n",
       "</div>"
      ],
      "text/plain": [
       "  Rating       Review Summary  \\\n",
       "0    [5]       Simply awesome   \n",
       "1    [5]     Perfect product!   \n",
       "2    [5]  Best in the market!   \n",
       "3    [5]   Highly recommended   \n",
       "4    [5]    Worth every penny   \n",
       "5    [5]            Fabulous!   \n",
       "6    [5]        Great product   \n",
       "7    [5]    Worth every penny   \n",
       "8    [4]          Good choice   \n",
       "9    [5]   Highly recommended   \n",
       "\n",
       "                                         Full Review  \n",
       "0  Really satisfied with the Product I received.....  \n",
       "1  Amazing phone with great cameras and better ba...  \n",
       "2  Great iPhone very snappy experience as apple k...  \n",
       "3  What a camera .....just awesome ..you can feel...  \n",
       "4  Previously I was using one plus 3t it was a gr...  \n",
       "5  This is my first iOS phone. I am very happy wi...  \n",
       "6  Amazing Powerful and Durable Gadget.\\n\\nI’m am...  \n",
       "7  i11 is worthy to buy, too much happy with the ...  \n",
       "8  So far it’s been an AMAZING experience coming ...  \n",
       "9  iphone 11 is a very good phone to buy only if ...  "
      ]
     },
     "execution_count": 106,
     "metadata": {},
     "output_type": "execute_result"
    }
   ],
   "source": [
    "mob=pd.DataFrame()\n",
    "mob['Rating']= rating\n",
    "mob['Review Summary']= review\n",
    "mob['Full Review']=full_review\n",
    "mob"
   ]
  },
  {
   "cell_type": "code",
   "execution_count": 107,
   "id": "c8e8f28b",
   "metadata": {},
   "outputs": [
    {
     "data": {
      "text/plain": [
       "<selenium.webdriver.remote.webelement.WebElement (session=\"5094d429b813e05ea08a54666d8b2b6d\", element=\"2a34b4f4-f213-487a-91e0-a80cc279c8f4\")>"
      ]
     },
     "execution_count": 107,
     "metadata": {},
     "output_type": "execute_result"
    }
   ],
   "source": [
    "next_btn= driver.find_element('xpath','/html/body/div/div/div[3]/div/div/div[2]/div[13]/div/div/nav/a[11]/span')\n",
    "next_btn"
   ]
  },
  {
   "cell_type": "code",
   "execution_count": 108,
   "id": "e5f488a8",
   "metadata": {},
   "outputs": [],
   "source": [
    "next_btn.click()"
   ]
  },
  {
   "cell_type": "code",
   "execution_count": 109,
   "id": "036f23d6",
   "metadata": {},
   "outputs": [
    {
     "data": {
      "text/plain": [
       "10"
      ]
     },
     "execution_count": 109,
     "metadata": {},
     "output_type": "execute_result"
    }
   ],
   "source": [
    "mob_rating=driver.find_elements('xpath','//div[@class=\"_3LWZlK _1BLPMq\"]')\n",
    "len(mob_rating)"
   ]
  },
  {
   "cell_type": "code",
   "execution_count": 110,
   "id": "48ac9b62",
   "metadata": {},
   "outputs": [
    {
     "data": {
      "text/plain": [
       "['5', '5', '5', '5', '5', '5', '5', '5', '5', '5']"
      ]
     },
     "execution_count": 110,
     "metadata": {},
     "output_type": "execute_result"
    }
   ],
   "source": [
    "rating=[]\n",
    "for i in mob_rating:\n",
    "    rating.append(i.text)\n",
    "    if len(rating)==10:\n",
    "        break\n",
    "    \n",
    "rating"
   ]
  },
  {
   "cell_type": "code",
   "execution_count": 111,
   "id": "0243ac71",
   "metadata": {},
   "outputs": [
    {
     "data": {
      "text/plain": [
       "10"
      ]
     },
     "execution_count": 111,
     "metadata": {},
     "output_type": "execute_result"
    }
   ],
   "source": [
    "mob_review=driver.find_elements('xpath','//p[@class=\"_2-N8zT\"]')\n",
    "len(mob_review)"
   ]
  },
  {
   "cell_type": "code",
   "execution_count": 112,
   "id": "7a87d27d",
   "metadata": {},
   "outputs": [
    {
     "data": {
      "text/plain": [
       "['Highly recommended',\n",
       " 'Perfect product!',\n",
       " 'Perfect product!',\n",
       " 'Worth every penny',\n",
       " 'Perfect product!',\n",
       " 'Perfect product!',\n",
       " 'Terrific',\n",
       " 'Worth every penny',\n",
       " 'Wonderful',\n",
       " 'Simply awesome']"
      ]
     },
     "execution_count": 112,
     "metadata": {},
     "output_type": "execute_result"
    }
   ],
   "source": [
    "review=[]\n",
    "for i in mob_review:\n",
    "    review.append(i.text)\n",
    "    if len(review)==10:\n",
    "        break\n",
    "    \n",
    "review"
   ]
  },
  {
   "cell_type": "code",
   "execution_count": 113,
   "id": "2ad396b2",
   "metadata": {},
   "outputs": [
    {
     "data": {
      "text/plain": [
       "10"
      ]
     },
     "execution_count": 113,
     "metadata": {},
     "output_type": "execute_result"
    }
   ],
   "source": [
    "mob_fullreview=driver.find_elements('xpath','//div[@class=\"t-ZTKy\"]')\n",
    "len(mob_fullreview)"
   ]
  },
  {
   "cell_type": "code",
   "execution_count": 114,
   "id": "69234b9f",
   "metadata": {},
   "outputs": [
    {
     "data": {
      "text/plain": [
       "[\"It's my first time to use iOS phone and I am loving my upgradation 😍😍 I love the color, I love the assebility of the phone....I need to learn more about its functionality, but as far as I have seen, it's quite easy and it has a lot of functions to work on, specially if you are a content writer or a blogger you get a lot of content creation platforms and they are really amazing.\\n\\nThis phone not only for good quality photography but a lot of other task too.😍💯\",\n",
       " 'It’s a must buy who is looking for an upgrade from previous generation of iPhones. If you are using XR then still you can hold on for sometime and upgrade to 2020 model else this phone is a must buy . Camera quality is amazing and wide angle is something to count upon. Performance wise it’s amazing and feels premium while holding in hand. So a big YES for this device. Go for 128 GB variant as the 4K videos will occupy lots of space and the storage can get over very quickly. Try to buy it with...\\nREAD MORE',\n",
       " 'Value for money❤️❤️\\nIts awesome mobile phone in the world ...\\nDisplay was very good and bright ..\\nTrust me freinds you r never regret after Buying..\\nJust go for it....\\nI love this phone and i switch to iphone x to 11',\n",
       " 'Smooth like butter, camera like fantabulous, sound is crystal clear & its red color is damn attractive, i am just loving it. Must buy if you love photography.\\n\\nLucky to get it in sale, thank you Flipkart.',\n",
       " 'It is just awesome mobile for this price from Apple,\\n\\nAfter 10 days review\\n\\nBattery enough for 1 day even 24*7 Internet will be on and mostly internet usage\\n\\nCamera is just awesome cool , android 64 MP is equal to this just 12 MP\\n\\nA13 Bionic chip will give more high performance without hanging\\n\\nAudio stereo speakers will give Dolby atoms sound with crystal clear\\n\\nVideo recording is like cinematic shots of every sec can be a 4K 60fps. Just awesome this phone\\niPhone 11 loved one',\n",
       " \"Iphone is just awesome.. battery backup is very very nice.. continuously for 10 hours we can use it.camera is just awesome.. display is just fab.i love it alot..i had to wait 15 days for it as i pre ordered it..overalll it's worth the price..these all images are clicked by my iPhone..and i love it.\",\n",
       " 'Really worth of money. i just love it. It is the best phone ever.',\n",
       " 'Best budget Iphone till date ❤️ go for it guys without second thought. Let me explain you guys about Camera, Display, battery, and performance.\\n\\nCamera: at this price range there is no comparison of camera, you’ll love the picture quality as well as video quality. I am a Vlogger I wanted an iPhone with 4k video by front camera and I got this phone and I am more than happy 😃\\n\\nBattery: I use this phone roughly as I am active social media person and I have a youtube channel. so the battery ba...\\nREAD MORE',\n",
       " 'This is my first ever I phone. Before this I was using my google nexus 5. But moving from android to iOS is a great experience. It’s worth at this price. I will highly recommend it if you want to move to iOS. The best part of this phone is it’s camera and it’s battery life. This two things have won my heart. I loved it. Happy to have it in my hand. Still exploring its features. And can’t forget to mention Flipkart service. Very prompt service and fast delivery.',\n",
       " 'Excellent camera, good performance, no lag. The lcd display is also good.. but difference come when we watch movie in prime and Netflix, the colours are not vibrant.. as we see in amoled display.. and the charger in box is of 5 watts.. takes more than 3 hours to charge from 0 to 100.. so guys be prepare to buy 18 watts charger . Finally I am an android user, it was my first Iapple phone, I promise u guys the iOS is so smooth.. overall the phone is damn good.... close eyes to buy it.. thanks t...\\nREAD MORE']"
      ]
     },
     "execution_count": 114,
     "metadata": {},
     "output_type": "execute_result"
    }
   ],
   "source": [
    "full_review=[]\n",
    "for i in mob_fullreview:\n",
    "    full_review.append(i.text)\n",
    "    if len(full_review)==10:\n",
    "        break\n",
    "    \n",
    "full_review"
   ]
  },
  {
   "cell_type": "code",
   "execution_count": 115,
   "id": "49140bc9",
   "metadata": {},
   "outputs": [
    {
     "data": {
      "text/html": [
       "<div>\n",
       "<style scoped>\n",
       "    .dataframe tbody tr th:only-of-type {\n",
       "        vertical-align: middle;\n",
       "    }\n",
       "\n",
       "    .dataframe tbody tr th {\n",
       "        vertical-align: top;\n",
       "    }\n",
       "\n",
       "    .dataframe thead th {\n",
       "        text-align: right;\n",
       "    }\n",
       "</style>\n",
       "<table border=\"1\" class=\"dataframe\">\n",
       "  <thead>\n",
       "    <tr style=\"text-align: right;\">\n",
       "      <th></th>\n",
       "      <th>Rating</th>\n",
       "      <th>Review Summary</th>\n",
       "      <th>Full Review</th>\n",
       "    </tr>\n",
       "  </thead>\n",
       "  <tbody>\n",
       "    <tr>\n",
       "      <th>0</th>\n",
       "      <td>5</td>\n",
       "      <td>Highly recommended</td>\n",
       "      <td>It's my first time to use iOS phone and I am l...</td>\n",
       "    </tr>\n",
       "    <tr>\n",
       "      <th>1</th>\n",
       "      <td>5</td>\n",
       "      <td>Perfect product!</td>\n",
       "      <td>It’s a must buy who is looking for an upgrade ...</td>\n",
       "    </tr>\n",
       "    <tr>\n",
       "      <th>2</th>\n",
       "      <td>5</td>\n",
       "      <td>Perfect product!</td>\n",
       "      <td>Value for money❤️❤️\\nIts awesome mobile phone ...</td>\n",
       "    </tr>\n",
       "    <tr>\n",
       "      <th>3</th>\n",
       "      <td>5</td>\n",
       "      <td>Worth every penny</td>\n",
       "      <td>Smooth like butter, camera like fantabulous, s...</td>\n",
       "    </tr>\n",
       "    <tr>\n",
       "      <th>4</th>\n",
       "      <td>5</td>\n",
       "      <td>Perfect product!</td>\n",
       "      <td>It is just awesome mobile for this price from ...</td>\n",
       "    </tr>\n",
       "    <tr>\n",
       "      <th>5</th>\n",
       "      <td>5</td>\n",
       "      <td>Perfect product!</td>\n",
       "      <td>Iphone is just awesome.. battery backup is ver...</td>\n",
       "    </tr>\n",
       "    <tr>\n",
       "      <th>6</th>\n",
       "      <td>5</td>\n",
       "      <td>Terrific</td>\n",
       "      <td>Really worth of money. i just love it. It is t...</td>\n",
       "    </tr>\n",
       "    <tr>\n",
       "      <th>7</th>\n",
       "      <td>5</td>\n",
       "      <td>Worth every penny</td>\n",
       "      <td>Best budget Iphone till date ❤️ go for it guys...</td>\n",
       "    </tr>\n",
       "    <tr>\n",
       "      <th>8</th>\n",
       "      <td>5</td>\n",
       "      <td>Wonderful</td>\n",
       "      <td>This is my first ever I phone. Before this I w...</td>\n",
       "    </tr>\n",
       "    <tr>\n",
       "      <th>9</th>\n",
       "      <td>5</td>\n",
       "      <td>Simply awesome</td>\n",
       "      <td>Excellent camera, good performance, no lag. Th...</td>\n",
       "    </tr>\n",
       "  </tbody>\n",
       "</table>\n",
       "</div>"
      ],
      "text/plain": [
       "  Rating      Review Summary  \\\n",
       "0      5  Highly recommended   \n",
       "1      5    Perfect product!   \n",
       "2      5    Perfect product!   \n",
       "3      5   Worth every penny   \n",
       "4      5    Perfect product!   \n",
       "5      5    Perfect product!   \n",
       "6      5            Terrific   \n",
       "7      5   Worth every penny   \n",
       "8      5           Wonderful   \n",
       "9      5      Simply awesome   \n",
       "\n",
       "                                         Full Review  \n",
       "0  It's my first time to use iOS phone and I am l...  \n",
       "1  It’s a must buy who is looking for an upgrade ...  \n",
       "2  Value for money❤️❤️\\nIts awesome mobile phone ...  \n",
       "3  Smooth like butter, camera like fantabulous, s...  \n",
       "4  It is just awesome mobile for this price from ...  \n",
       "5  Iphone is just awesome.. battery backup is ver...  \n",
       "6  Really worth of money. i just love it. It is t...  \n",
       "7  Best budget Iphone till date ❤️ go for it guys...  \n",
       "8  This is my first ever I phone. Before this I w...  \n",
       "9  Excellent camera, good performance, no lag. Th...  "
      ]
     },
     "execution_count": 115,
     "metadata": {},
     "output_type": "execute_result"
    }
   ],
   "source": [
    "mob=pd.DataFrame()\n",
    "mob['Rating']= rating\n",
    "mob['Review Summary']= review\n",
    "mob['Full Review']=full_review\n",
    "mob"
   ]
  },
  {
   "cell_type": "code",
   "execution_count": 116,
   "id": "1fc04f0f",
   "metadata": {},
   "outputs": [
    {
     "data": {
      "text/plain": [
       "<selenium.webdriver.remote.webelement.WebElement (session=\"5094d429b813e05ea08a54666d8b2b6d\", element=\"28af1841-e21c-4764-af96-19d8eba734b2\")>"
      ]
     },
     "execution_count": 116,
     "metadata": {},
     "output_type": "execute_result"
    }
   ],
   "source": [
    "next_btn= driver.find_element('xpath','/html/body/div/div/div[3]/div/div/div[2]/div[13]/div/div/nav/a[12]/span')\n",
    "next_btn"
   ]
  },
  {
   "cell_type": "code",
   "execution_count": 117,
   "id": "9ac71a41",
   "metadata": {},
   "outputs": [],
   "source": [
    "next_btn.click()"
   ]
  },
  {
   "cell_type": "code",
   "execution_count": 118,
   "id": "a61ce8d9",
   "metadata": {},
   "outputs": [
    {
     "data": {
      "text/plain": [
       "10"
      ]
     },
     "execution_count": 118,
     "metadata": {},
     "output_type": "execute_result"
    }
   ],
   "source": [
    "mob_rating=driver.find_elements('xpath','//div[@class=\"_3LWZlK _1BLPMq\"]')\n",
    "len(mob_rating)"
   ]
  },
  {
   "cell_type": "code",
   "execution_count": 119,
   "id": "d9547eba",
   "metadata": {},
   "outputs": [
    {
     "data": {
      "text/plain": [
       "['5', '5', '4', '5', '4', '5', '5', '5', '5', '5']"
      ]
     },
     "execution_count": 119,
     "metadata": {},
     "output_type": "execute_result"
    }
   ],
   "source": [
    "rating=[]\n",
    "for i in mob_rating:\n",
    "    rating.append(i.text)\n",
    "    if len(rating)==10:\n",
    "        break\n",
    "    \n",
    "rating"
   ]
  },
  {
   "cell_type": "code",
   "execution_count": 120,
   "id": "87e2051c",
   "metadata": {},
   "outputs": [
    {
     "data": {
      "text/plain": [
       "10"
      ]
     },
     "execution_count": 120,
     "metadata": {},
     "output_type": "execute_result"
    }
   ],
   "source": [
    "mob_review=driver.find_elements('xpath','//p[@class=\"_2-N8zT\"]')\n",
    "len(mob_review)"
   ]
  },
  {
   "cell_type": "code",
   "execution_count": 121,
   "id": "80f660f9",
   "metadata": {},
   "outputs": [
    {
     "data": {
      "text/plain": [
       "['Classy product',\n",
       " 'Worth every penny',\n",
       " 'Good choice',\n",
       " 'Classy product',\n",
       " 'Nice product',\n",
       " 'Perfect product!',\n",
       " 'Must buy!',\n",
       " 'Brilliant',\n",
       " 'Classy product',\n",
       " 'Must buy!']"
      ]
     },
     "execution_count": 121,
     "metadata": {},
     "output_type": "execute_result"
    }
   ],
   "source": [
    "review=[]\n",
    "for i in mob_review:\n",
    "    review.append(i.text)\n",
    "    if len(review)==10:\n",
    "        break\n",
    "    \n",
    "review"
   ]
  },
  {
   "cell_type": "code",
   "execution_count": 122,
   "id": "432ccc40",
   "metadata": {},
   "outputs": [
    {
     "data": {
      "text/plain": [
       "10"
      ]
     },
     "execution_count": 122,
     "metadata": {},
     "output_type": "execute_result"
    }
   ],
   "source": [
    "mob_fullreview=driver.find_elements('xpath','//div[@class=\"t-ZTKy\"]')\n",
    "len(mob_fullreview)"
   ]
  },
  {
   "cell_type": "code",
   "execution_count": 123,
   "id": "4d58a79d",
   "metadata": {},
   "outputs": [
    {
     "data": {
      "text/plain": [
       "['Totally in love with this ❤ the camera quality is amazing just love it 😘😘😘 itsss dammnnnnnn amazing... Must buy iPhone 11 this is my best experience ever ☀👌👌🧡🧡🧡🧡🧡 thanku apple ❤',\n",
       " 'It’s been almost a month since I have been using this phone. I upgraded from an iPhone 8. The main issue with my 8 was battery and this phone is just awesome when it comes to battery. It lasts a day and a half for me with my regular use , internet connected always with 4g\\nCan’t move forward without saying this. Battery of this phone is a life saver when I am traveling or at work when I don’t get the option to charge\\nCamera is superb. Front cam selfies and back cam photos are just awesome.\\n...\\nREAD MORE',\n",
       " 'Looking so good 👍 😍 super 👌 stylish 😎 phone\\nClean box 📦 good 👍 delivery 👌 fast delivery\\nOriginal box Original iphone 📱 👌 😍😍😍',\n",
       " 'We are on apple ecosystem for almost eight years now with couple of iPads and iPhones, including Xr.\\n\\nBought iPhone 11 as a gift to my daughter who loves it. We chose for a purple coloured one. Believe me it is gorgeous and towards the lighter shade. Dazzling and brilliant!\\n\\nThe phone is great and does excellent RAM management like any other Apple device.\\n\\nThe screen, though a LCD and lesser ppi as compared to other flagship phones of competitor brands, is a delight to watch with perfect re...\\nREAD MORE',\n",
       " 'Awesome Phone. Slightly high price but worth. Better than iPhone XR.\\nCamera is superb and wide angle camera is very clear.\\n12MP selfie camera is also very good.\\nA13 Chip gives a very good and smooth performance.',\n",
       " 'Battery backup is extraordinary, camera is decent & performance offered by A13 bionic is awsome. The display is good in practical usage like the visibility of display is very good in direct sun light compare to pro models. Iam extremely satisfied for the money I spent.',\n",
       " 'Best Apple iPhone that i have bought at a very reasonable price, camera quality is next level just awesome n of superior quality android phones not even close(RIP) to that and also battery is really good but packaging by Flipkart of iPhone was very poor of such a expensive product, firstly im bit worried about the quality of product if i purchased it through online how was the product but i think now this was mine best decision to bought it through Flipkart online because i got genuine Apple...\\nREAD MORE',\n",
       " 'I have migrated from OP 7pro... and trust me, iPhone 11 is totally worth it.. following are the reasons:-\\n1)there is ABSOLUTELY NO ISSUE WITH THE DISPLAY... its crisp, sharp and I found it to be much much better than OP7 pro. Netflix, Prime video all run crisply... you won’t miss a thing. True Tone works flawlessly...the display brightness is perfect. OP have not calibrated their screens properly.\\n2) iPhone 11 series have really good cameras... others have spoken in depth about them.\\n3) bat...\\nREAD MORE',\n",
       " 'Superb Product !!!\\nA big and worthy upgrade from mi 3S to iphone 11 .\\nTotally loved it !',\n",
       " 'It’s an amazing product from apple and the camera is simply superb. Phone is faster.Night shot is simply superb and detailing and colour differentiation from camera is an added advantage\\n\\nThis review I have written from iPhone 11 only and I am glad to say outside.\\n\\nCons wise if we see HD+ display only, no battery percentage indicator as in older iPhone 8.\\nNo assistive touch control button in it\\nNo oleophobic coating on back panel glass and finger prints are visible but since I bought mint gr...\\nREAD MORE']"
      ]
     },
     "execution_count": 123,
     "metadata": {},
     "output_type": "execute_result"
    }
   ],
   "source": [
    "full_review=[] # if len(full_review)==10:\n",
    "        \n",
    "    \n",
    "for i in mob_fullreview:\n",
    "    full_review.append(i.text)\n",
    "full_review"
   ]
  },
  {
   "cell_type": "code",
   "execution_count": 124,
   "id": "0b96e25a",
   "metadata": {},
   "outputs": [
    {
     "data": {
      "text/html": [
       "<div>\n",
       "<style scoped>\n",
       "    .dataframe tbody tr th:only-of-type {\n",
       "        vertical-align: middle;\n",
       "    }\n",
       "\n",
       "    .dataframe tbody tr th {\n",
       "        vertical-align: top;\n",
       "    }\n",
       "\n",
       "    .dataframe thead th {\n",
       "        text-align: right;\n",
       "    }\n",
       "</style>\n",
       "<table border=\"1\" class=\"dataframe\">\n",
       "  <thead>\n",
       "    <tr style=\"text-align: right;\">\n",
       "      <th></th>\n",
       "      <th>Rating</th>\n",
       "      <th>Review Summary</th>\n",
       "      <th>Full Review</th>\n",
       "    </tr>\n",
       "  </thead>\n",
       "  <tbody>\n",
       "    <tr>\n",
       "      <th>0</th>\n",
       "      <td>5</td>\n",
       "      <td>Classy product</td>\n",
       "      <td>Totally in love with this ❤ the camera quality...</td>\n",
       "    </tr>\n",
       "    <tr>\n",
       "      <th>1</th>\n",
       "      <td>5</td>\n",
       "      <td>Worth every penny</td>\n",
       "      <td>It’s been almost a month since I have been usi...</td>\n",
       "    </tr>\n",
       "    <tr>\n",
       "      <th>2</th>\n",
       "      <td>4</td>\n",
       "      <td>Good choice</td>\n",
       "      <td>Looking so good 👍 😍 super 👌 stylish 😎 phone\\nC...</td>\n",
       "    </tr>\n",
       "    <tr>\n",
       "      <th>3</th>\n",
       "      <td>5</td>\n",
       "      <td>Classy product</td>\n",
       "      <td>We are on apple ecosystem for almost eight yea...</td>\n",
       "    </tr>\n",
       "    <tr>\n",
       "      <th>4</th>\n",
       "      <td>4</td>\n",
       "      <td>Nice product</td>\n",
       "      <td>Awesome Phone. Slightly high price but worth. ...</td>\n",
       "    </tr>\n",
       "    <tr>\n",
       "      <th>5</th>\n",
       "      <td>5</td>\n",
       "      <td>Perfect product!</td>\n",
       "      <td>Battery backup is extraordinary, camera is dec...</td>\n",
       "    </tr>\n",
       "    <tr>\n",
       "      <th>6</th>\n",
       "      <td>5</td>\n",
       "      <td>Must buy!</td>\n",
       "      <td>Best Apple iPhone that i have bought at a very...</td>\n",
       "    </tr>\n",
       "    <tr>\n",
       "      <th>7</th>\n",
       "      <td>5</td>\n",
       "      <td>Brilliant</td>\n",
       "      <td>I have migrated from OP 7pro... and trust me, ...</td>\n",
       "    </tr>\n",
       "    <tr>\n",
       "      <th>8</th>\n",
       "      <td>5</td>\n",
       "      <td>Classy product</td>\n",
       "      <td>Superb Product !!!\\nA big and worthy upgrade f...</td>\n",
       "    </tr>\n",
       "    <tr>\n",
       "      <th>9</th>\n",
       "      <td>5</td>\n",
       "      <td>Must buy!</td>\n",
       "      <td>It’s an amazing product from apple and the cam...</td>\n",
       "    </tr>\n",
       "  </tbody>\n",
       "</table>\n",
       "</div>"
      ],
      "text/plain": [
       "  Rating     Review Summary                                        Full Review\n",
       "0      5     Classy product  Totally in love with this ❤ the camera quality...\n",
       "1      5  Worth every penny  It’s been almost a month since I have been usi...\n",
       "2      4        Good choice  Looking so good 👍 😍 super 👌 stylish 😎 phone\\nC...\n",
       "3      5     Classy product  We are on apple ecosystem for almost eight yea...\n",
       "4      4       Nice product  Awesome Phone. Slightly high price but worth. ...\n",
       "5      5   Perfect product!  Battery backup is extraordinary, camera is dec...\n",
       "6      5          Must buy!  Best Apple iPhone that i have bought at a very...\n",
       "7      5          Brilliant  I have migrated from OP 7pro... and trust me, ...\n",
       "8      5     Classy product  Superb Product !!!\\nA big and worthy upgrade f...\n",
       "9      5          Must buy!  It’s an amazing product from apple and the cam..."
      ]
     },
     "execution_count": 124,
     "metadata": {},
     "output_type": "execute_result"
    }
   ],
   "source": [
    "mob=pd.DataFrame()\n",
    "mob['Rating']= rating\n",
    "mob['Review Summary']= review\n",
    "mob['Full Review']=full_review\n",
    "mob"
   ]
  },
  {
   "cell_type": "code",
   "execution_count": 125,
   "id": "0da4ade9",
   "metadata": {},
   "outputs": [
    {
     "data": {
      "text/plain": [
       "<selenium.webdriver.remote.webelement.WebElement (session=\"5094d429b813e05ea08a54666d8b2b6d\", element=\"e689280b-2385-4fea-bbe5-e50f2d0d82a0\")>"
      ]
     },
     "execution_count": 125,
     "metadata": {},
     "output_type": "execute_result"
    }
   ],
   "source": [
    "next_btn= driver.find_element('xpath','/html/body/div/div/div[3]/div/div/div[2]/div[13]/div/div/nav/a[12]/span')\n",
    "next_btn"
   ]
  },
  {
   "cell_type": "code",
   "execution_count": 126,
   "id": "2faa5876",
   "metadata": {},
   "outputs": [],
   "source": [
    "next_btn.click()"
   ]
  },
  {
   "cell_type": "code",
   "execution_count": 127,
   "id": "5f750d0f",
   "metadata": {},
   "outputs": [
    {
     "data": {
      "text/plain": [
       "10"
      ]
     },
     "execution_count": 127,
     "metadata": {},
     "output_type": "execute_result"
    }
   ],
   "source": [
    "mob_rating=driver.find_elements('xpath','//div[@class=\"_3LWZlK _1BLPMq\"]')\n",
    "len(mob_rating)"
   ]
  },
  {
   "cell_type": "code",
   "execution_count": 128,
   "id": "ea0ebb4d",
   "metadata": {},
   "outputs": [
    {
     "data": {
      "text/plain": [
       "['5', '5', '5', '5', '5', '5', '5', '5', '5', '5']"
      ]
     },
     "execution_count": 128,
     "metadata": {},
     "output_type": "execute_result"
    }
   ],
   "source": [
    "rating=[]\n",
    "for i in mob_rating:\n",
    "    rating.append(i.text)\n",
    "    if len(rating)==10:\n",
    "        break\n",
    "    \n",
    "rating"
   ]
  },
  {
   "cell_type": "code",
   "execution_count": 129,
   "id": "6157911f",
   "metadata": {},
   "outputs": [
    {
     "data": {
      "text/plain": [
       "10"
      ]
     },
     "execution_count": 129,
     "metadata": {},
     "output_type": "execute_result"
    }
   ],
   "source": [
    "mob_review=driver.find_elements('xpath','//p[@class=\"_2-N8zT\"]')\n",
    "len(mob_review)"
   ]
  },
  {
   "cell_type": "code",
   "execution_count": 130,
   "id": "f8847fc9",
   "metadata": {},
   "outputs": [
    {
     "data": {
      "text/plain": [
       "['Great product',\n",
       " 'Perfect product!',\n",
       " 'Fabulous!',\n",
       " 'Wonderful',\n",
       " 'Simply awesome',\n",
       " 'Fabulous!',\n",
       " 'Classy product',\n",
       " 'Terrific purchase',\n",
       " 'Awesome',\n",
       " 'Excellent']"
      ]
     },
     "execution_count": 130,
     "metadata": {},
     "output_type": "execute_result"
    }
   ],
   "source": [
    "review=[]\n",
    "for i in mob_review:\n",
    "    review.append(i.text)\n",
    "    if len(review)==10:\n",
    "        break\n",
    "    \n",
    "review"
   ]
  },
  {
   "cell_type": "code",
   "execution_count": 131,
   "id": "33b484f8",
   "metadata": {},
   "outputs": [
    {
     "data": {
      "text/plain": [
       "10"
      ]
     },
     "execution_count": 131,
     "metadata": {},
     "output_type": "execute_result"
    }
   ],
   "source": [
    "mob_fullreview=driver.find_elements('xpath','//div[@class=\"t-ZTKy\"]')\n",
    "len(mob_fullreview)"
   ]
  },
  {
   "cell_type": "code",
   "execution_count": 132,
   "id": "1c7af169",
   "metadata": {},
   "outputs": [
    {
     "data": {
      "text/plain": [
       "[\"Again back to apple iphone after a gap of 2-3 years. It's pleasure to use iOS and the quality product by Apple. Iphone 11 still works like a beast in 2021 also. It really capable of doing day to day usage as well as hard core gaming. Battery is awesome. I'm really too much satisfied with it. Apart fto the very gorgious IPS LCD (AMOLED will be better) everything is mind boggling. Iphone💕.\",\n",
       " 'After 1 month use I found camera quality best compared to my previous Samsung note 10+.Display not good as note 10 also charging too slow.Apple should add fast charger like 11 plus and pro.Best phone for daily use',\n",
       " 'awesome phone to have. it has got many smart features apart from mind blowing looks, camera, display, battery and sound. have fallen in love with this phone. must buy phone if you have got enough money. thanks to flipkart and apple of course..',\n",
       " 'I just directly switch from iphone 6s to iphone 11 .The best premium smartphone I recommend to everyone. Excellent quality and colors the iphone have in 11 series.\\nCamera quality is just awesome and the major feel when we hold in our hands. The sound quality and volume is also higher then the previous models.\\nI will recommend to buy iphone 11 instead of pro models , there is nothing much difference as this model contains everything which fulfill our needs.\\n\\nOnly one thing that I dislike abo...\\nREAD MORE',\n",
       " \"It's very high performances devise i am like the service of flipkart delevary very fast and packing very nice perfect phone\",\n",
       " \"I can say I'm damn impressed with iPhone 11. As they says iPhone 11 have the toughest glass ever in the smartphone which you'll find on the front and back and it's totally smooth. The fit and finish is full apple quality - there's no sense that any cheaping out has happened in the construction. Without saying it's camera features this review won't complete. The iPhone 11 has a dual camera system, consisting of a wide angle len's that's pretty much same as found on the iPhone XR last year, but...\\nREAD MORE\",\n",
       " 'Well while switching from android to iOS the first thing you need to be careful about is that you will loose all your whatsapp chat backups as both are different operating systems. Camera clarity is awesome and though being an lcd screen clarity and resolution is good. Battery backup is also good unlike previous gen iPhone. So far the experience is good will Padre after a few months of usage.\\n\\nP.S the black is more of a dark grey shade and not jet black',\n",
       " 'Upgraded from iphone 6 to 11 best phone for iphone users battery is much better than other iphones camera is awesome love to use it.camera is so clear in night.',\n",
       " 'I am using this phone for 5 days and its one of the best camera out there ❤️ the screen is not oled and i am coming from iphone xs so its little bit not up to the mark i would say\\nBut overall value for money💕😍the battery back up is far better than my iphone xs and its worth in my apple ecosystem💫❤️if u are an apple User and have the eco system then go for it❤️though i will be getting the new iphone but its pretty good💫',\n",
       " 'Amazing camera and feel super machine I am not describe my feeling but this is amazing Phone I am so lucky I have this']"
      ]
     },
     "execution_count": 132,
     "metadata": {},
     "output_type": "execute_result"
    }
   ],
   "source": [
    "full_review=[] # if len(full_review)==10:\n",
    "        \n",
    "    \n",
    "for i in mob_fullreview:\n",
    "    full_review.append(i.text)\n",
    "full_review"
   ]
  },
  {
   "cell_type": "code",
   "execution_count": 133,
   "id": "c6ff587a",
   "metadata": {},
   "outputs": [
    {
     "data": {
      "text/html": [
       "<div>\n",
       "<style scoped>\n",
       "    .dataframe tbody tr th:only-of-type {\n",
       "        vertical-align: middle;\n",
       "    }\n",
       "\n",
       "    .dataframe tbody tr th {\n",
       "        vertical-align: top;\n",
       "    }\n",
       "\n",
       "    .dataframe thead th {\n",
       "        text-align: right;\n",
       "    }\n",
       "</style>\n",
       "<table border=\"1\" class=\"dataframe\">\n",
       "  <thead>\n",
       "    <tr style=\"text-align: right;\">\n",
       "      <th></th>\n",
       "      <th>Rating</th>\n",
       "      <th>Review Summary</th>\n",
       "      <th>Full Review</th>\n",
       "    </tr>\n",
       "  </thead>\n",
       "  <tbody>\n",
       "    <tr>\n",
       "      <th>0</th>\n",
       "      <td>5</td>\n",
       "      <td>Great product</td>\n",
       "      <td>Again back to apple iphone after a gap of 2-3 ...</td>\n",
       "    </tr>\n",
       "    <tr>\n",
       "      <th>1</th>\n",
       "      <td>5</td>\n",
       "      <td>Perfect product!</td>\n",
       "      <td>After 1 month use I found camera quality best ...</td>\n",
       "    </tr>\n",
       "    <tr>\n",
       "      <th>2</th>\n",
       "      <td>5</td>\n",
       "      <td>Fabulous!</td>\n",
       "      <td>awesome phone to have. it has got many smart f...</td>\n",
       "    </tr>\n",
       "    <tr>\n",
       "      <th>3</th>\n",
       "      <td>5</td>\n",
       "      <td>Wonderful</td>\n",
       "      <td>I just directly switch from iphone 6s to iphon...</td>\n",
       "    </tr>\n",
       "    <tr>\n",
       "      <th>4</th>\n",
       "      <td>5</td>\n",
       "      <td>Simply awesome</td>\n",
       "      <td>It's very high performances devise i am like t...</td>\n",
       "    </tr>\n",
       "    <tr>\n",
       "      <th>5</th>\n",
       "      <td>5</td>\n",
       "      <td>Fabulous!</td>\n",
       "      <td>I can say I'm damn impressed with iPhone 11. A...</td>\n",
       "    </tr>\n",
       "    <tr>\n",
       "      <th>6</th>\n",
       "      <td>5</td>\n",
       "      <td>Classy product</td>\n",
       "      <td>Well while switching from android to iOS the f...</td>\n",
       "    </tr>\n",
       "    <tr>\n",
       "      <th>7</th>\n",
       "      <td>5</td>\n",
       "      <td>Terrific purchase</td>\n",
       "      <td>Upgraded from iphone 6 to 11 best phone for ip...</td>\n",
       "    </tr>\n",
       "    <tr>\n",
       "      <th>8</th>\n",
       "      <td>5</td>\n",
       "      <td>Awesome</td>\n",
       "      <td>I am using this phone for 5 days and its one o...</td>\n",
       "    </tr>\n",
       "    <tr>\n",
       "      <th>9</th>\n",
       "      <td>5</td>\n",
       "      <td>Excellent</td>\n",
       "      <td>Amazing camera and feel super machine I am not...</td>\n",
       "    </tr>\n",
       "  </tbody>\n",
       "</table>\n",
       "</div>"
      ],
      "text/plain": [
       "  Rating     Review Summary                                        Full Review\n",
       "0      5      Great product  Again back to apple iphone after a gap of 2-3 ...\n",
       "1      5   Perfect product!  After 1 month use I found camera quality best ...\n",
       "2      5          Fabulous!  awesome phone to have. it has got many smart f...\n",
       "3      5          Wonderful  I just directly switch from iphone 6s to iphon...\n",
       "4      5     Simply awesome  It's very high performances devise i am like t...\n",
       "5      5          Fabulous!  I can say I'm damn impressed with iPhone 11. A...\n",
       "6      5     Classy product  Well while switching from android to iOS the f...\n",
       "7      5  Terrific purchase  Upgraded from iphone 6 to 11 best phone for ip...\n",
       "8      5            Awesome  I am using this phone for 5 days and its one o...\n",
       "9      5          Excellent  Amazing camera and feel super machine I am not..."
      ]
     },
     "execution_count": 133,
     "metadata": {},
     "output_type": "execute_result"
    }
   ],
   "source": [
    "mob=pd.DataFrame()\n",
    "mob['Rating']= rating\n",
    "mob['Review Summary']= review\n",
    "mob['Full Review']=full_review\n",
    "mob"
   ]
  },
  {
   "cell_type": "code",
   "execution_count": 134,
   "id": "1395ecf6",
   "metadata": {},
   "outputs": [
    {
     "data": {
      "text/plain": [
       "<selenium.webdriver.remote.webelement.WebElement (session=\"5094d429b813e05ea08a54666d8b2b6d\", element=\"cfdc4617-dbf8-4cf9-98c7-59ca1c3636d1\")>"
      ]
     },
     "execution_count": 134,
     "metadata": {},
     "output_type": "execute_result"
    }
   ],
   "source": [
    "next_btn= driver.find_element('xpath','/html/body/div/div/div[3]/div/div/div[2]/div[13]/div/div/nav/a[12]/span')\n",
    "next_btn"
   ]
  },
  {
   "cell_type": "code",
   "execution_count": 135,
   "id": "a4d13caa",
   "metadata": {},
   "outputs": [],
   "source": [
    "next_btn.click()"
   ]
  },
  {
   "cell_type": "code",
   "execution_count": 136,
   "id": "7c7747e2",
   "metadata": {},
   "outputs": [
    {
     "data": {
      "text/plain": [
       "9"
      ]
     },
     "execution_count": 136,
     "metadata": {},
     "output_type": "execute_result"
    }
   ],
   "source": [
    "mob_rating=driver.find_elements('xpath','//div[@class=\"_3LWZlK _1BLPMq\"]')\n",
    "len(mob_rating)"
   ]
  },
  {
   "cell_type": "code",
   "execution_count": 137,
   "id": "75c154e8",
   "metadata": {},
   "outputs": [
    {
     "data": {
      "text/plain": [
       "['5', '5', '5', '5', '4', '5', '5', '5', '5']"
      ]
     },
     "execution_count": 137,
     "metadata": {},
     "output_type": "execute_result"
    }
   ],
   "source": [
    "rating=[]\n",
    "for i in mob_rating:\n",
    "    rating.append(i.text)\n",
    "\n",
    "    if len(rating)==10:\n",
    "        break\n",
    "    \n",
    "rating"
   ]
  },
  {
   "cell_type": "code",
   "execution_count": 138,
   "id": "446dd996",
   "metadata": {},
   "outputs": [
    {
     "data": {
      "text/plain": [
       "10"
      ]
     },
     "execution_count": 138,
     "metadata": {},
     "output_type": "execute_result"
    }
   ],
   "source": [
    "mob_review=driver.find_elements('xpath','//p[@class=\"_2-N8zT\"]')\n",
    "len(mob_review)"
   ]
  },
  {
   "cell_type": "code",
   "execution_count": 139,
   "id": "02d071a4",
   "metadata": {},
   "outputs": [
    {
     "data": {
      "text/plain": [
       "['Great product',\n",
       " 'Terrific purchase',\n",
       " 'Mind-blowing purchase',\n",
       " 'Simply awesome',\n",
       " 'Good quality product',\n",
       " 'Very poor',\n",
       " 'Perfect product!',\n",
       " 'Fabulous!',\n",
       " 'Highly recommended']"
      ]
     },
     "execution_count": 139,
     "metadata": {},
     "output_type": "execute_result"
    }
   ],
   "source": [
    "review=[]\n",
    "for i in mob_review:\n",
    "    review.append(i.text)\n",
    "    if len(review)==9:\n",
    "        break\n",
    "    \n",
    "review"
   ]
  },
  {
   "cell_type": "code",
   "execution_count": 140,
   "id": "3c3b2edf",
   "metadata": {},
   "outputs": [
    {
     "data": {
      "text/plain": [
       "10"
      ]
     },
     "execution_count": 140,
     "metadata": {},
     "output_type": "execute_result"
    }
   ],
   "source": [
    "mob_fullreview=driver.find_elements('xpath','//div[@class=\"t-ZTKy\"]')\n",
    "len(mob_fullreview)"
   ]
  },
  {
   "cell_type": "code",
   "execution_count": 141,
   "id": "efe2f11b",
   "metadata": {},
   "outputs": [
    {
     "data": {
      "text/plain": [
       "['Well you all know the specifications . One of a kind. Best iPhone till date. Many enhancements to the camera app with many options. Love the glass body with matte finish in the lens area on the back. Lovely colours to choose from. Best battery in an iPhone till date, enough to last more than a day in normal usage. I tested my iPhone 11 battery and lasted for than 24 hours after full charge still with 30% battery charge left. Watched movies for some time. Normal usage on calls, browsing, musi...\\nREAD MORE',\n",
       " 'The built quality is not very premium.\\nThe battery back is great .\\nThe LCD panel is not so sharp but the brightness level is very High .\\nCamera is super duper awesome.\\nThe red colour which people think is bright is actually very soothing and excellent colour to choose from .\\nThe A13 Bionic chip is really a flagship processor and can beat any phone which even has 12 gb ram .\\nCamera module is very great and looks very stylish.',\n",
       " 'This will help you more. See if you are planning to buy iPhone 11. I will say. Yes. But there are some plans I just want to disclose before you buy. 1) If you are an existing iPhone X/XS/XS Max/ XR user, better you guys do not think it to buy. You guys have more or less better gadget. 2) If you are an android user and planning to buy premium phone. I will suggest them to please buy iPhone instead of buying an Android. I bet you will never go back to android after using IOS. Now I want to shar...\\nREAD MORE',\n",
       " 'Really good actually this is my first apple product am using its really awesome performance wise excellent. Am really happy with this iphone11',\n",
       " 'it is very good at performance. Camera is best like before and very smooth response even in water. Don’t buy 12 mini buy iPhone 11 , it is far better than 12 mini believe me ! Have a nice day \\uf8ff ☺️',\n",
       " 'Reviewing again after 5 months. At the beginning the battery and performance was good but it degraded soon. Also I was facing heating issues. The mobile will heat up like a stove sometimes. You cannot even play Pubg even in low settings properly, performance is not a problem but heating is. Also if you play that game for 10 mins the brightness will be automatically down due to over heating even when the auto brightness is set to off. This will not be solved even if u manually increase the bri...\\nREAD MORE',\n",
       " 'In love with this iphone great performance,camera ,battery everything. Go for it have a uncompareble battery backup, no doubts in iPhone camera here You can see the picture which is shot on my iPhone In love with this iphone great performance,camera ,battery everything. Go for it have a uncompareble battery backup, no doubts in iPhone camera here You can see the picture which is shot on my iPhone In love with this iphone great performance,camera ,battery everything. Go for it have a uncompare...\\nREAD MORE',\n",
       " 'Everything is perfect pictures come out so clearly and at first I wasn’t sure when I got it then when I started to use it and get the hang of it it was amazing!! I can’t wait to see what the next future phones will be like. The screen display on this bad boy are unbelievable they are so clear and never fail me. The performance is super cool there is a lot of cool features as well I like this phone because I feel that it is easy to use and one of my favorite things about this phone is the Face...\\nREAD MORE',\n",
       " 'Amazing camera quality as expected, battery also has very good performance. Display, body, and touch experience is the best I’ve ever had. Sound quality of speakers is more than sufficient. Apple is known for it’s customer friendly security services and I can see it how. The A13 processor is the best in its work. So I would definitely recommend it for everyone who are looking for it, just go for it without delay.\\n\\nThe most amazing thing it the delivery. Flipkart has delivered it in the span ...\\nREAD MORE']"
      ]
     },
     "execution_count": 141,
     "metadata": {},
     "output_type": "execute_result"
    }
   ],
   "source": [
    "full_review=[] # if len(full_review)==10:\n",
    "        \n",
    "    \n",
    "for i in mob_fullreview:\n",
    "    full_review.append(i.text)\n",
    "    if len(full_review)==9:\n",
    "        break\n",
    "full_review"
   ]
  },
  {
   "cell_type": "code",
   "execution_count": 142,
   "id": "a268433e",
   "metadata": {},
   "outputs": [
    {
     "data": {
      "text/html": [
       "<div>\n",
       "<style scoped>\n",
       "    .dataframe tbody tr th:only-of-type {\n",
       "        vertical-align: middle;\n",
       "    }\n",
       "\n",
       "    .dataframe tbody tr th {\n",
       "        vertical-align: top;\n",
       "    }\n",
       "\n",
       "    .dataframe thead th {\n",
       "        text-align: right;\n",
       "    }\n",
       "</style>\n",
       "<table border=\"1\" class=\"dataframe\">\n",
       "  <thead>\n",
       "    <tr style=\"text-align: right;\">\n",
       "      <th></th>\n",
       "      <th>Rating</th>\n",
       "      <th>Review Summary</th>\n",
       "      <th>Full Review</th>\n",
       "    </tr>\n",
       "  </thead>\n",
       "  <tbody>\n",
       "    <tr>\n",
       "      <th>0</th>\n",
       "      <td>5</td>\n",
       "      <td>Great product</td>\n",
       "      <td>Well you all know the specifications . One of ...</td>\n",
       "    </tr>\n",
       "    <tr>\n",
       "      <th>1</th>\n",
       "      <td>5</td>\n",
       "      <td>Terrific purchase</td>\n",
       "      <td>The built quality is not very premium.\\nThe ba...</td>\n",
       "    </tr>\n",
       "    <tr>\n",
       "      <th>2</th>\n",
       "      <td>5</td>\n",
       "      <td>Mind-blowing purchase</td>\n",
       "      <td>This will help you more. See if you are planni...</td>\n",
       "    </tr>\n",
       "    <tr>\n",
       "      <th>3</th>\n",
       "      <td>5</td>\n",
       "      <td>Simply awesome</td>\n",
       "      <td>Really good actually this is my first apple pr...</td>\n",
       "    </tr>\n",
       "    <tr>\n",
       "      <th>4</th>\n",
       "      <td>4</td>\n",
       "      <td>Good quality product</td>\n",
       "      <td>it is very good at performance. Camera is best...</td>\n",
       "    </tr>\n",
       "    <tr>\n",
       "      <th>5</th>\n",
       "      <td>5</td>\n",
       "      <td>Very poor</td>\n",
       "      <td>Reviewing again after 5 months. At the beginni...</td>\n",
       "    </tr>\n",
       "    <tr>\n",
       "      <th>6</th>\n",
       "      <td>5</td>\n",
       "      <td>Perfect product!</td>\n",
       "      <td>In love with this iphone great performance,cam...</td>\n",
       "    </tr>\n",
       "    <tr>\n",
       "      <th>7</th>\n",
       "      <td>5</td>\n",
       "      <td>Fabulous!</td>\n",
       "      <td>Everything is perfect pictures come out so cle...</td>\n",
       "    </tr>\n",
       "    <tr>\n",
       "      <th>8</th>\n",
       "      <td>5</td>\n",
       "      <td>Highly recommended</td>\n",
       "      <td>Amazing camera quality as expected, battery al...</td>\n",
       "    </tr>\n",
       "  </tbody>\n",
       "</table>\n",
       "</div>"
      ],
      "text/plain": [
       "  Rating         Review Summary  \\\n",
       "0      5          Great product   \n",
       "1      5      Terrific purchase   \n",
       "2      5  Mind-blowing purchase   \n",
       "3      5         Simply awesome   \n",
       "4      4   Good quality product   \n",
       "5      5              Very poor   \n",
       "6      5       Perfect product!   \n",
       "7      5              Fabulous!   \n",
       "8      5     Highly recommended   \n",
       "\n",
       "                                         Full Review  \n",
       "0  Well you all know the specifications . One of ...  \n",
       "1  The built quality is not very premium.\\nThe ba...  \n",
       "2  This will help you more. See if you are planni...  \n",
       "3  Really good actually this is my first apple pr...  \n",
       "4  it is very good at performance. Camera is best...  \n",
       "5  Reviewing again after 5 months. At the beginni...  \n",
       "6  In love with this iphone great performance,cam...  \n",
       "7  Everything is perfect pictures come out so cle...  \n",
       "8  Amazing camera quality as expected, battery al...  "
      ]
     },
     "execution_count": 142,
     "metadata": {},
     "output_type": "execute_result"
    }
   ],
   "source": [
    "mob=pd.DataFrame()\n",
    "mob['Rating']= rating\n",
    "mob['Review Summary']=review\n",
    "mob['Full Review']=full_review\n",
    "mob"
   ]
  },
  {
   "cell_type": "code",
   "execution_count": 143,
   "id": "7d79a0b8",
   "metadata": {},
   "outputs": [
    {
     "data": {
      "text/plain": [
       "<selenium.webdriver.remote.webelement.WebElement (session=\"5094d429b813e05ea08a54666d8b2b6d\", element=\"6176dd32-7f0a-4725-a2d3-ffa31919b08e\")>"
      ]
     },
     "execution_count": 143,
     "metadata": {},
     "output_type": "execute_result"
    }
   ],
   "source": [
    "next_btn= driver.find_element('xpath','/html/body/div/div/div[3]/div/div/div[2]/div[13]/div/div/nav/a[12]/span')\n",
    "next_btn"
   ]
  },
  {
   "cell_type": "code",
   "execution_count": 144,
   "id": "458de246",
   "metadata": {},
   "outputs": [],
   "source": [
    "next_btn.click()"
   ]
  },
  {
   "cell_type": "code",
   "execution_count": 145,
   "id": "d61d219c",
   "metadata": {},
   "outputs": [
    {
     "data": {
      "text/plain": [
       "10"
      ]
     },
     "execution_count": 145,
     "metadata": {},
     "output_type": "execute_result"
    }
   ],
   "source": [
    "mob_rating=driver.find_elements('xpath','//div[@class=\"_3LWZlK _1BLPMq\"]')\n",
    "len(mob_rating)"
   ]
  },
  {
   "cell_type": "code",
   "execution_count": 146,
   "id": "939d48d0",
   "metadata": {},
   "outputs": [
    {
     "data": {
      "text/plain": [
       "['5', '5', '5', '5', '4', '5', '5', '5', '5', '4']"
      ]
     },
     "execution_count": 146,
     "metadata": {},
     "output_type": "execute_result"
    }
   ],
   "source": [
    "rating=[]\n",
    "for i in mob_rating:\n",
    "    rating.append(i.text)\n",
    "\n",
    "    if len(rating)==10:\n",
    "        break\n",
    "    \n",
    "rating"
   ]
  },
  {
   "cell_type": "code",
   "execution_count": 147,
   "id": "ba80727e",
   "metadata": {},
   "outputs": [
    {
     "data": {
      "text/plain": [
       "10"
      ]
     },
     "execution_count": 147,
     "metadata": {},
     "output_type": "execute_result"
    }
   ],
   "source": [
    "mob_review=driver.find_elements('xpath','//p[@class=\"_2-N8zT\"]')\n",
    "len(mob_review)"
   ]
  },
  {
   "cell_type": "code",
   "execution_count": 148,
   "id": "51cdb6ca",
   "metadata": {},
   "outputs": [
    {
     "data": {
      "text/plain": [
       "['Mind-blowing purchase',\n",
       " 'Wonderful',\n",
       " 'Must buy!',\n",
       " 'Just wow!',\n",
       " 'Very Good',\n",
       " 'Wonderful',\n",
       " 'Just wow!',\n",
       " 'Awesome',\n",
       " 'Mind-blowing purchase',\n",
       " 'Pretty good']"
      ]
     },
     "execution_count": 148,
     "metadata": {},
     "output_type": "execute_result"
    }
   ],
   "source": [
    "review=[]\n",
    "for i in mob_review:\n",
    "    review.append(i.text)\n",
    "    if len(review)==10:\n",
    "        break\n",
    "    \n",
    "review"
   ]
  },
  {
   "cell_type": "code",
   "execution_count": 149,
   "id": "05dffccb",
   "metadata": {},
   "outputs": [
    {
     "data": {
      "text/plain": [
       "10"
      ]
     },
     "execution_count": 149,
     "metadata": {},
     "output_type": "execute_result"
    }
   ],
   "source": [
    "mob_fullreview=driver.find_elements('xpath','//div[@class=\"t-ZTKy\"]')\n",
    "len(mob_fullreview)"
   ]
  },
  {
   "cell_type": "code",
   "execution_count": 150,
   "id": "61a8fe26",
   "metadata": {},
   "outputs": [
    {
     "data": {
      "text/plain": [
       "['First thanks to Flipkart for this amazing deal and phone is outstanding. I upgraded from iPhone 7 and this is like very big upgrade. But the packaging was very basic I expected a good packaging as they only wrapped one layer of bubble wrap which I don’t think is enough to protect this expensive phone. And I recommend this phone and seller as well.\\n\\nAnd I’m posting this review after using it for 4 days.',\n",
       " 'Superfast delivery by Flipkart. Thanks.\\n\\n1. iPhone 11 is a pretty solid phone for the money you are paying.\\n2. All the bad reviews about the display is confusing. It’s not that bad.\\n3. I switched from a Oneplus 7t. I have no complaints about the display quality of iPhone. Yes, it’s not OLED, so, we are missing on the deep blacks. But that’s it. It is a very colour accurate display. Gets adequately bright and I could not find any pixelation.\\n4. Performance is one of the best, if not best, in ...\\nREAD MORE',\n",
       " 'I rate this product 5* as it has got amazing user experience with the best performing A13 bionic processor. The screen responds and graphics rendering is top notch. With casual gaming and internet browsing, the battery lasts for approx. 1 day. Camera is very good. You will fall in love with the portrait mode. You can call me a loyal Apple customer or whatever but I won’t stop praising the products and overall experience. That user experience matters and is worth every penny you pay.\\n\\nBelow ar...\\nREAD MORE',\n",
       " 'The ultimate performance\\nCamera is superb\\nThe battery backup also very good i never saw iphone gives this much of battery backup\\nIf any one wana buy iphone 11 definitely i will recommend this mobile\\nIt has the better battery and powerfull processer peak performance glorious camera and the display also 100% high quality lcd display if u had money for for 12 if u dont wana invest much money on that then go for iphone 11 it has maximum same specs only main difference between the 12 and 11 is...\\nREAD MORE',\n",
       " 'impressive super phone and best in class camera ,sound and face unlock is super fast just see and phone is unlock and fast in daily apps use',\n",
       " 'Super and marvellous phone look very cute and nice sound. I love this phone i think white is good colur.Excellent camer 5*😍😘♥️♥️',\n",
       " 'Best in class. Battery backup is good especially when you play games like Pubg COD. But it is sort of heavy when you hold in hands. Portrait mode is best to click pictures. Stage light effect is awesome. Try to click photos outside in nature because photos inside home or room will not give you the quality in any phone even in DSLR.',\n",
       " 'Very excited to have this phone. This phone has the real power unlike the android phones having SD 855 . The battery life is very good and the camera quality is excellent as comapred to redmi and other phones except google pixel. I M enjoying every single bit of it. Would recommed only if you have the budget.',\n",
       " 'Excellent camera 📸 And Display touching very Nice And Smooth and very improvement against\\nI phone 11 and new processor is very fast',\n",
       " 'I was using Iphone 6s and also Oneplus 6t. Both mobiles were perfectly alright in Photos, gaming, and smooth interface . My 6s mobile getting battery issue. thought upgrade to 11. Really like this mobile of its Internal storage (compare to 6s) , camera and its touch feeling. Its a worth buying mobile for me.']"
      ]
     },
     "execution_count": 150,
     "metadata": {},
     "output_type": "execute_result"
    }
   ],
   "source": [
    "full_review=[]\n",
    "        \n",
    "    \n",
    "for i in mob_fullreview:\n",
    "    full_review.append(i.text)\n",
    "    if len(full_review)==10:\n",
    "        break\n",
    "full_review"
   ]
  },
  {
   "cell_type": "code",
   "execution_count": 151,
   "id": "f4453a65",
   "metadata": {},
   "outputs": [
    {
     "data": {
      "text/html": [
       "<div>\n",
       "<style scoped>\n",
       "    .dataframe tbody tr th:only-of-type {\n",
       "        vertical-align: middle;\n",
       "    }\n",
       "\n",
       "    .dataframe tbody tr th {\n",
       "        vertical-align: top;\n",
       "    }\n",
       "\n",
       "    .dataframe thead th {\n",
       "        text-align: right;\n",
       "    }\n",
       "</style>\n",
       "<table border=\"1\" class=\"dataframe\">\n",
       "  <thead>\n",
       "    <tr style=\"text-align: right;\">\n",
       "      <th></th>\n",
       "      <th>Rating</th>\n",
       "      <th>Review Summary</th>\n",
       "      <th>Full Review</th>\n",
       "    </tr>\n",
       "  </thead>\n",
       "  <tbody>\n",
       "    <tr>\n",
       "      <th>0</th>\n",
       "      <td>5</td>\n",
       "      <td>Mind-blowing purchase</td>\n",
       "      <td>First thanks to Flipkart for this amazing deal...</td>\n",
       "    </tr>\n",
       "    <tr>\n",
       "      <th>1</th>\n",
       "      <td>5</td>\n",
       "      <td>Wonderful</td>\n",
       "      <td>Superfast delivery by Flipkart. Thanks.\\n\\n1. ...</td>\n",
       "    </tr>\n",
       "    <tr>\n",
       "      <th>2</th>\n",
       "      <td>5</td>\n",
       "      <td>Must buy!</td>\n",
       "      <td>I rate this product 5* as it has got amazing u...</td>\n",
       "    </tr>\n",
       "    <tr>\n",
       "      <th>3</th>\n",
       "      <td>5</td>\n",
       "      <td>Just wow!</td>\n",
       "      <td>The ultimate performance\\nCamera is superb\\nTh...</td>\n",
       "    </tr>\n",
       "    <tr>\n",
       "      <th>4</th>\n",
       "      <td>4</td>\n",
       "      <td>Very Good</td>\n",
       "      <td>impressive super phone and best in class camer...</td>\n",
       "    </tr>\n",
       "    <tr>\n",
       "      <th>5</th>\n",
       "      <td>5</td>\n",
       "      <td>Wonderful</td>\n",
       "      <td>Super and marvellous phone look very cute and ...</td>\n",
       "    </tr>\n",
       "    <tr>\n",
       "      <th>6</th>\n",
       "      <td>5</td>\n",
       "      <td>Just wow!</td>\n",
       "      <td>Best in class. Battery backup is good especial...</td>\n",
       "    </tr>\n",
       "    <tr>\n",
       "      <th>7</th>\n",
       "      <td>5</td>\n",
       "      <td>Awesome</td>\n",
       "      <td>Very excited to have this phone. This phone ha...</td>\n",
       "    </tr>\n",
       "    <tr>\n",
       "      <th>8</th>\n",
       "      <td>5</td>\n",
       "      <td>Mind-blowing purchase</td>\n",
       "      <td>Excellent camera 📸 And Display touching very N...</td>\n",
       "    </tr>\n",
       "    <tr>\n",
       "      <th>9</th>\n",
       "      <td>4</td>\n",
       "      <td>Pretty good</td>\n",
       "      <td>I was using Iphone 6s and also Oneplus 6t. Bot...</td>\n",
       "    </tr>\n",
       "  </tbody>\n",
       "</table>\n",
       "</div>"
      ],
      "text/plain": [
       "  Rating         Review Summary  \\\n",
       "0      5  Mind-blowing purchase   \n",
       "1      5              Wonderful   \n",
       "2      5              Must buy!   \n",
       "3      5              Just wow!   \n",
       "4      4              Very Good   \n",
       "5      5              Wonderful   \n",
       "6      5              Just wow!   \n",
       "7      5                Awesome   \n",
       "8      5  Mind-blowing purchase   \n",
       "9      4            Pretty good   \n",
       "\n",
       "                                         Full Review  \n",
       "0  First thanks to Flipkart for this amazing deal...  \n",
       "1  Superfast delivery by Flipkart. Thanks.\\n\\n1. ...  \n",
       "2  I rate this product 5* as it has got amazing u...  \n",
       "3  The ultimate performance\\nCamera is superb\\nTh...  \n",
       "4  impressive super phone and best in class camer...  \n",
       "5  Super and marvellous phone look very cute and ...  \n",
       "6  Best in class. Battery backup is good especial...  \n",
       "7  Very excited to have this phone. This phone ha...  \n",
       "8  Excellent camera 📸 And Display touching very N...  \n",
       "9  I was using Iphone 6s and also Oneplus 6t. Bot...  "
      ]
     },
     "execution_count": 151,
     "metadata": {},
     "output_type": "execute_result"
    }
   ],
   "source": [
    "mob=pd.DataFrame()\n",
    "mob['Rating']= rating\n",
    "mob['Review Summary']=review\n",
    "mob['Full Review']=full_review\n",
    "mob"
   ]
  },
  {
   "cell_type": "code",
   "execution_count": 152,
   "id": "c0bad37b",
   "metadata": {},
   "outputs": [
    {
     "data": {
      "text/plain": [
       "<selenium.webdriver.remote.webelement.WebElement (session=\"5094d429b813e05ea08a54666d8b2b6d\", element=\"f93a4328-9a47-4063-a96f-172abf293a43\")>"
      ]
     },
     "execution_count": 152,
     "metadata": {},
     "output_type": "execute_result"
    }
   ],
   "source": [
    "next_btn= driver.find_element('xpath','/html/body/div/div/div[3]/div/div/div[2]/div[13]/div/div/nav/a[12]/span')\n",
    "next_btn"
   ]
  },
  {
   "cell_type": "code",
   "execution_count": 153,
   "id": "98c62642",
   "metadata": {},
   "outputs": [],
   "source": [
    "next_btn.click()"
   ]
  },
  {
   "cell_type": "code",
   "execution_count": 154,
   "id": "fe322240",
   "metadata": {},
   "outputs": [
    {
     "data": {
      "text/plain": [
       "10"
      ]
     },
     "execution_count": 154,
     "metadata": {},
     "output_type": "execute_result"
    }
   ],
   "source": [
    "mob_rating=driver.find_elements('xpath','//div[@class=\"_3LWZlK _1BLPMq\"]')\n",
    "len(mob_rating)"
   ]
  },
  {
   "cell_type": "code",
   "execution_count": 155,
   "id": "981c9b2b",
   "metadata": {},
   "outputs": [
    {
     "data": {
      "text/plain": [
       "['5', '5', '5', '5', '5', '5', '3', '5', '5', '5']"
      ]
     },
     "execution_count": 155,
     "metadata": {},
     "output_type": "execute_result"
    }
   ],
   "source": [
    "rating=[]\n",
    "for i in mob_rating:\n",
    "    rating.append(i.text)\n",
    "\n",
    "    if len(rating)==10:\n",
    "        break\n",
    "    \n",
    "rating"
   ]
  },
  {
   "cell_type": "code",
   "execution_count": 156,
   "id": "8f0b0692",
   "metadata": {},
   "outputs": [
    {
     "data": {
      "text/plain": [
       "10"
      ]
     },
     "execution_count": 156,
     "metadata": {},
     "output_type": "execute_result"
    }
   ],
   "source": [
    "mob_review=driver.find_elements('xpath','//p[@class=\"_2-N8zT\"]')\n",
    "len(mob_review)"
   ]
  },
  {
   "cell_type": "code",
   "execution_count": 157,
   "id": "2bd3f8c6",
   "metadata": {},
   "outputs": [
    {
     "data": {
      "text/plain": [
       "['Terrific purchase',\n",
       " 'Classy product',\n",
       " 'Brilliant',\n",
       " 'Terrific',\n",
       " 'Perfect product!',\n",
       " 'Awesome',\n",
       " 'Does the job',\n",
       " 'Perfect product!',\n",
       " 'Highly recommended',\n",
       " 'Excellent']"
      ]
     },
     "execution_count": 157,
     "metadata": {},
     "output_type": "execute_result"
    }
   ],
   "source": [
    "review=[]\n",
    "for i in mob_review:\n",
    "    review.append(i.text)\n",
    "    if len(review)==10:\n",
    "        break\n",
    "    \n",
    "review"
   ]
  },
  {
   "cell_type": "code",
   "execution_count": 158,
   "id": "af6b7e6c",
   "metadata": {},
   "outputs": [
    {
     "data": {
      "text/plain": [
       "10"
      ]
     },
     "execution_count": 158,
     "metadata": {},
     "output_type": "execute_result"
    }
   ],
   "source": [
    "mob_fullreview=driver.find_elements('xpath','//div[@class=\"t-ZTKy\"]')\n",
    "len(mob_fullreview)"
   ]
  },
  {
   "cell_type": "code",
   "execution_count": 159,
   "id": "d45d1faf",
   "metadata": {},
   "outputs": [
    {
     "data": {
      "text/plain": [
       "['Its Very awesome product working and good camera quality and all about best product and also flipkart is very great deal and offer nice price',\n",
       " 'Best and amazing product.....phone looks so premium.... battary is also good as expected .... Wide angle camera is so addictive ...if you are a IOS lover....then this phone will be the best choice for you all!!💯🔥',\n",
       " 'Excellent camera and display touching very nice and smooth very improvement against iPhone XR and new processor is very fast',\n",
       " \"I got this beast today. And I must say the picture quality of its camera is awesome. Both the cameras works fine.\\n\\nAs for as the processing is concerned, it runs without any lag. You can play and do whatever you want without a glitch.\\n\\nThe battery runs for a day with medium and high workload.\\n\\nThe display is good and the speakers are working fine.\\n\\nThe earphones doesn't have any base and you can use it for calling mostly.\\n\\nThe charging time is approximately for 90 minutes for full charging...\\nREAD MORE\",\n",
       " 'Awesome purchase. Amazing phone with good battery backup. It’s a top notch device. White colour looks amazing. Phone has a few extra feature than iPhone XR. Overall, this is value for money',\n",
       " 'Always love the apple products, upgraded from old iPhone 6S plus to this after having my first baby. I just love to click baby’s photos with it. Overall I just love this phone. Battery back up is okay, sound quality is good. Haven’t tested yet waterproof yet. Only one thing I hate is apple could have given charger & headphones in box.',\n",
       " \"phone is good but in display is 720p lcd in this price range we can get full hd OLED displays with higher refresh rate processor is very good camera is nice but looks kind of oldish in front of todays phone also there's no charging in box had to buy it seperately\",\n",
       " 'Value for money\\n5 star rating\\nExcellent camera\\nBattery backup full day in single charge.\\n\\nTougher and water resistant design, glossy back.\\nThe screen has excellent brightness and contrast.\\nApple A13 Bionic is the fastest smartphone chip on the planet.\\nExcellent battery life, fast charging support.\\nStereo speakers with great quality.',\n",
       " 'Thanks Flipkart For this amazing deal! I had a dream of owning a iphone since i had known about.\\nIm very happy with my purchase & it is totally worth it.\\nAmazing experience all over !!\\n\\nAnyone who’s thinking of buying it in 2021, i would simply say go for it without any second thoughts ❤️',\n",
       " 'Its a fabulous mobile look awesome performance unbeaten camera like dslr battery good i think this is a beast of mobile']"
      ]
     },
     "execution_count": 159,
     "metadata": {},
     "output_type": "execute_result"
    }
   ],
   "source": [
    "full_review=[]\n",
    "        \n",
    "    \n",
    "for i in mob_fullreview:\n",
    "    full_review.append(i.text)\n",
    "    if len(full_review)==10:\n",
    "        break\n",
    "full_review"
   ]
  },
  {
   "cell_type": "code",
   "execution_count": 160,
   "id": "7a1863ee",
   "metadata": {},
   "outputs": [
    {
     "data": {
      "text/html": [
       "<div>\n",
       "<style scoped>\n",
       "    .dataframe tbody tr th:only-of-type {\n",
       "        vertical-align: middle;\n",
       "    }\n",
       "\n",
       "    .dataframe tbody tr th {\n",
       "        vertical-align: top;\n",
       "    }\n",
       "\n",
       "    .dataframe thead th {\n",
       "        text-align: right;\n",
       "    }\n",
       "</style>\n",
       "<table border=\"1\" class=\"dataframe\">\n",
       "  <thead>\n",
       "    <tr style=\"text-align: right;\">\n",
       "      <th></th>\n",
       "      <th>Rating</th>\n",
       "      <th>Review Summary</th>\n",
       "      <th>Full Review</th>\n",
       "    </tr>\n",
       "  </thead>\n",
       "  <tbody>\n",
       "    <tr>\n",
       "      <th>0</th>\n",
       "      <td>5</td>\n",
       "      <td>Terrific purchase</td>\n",
       "      <td>Its Very awesome product working and good came...</td>\n",
       "    </tr>\n",
       "    <tr>\n",
       "      <th>1</th>\n",
       "      <td>5</td>\n",
       "      <td>Classy product</td>\n",
       "      <td>Best and amazing product.....phone looks so pr...</td>\n",
       "    </tr>\n",
       "    <tr>\n",
       "      <th>2</th>\n",
       "      <td>5</td>\n",
       "      <td>Brilliant</td>\n",
       "      <td>Excellent camera and display touching very nic...</td>\n",
       "    </tr>\n",
       "    <tr>\n",
       "      <th>3</th>\n",
       "      <td>5</td>\n",
       "      <td>Terrific</td>\n",
       "      <td>I got this beast today. And I must say the pic...</td>\n",
       "    </tr>\n",
       "    <tr>\n",
       "      <th>4</th>\n",
       "      <td>5</td>\n",
       "      <td>Perfect product!</td>\n",
       "      <td>Awesome purchase. Amazing phone with good batt...</td>\n",
       "    </tr>\n",
       "    <tr>\n",
       "      <th>5</th>\n",
       "      <td>5</td>\n",
       "      <td>Awesome</td>\n",
       "      <td>Always love the apple products, upgraded from ...</td>\n",
       "    </tr>\n",
       "    <tr>\n",
       "      <th>6</th>\n",
       "      <td>3</td>\n",
       "      <td>Does the job</td>\n",
       "      <td>phone is good but in display is 720p lcd in th...</td>\n",
       "    </tr>\n",
       "    <tr>\n",
       "      <th>7</th>\n",
       "      <td>5</td>\n",
       "      <td>Perfect product!</td>\n",
       "      <td>Value for money\\n5 star rating\\nExcellent came...</td>\n",
       "    </tr>\n",
       "    <tr>\n",
       "      <th>8</th>\n",
       "      <td>5</td>\n",
       "      <td>Highly recommended</td>\n",
       "      <td>Thanks Flipkart For this amazing deal! I had a...</td>\n",
       "    </tr>\n",
       "    <tr>\n",
       "      <th>9</th>\n",
       "      <td>5</td>\n",
       "      <td>Excellent</td>\n",
       "      <td>Its a fabulous mobile look awesome performance...</td>\n",
       "    </tr>\n",
       "  </tbody>\n",
       "</table>\n",
       "</div>"
      ],
      "text/plain": [
       "  Rating      Review Summary  \\\n",
       "0      5   Terrific purchase   \n",
       "1      5      Classy product   \n",
       "2      5           Brilliant   \n",
       "3      5            Terrific   \n",
       "4      5    Perfect product!   \n",
       "5      5             Awesome   \n",
       "6      3        Does the job   \n",
       "7      5    Perfect product!   \n",
       "8      5  Highly recommended   \n",
       "9      5           Excellent   \n",
       "\n",
       "                                         Full Review  \n",
       "0  Its Very awesome product working and good came...  \n",
       "1  Best and amazing product.....phone looks so pr...  \n",
       "2  Excellent camera and display touching very nic...  \n",
       "3  I got this beast today. And I must say the pic...  \n",
       "4  Awesome purchase. Amazing phone with good batt...  \n",
       "5  Always love the apple products, upgraded from ...  \n",
       "6  phone is good but in display is 720p lcd in th...  \n",
       "7  Value for money\\n5 star rating\\nExcellent came...  \n",
       "8  Thanks Flipkart For this amazing deal! I had a...  \n",
       "9  Its a fabulous mobile look awesome performance...  "
      ]
     },
     "execution_count": 160,
     "metadata": {},
     "output_type": "execute_result"
    }
   ],
   "source": [
    "mob=pd.DataFrame()\n",
    "mob['Rating']= rating\n",
    "mob['Review Summary']=review\n",
    "mob['Full Review']=full_review\n",
    "mob"
   ]
  },
  {
   "cell_type": "code",
   "execution_count": 161,
   "id": "03c4dd10",
   "metadata": {},
   "outputs": [
    {
     "data": {
      "text/plain": [
       "<selenium.webdriver.remote.webelement.WebElement (session=\"5094d429b813e05ea08a54666d8b2b6d\", element=\"c9628bc8-c0cf-47e0-ad38-58ef53ba08df\")>"
      ]
     },
     "execution_count": 161,
     "metadata": {},
     "output_type": "execute_result"
    }
   ],
   "source": [
    "next_btn= driver.find_element('xpath','/html/body/div/div/div[3]/div/div/div[2]/div[13]/div/div/nav/a[12]/span')\n",
    "next_btn"
   ]
  },
  {
   "cell_type": "code",
   "execution_count": 162,
   "id": "e6114e52",
   "metadata": {},
   "outputs": [],
   "source": [
    "next_btn.click()"
   ]
  },
  {
   "cell_type": "code",
   "execution_count": 163,
   "id": "45feda57",
   "metadata": {},
   "outputs": [
    {
     "data": {
      "text/plain": [
       "10"
      ]
     },
     "execution_count": 163,
     "metadata": {},
     "output_type": "execute_result"
    }
   ],
   "source": [
    "mob_rating=driver.find_elements('xpath','//div[@class=\"_3LWZlK _1BLPMq\"]')\n",
    "len(mob_rating)"
   ]
  },
  {
   "cell_type": "code",
   "execution_count": 164,
   "id": "db6851ff",
   "metadata": {},
   "outputs": [
    {
     "data": {
      "text/plain": [
       "['5', '5', '4', '5', '5', '5', '4', '5', '5', '5']"
      ]
     },
     "execution_count": 164,
     "metadata": {},
     "output_type": "execute_result"
    }
   ],
   "source": [
    "rating=[]\n",
    "for i in mob_rating:\n",
    "    rating.append(i.text)\n",
    "\n",
    "    if len(rating)==10:\n",
    "        break\n",
    "    \n",
    "rating"
   ]
  },
  {
   "cell_type": "code",
   "execution_count": 165,
   "id": "f89aff19",
   "metadata": {},
   "outputs": [
    {
     "data": {
      "text/plain": [
       "10"
      ]
     },
     "execution_count": 165,
     "metadata": {},
     "output_type": "execute_result"
    }
   ],
   "source": [
    "mob_review=driver.find_elements('xpath','//p[@class=\"_2-N8zT\"]')\n",
    "len(mob_review)"
   ]
  },
  {
   "cell_type": "code",
   "execution_count": 166,
   "id": "af63eb44",
   "metadata": {},
   "outputs": [
    {
     "data": {
      "text/plain": [
       "['Brilliant',\n",
       " 'Must buy!',\n",
       " 'Value-for-money',\n",
       " 'Best in the market!',\n",
       " 'Brilliant',\n",
       " 'Terrific purchase',\n",
       " 'Good quality product',\n",
       " 'Terrific',\n",
       " 'Best in the market!',\n",
       " 'Perfect product!']"
      ]
     },
     "execution_count": 166,
     "metadata": {},
     "output_type": "execute_result"
    }
   ],
   "source": [
    "review=[]\n",
    "for i in mob_review:\n",
    "    review.append(i.text)\n",
    "    if len(review)==10:\n",
    "        break\n",
    "    \n",
    "review"
   ]
  },
  {
   "cell_type": "code",
   "execution_count": 167,
   "id": "06e6509d",
   "metadata": {},
   "outputs": [
    {
     "data": {
      "text/plain": [
       "10"
      ]
     },
     "execution_count": 167,
     "metadata": {},
     "output_type": "execute_result"
    }
   ],
   "source": [
    "mob_fullreview=driver.find_elements('xpath','//div[@class=\"t-ZTKy\"]')\n",
    "len(mob_fullreview)"
   ]
  },
  {
   "cell_type": "code",
   "execution_count": 168,
   "id": "d322cc2c",
   "metadata": {},
   "outputs": [
    {
     "data": {
      "text/plain": [
       "['A wort full value for money decision it’s . Simply go for it in 2021 its still a good decision . Awesome camera , Super smothered performance, Heck of build quality. And Most important it protects your privacy.',\n",
       " 'Dear friends... I want to share my experience with you about this amazing I phone 11....this is my first iPhone and special things about this mobile is it has great camera, battery backup and awesome display.... I mean everything is perfect.loved it 👍👍👍',\n",
       " \"Just got this iphone 11\\nAnd it is most powerful mobile phone I have used ever\\n\\nSo,go for it if you want a phone with best specification like camera,battery backup,display, A13 bionic chip\\n\\nThat's my review about this phone but yours can be differ from me....\",\n",
       " \"The best all rounder iphone. Flipkart is doing a great job. They're delivery services are blazing fast. I got delivery on the same day. Genuine Apple Product. Working great. Talking about review There's no need of review for iphones. They're simply the best.\",\n",
       " 'Amazing phone and on great deal I received with super fast delivery by Flipkart...',\n",
       " 'finally an iPhone with very nice battery backup. update from iPhone 7 and happy to have it. camera is not up to the mark in low light but overall a recommended phone if your budget allows 😀',\n",
       " \"I'm switching this phone to oppo reno 10x zoom\\nIt's really impressive\\nRarely I'm missing smooth display touch response like oppo reno but\\nI really loved it.\\nCamera really impressive\",\n",
       " 'Simply Awesome\\n\\nI have upgraded from iPhone 7 to iPhone 11.\\n\\n3110 mah Battery is good. I am not a heavy gamer. For official purpose, this is better than 12 mini.\\n\\nTotally impressed with battery performance.',\n",
       " 'Damn this phone is a blast . Upgraded from android to ios and is a duperb experience. Battery backup is top notch and display also pretty good',\n",
       " 'Worth the money’ starting first from its performance it beats out all phones , second the smoothness of camera is awesome, contrast ratio is much than expected. Price will not matter if u r a quality person, if not other phones are available with better discount']"
      ]
     },
     "execution_count": 168,
     "metadata": {},
     "output_type": "execute_result"
    }
   ],
   "source": [
    "full_review=[]\n",
    "        \n",
    "    \n",
    "for i in mob_fullreview:\n",
    "    full_review.append(i.text)\n",
    "    if len(full_review)==10:\n",
    "        break\n",
    "full_review"
   ]
  },
  {
   "cell_type": "code",
   "execution_count": 169,
   "id": "f1b7857d",
   "metadata": {},
   "outputs": [
    {
     "data": {
      "text/html": [
       "<div>\n",
       "<style scoped>\n",
       "    .dataframe tbody tr th:only-of-type {\n",
       "        vertical-align: middle;\n",
       "    }\n",
       "\n",
       "    .dataframe tbody tr th {\n",
       "        vertical-align: top;\n",
       "    }\n",
       "\n",
       "    .dataframe thead th {\n",
       "        text-align: right;\n",
       "    }\n",
       "</style>\n",
       "<table border=\"1\" class=\"dataframe\">\n",
       "  <thead>\n",
       "    <tr style=\"text-align: right;\">\n",
       "      <th></th>\n",
       "      <th>Rating</th>\n",
       "      <th>Review Summary</th>\n",
       "      <th>Full Review</th>\n",
       "    </tr>\n",
       "  </thead>\n",
       "  <tbody>\n",
       "    <tr>\n",
       "      <th>0</th>\n",
       "      <td>5</td>\n",
       "      <td>Brilliant</td>\n",
       "      <td>A wort full value for money decision it’s . Si...</td>\n",
       "    </tr>\n",
       "    <tr>\n",
       "      <th>1</th>\n",
       "      <td>5</td>\n",
       "      <td>Must buy!</td>\n",
       "      <td>Dear friends... I want to share my experience ...</td>\n",
       "    </tr>\n",
       "    <tr>\n",
       "      <th>2</th>\n",
       "      <td>4</td>\n",
       "      <td>Value-for-money</td>\n",
       "      <td>Just got this iphone 11\\nAnd it is most powerf...</td>\n",
       "    </tr>\n",
       "    <tr>\n",
       "      <th>3</th>\n",
       "      <td>5</td>\n",
       "      <td>Best in the market!</td>\n",
       "      <td>The best all rounder iphone. Flipkart is doing...</td>\n",
       "    </tr>\n",
       "    <tr>\n",
       "      <th>4</th>\n",
       "      <td>5</td>\n",
       "      <td>Brilliant</td>\n",
       "      <td>Amazing phone and on great deal I received wit...</td>\n",
       "    </tr>\n",
       "    <tr>\n",
       "      <th>5</th>\n",
       "      <td>5</td>\n",
       "      <td>Terrific purchase</td>\n",
       "      <td>finally an iPhone with very nice battery backu...</td>\n",
       "    </tr>\n",
       "    <tr>\n",
       "      <th>6</th>\n",
       "      <td>4</td>\n",
       "      <td>Good quality product</td>\n",
       "      <td>I'm switching this phone to oppo reno 10x zoom...</td>\n",
       "    </tr>\n",
       "    <tr>\n",
       "      <th>7</th>\n",
       "      <td>5</td>\n",
       "      <td>Terrific</td>\n",
       "      <td>Simply Awesome\\n\\nI have upgraded from iPhone ...</td>\n",
       "    </tr>\n",
       "    <tr>\n",
       "      <th>8</th>\n",
       "      <td>5</td>\n",
       "      <td>Best in the market!</td>\n",
       "      <td>Damn this phone is a blast . Upgraded from and...</td>\n",
       "    </tr>\n",
       "    <tr>\n",
       "      <th>9</th>\n",
       "      <td>5</td>\n",
       "      <td>Perfect product!</td>\n",
       "      <td>Worth the money’ starting first from its perfo...</td>\n",
       "    </tr>\n",
       "  </tbody>\n",
       "</table>\n",
       "</div>"
      ],
      "text/plain": [
       "  Rating        Review Summary  \\\n",
       "0      5             Brilliant   \n",
       "1      5             Must buy!   \n",
       "2      4       Value-for-money   \n",
       "3      5   Best in the market!   \n",
       "4      5             Brilliant   \n",
       "5      5     Terrific purchase   \n",
       "6      4  Good quality product   \n",
       "7      5              Terrific   \n",
       "8      5   Best in the market!   \n",
       "9      5      Perfect product!   \n",
       "\n",
       "                                         Full Review  \n",
       "0  A wort full value for money decision it’s . Si...  \n",
       "1  Dear friends... I want to share my experience ...  \n",
       "2  Just got this iphone 11\\nAnd it is most powerf...  \n",
       "3  The best all rounder iphone. Flipkart is doing...  \n",
       "4  Amazing phone and on great deal I received wit...  \n",
       "5  finally an iPhone with very nice battery backu...  \n",
       "6  I'm switching this phone to oppo reno 10x zoom...  \n",
       "7  Simply Awesome\\n\\nI have upgraded from iPhone ...  \n",
       "8  Damn this phone is a blast . Upgraded from and...  \n",
       "9  Worth the money’ starting first from its perfo...  "
      ]
     },
     "execution_count": 169,
     "metadata": {},
     "output_type": "execute_result"
    }
   ],
   "source": [
    "mob=pd.DataFrame()\n",
    "mob['Rating']= rating\n",
    "mob['Review Summary']=review\n",
    "mob['Full Review']=full_review\n",
    "mob"
   ]
  },
  {
   "cell_type": "code",
   "execution_count": 170,
   "id": "3b0406be",
   "metadata": {
    "scrolled": true
   },
   "outputs": [
    {
     "data": {
      "text/plain": [
       "<selenium.webdriver.remote.webelement.WebElement (session=\"5094d429b813e05ea08a54666d8b2b6d\", element=\"a5b59bc2-95d6-4606-8bda-3622183996a1\")>"
      ]
     },
     "execution_count": 170,
     "metadata": {},
     "output_type": "execute_result"
    }
   ],
   "source": [
    "next_btn= driver.find_element('xpath','/html/body/div/div/div[3]/div/div/div[2]/div[13]/div/div/nav/a[12]/span')\n",
    "next_btn"
   ]
  },
  {
   "cell_type": "code",
   "execution_count": 171,
   "id": "e0b342b9",
   "metadata": {},
   "outputs": [],
   "source": [
    "next_btn.click()"
   ]
  },
  {
   "cell_type": "code",
   "execution_count": 172,
   "id": "5bad8e8d",
   "metadata": {},
   "outputs": [
    {
     "data": {
      "text/plain": [
       "8"
      ]
     },
     "execution_count": 172,
     "metadata": {},
     "output_type": "execute_result"
    }
   ],
   "source": [
    "mob_rating=driver.find_elements('xpath','//div[@class=\"_3LWZlK _1BLPMq\"]')\n",
    "len(mob_rating)"
   ]
  },
  {
   "cell_type": "code",
   "execution_count": 173,
   "id": "018b1e1a",
   "metadata": {},
   "outputs": [
    {
     "data": {
      "text/plain": [
       "['5', '4', '5', '5', '5', '5', '5', '5']"
      ]
     },
     "execution_count": 173,
     "metadata": {},
     "output_type": "execute_result"
    }
   ],
   "source": [
    "rating=[]\n",
    "for i in mob_rating:\n",
    "    rating.append(i.text)\n",
    "\n",
    "    if len(rating)==10:\n",
    "        break\n",
    "    \n",
    "rating"
   ]
  },
  {
   "cell_type": "code",
   "execution_count": 174,
   "id": "25ce23e0",
   "metadata": {},
   "outputs": [
    {
     "data": {
      "text/plain": [
       "10"
      ]
     },
     "execution_count": 174,
     "metadata": {},
     "output_type": "execute_result"
    }
   ],
   "source": [
    "mob_review=driver.find_elements('xpath','//p[@class=\"_2-N8zT\"]')\n",
    "len(mob_review)"
   ]
  },
  {
   "cell_type": "code",
   "execution_count": 175,
   "id": "223474fe",
   "metadata": {},
   "outputs": [
    {
     "data": {
      "text/plain": [
       "['Absolute rubbish!',\n",
       " 'Awesome',\n",
       " 'Value-for-money',\n",
       " 'Just wow!',\n",
       " 'Worthless',\n",
       " 'Super!',\n",
       " 'Classy product',\n",
       " 'Worth every penny']"
      ]
     },
     "execution_count": 175,
     "metadata": {},
     "output_type": "execute_result"
    }
   ],
   "source": [
    "review=[]\n",
    "for i in mob_review:\n",
    "    review.append(i.text)\n",
    "    if len(review)==8:\n",
    "        break\n",
    "    \n",
    "review"
   ]
  },
  {
   "cell_type": "code",
   "execution_count": 176,
   "id": "5c265e67",
   "metadata": {},
   "outputs": [
    {
     "data": {
      "text/plain": [
       "10"
      ]
     },
     "execution_count": 176,
     "metadata": {},
     "output_type": "execute_result"
    }
   ],
   "source": [
    "mob_fullreview=driver.find_elements('xpath','//div[@class=\"t-ZTKy\"]')\n",
    "len(mob_fullreview)"
   ]
  },
  {
   "cell_type": "code",
   "execution_count": 177,
   "id": "a092b41b",
   "metadata": {},
   "outputs": [
    {
     "data": {
      "text/plain": [
       "['Worst product delivered by Flipkart\\nAfter 10days of delivery mobile will not work properly\\nVolume and silent buttons are not working.\\nNo worth to buy in Flipkart.\\nPlease don’t buy apple products in Flipkart',\n",
       " 'I dreamt about this day from a long time.... Getting an iPhone with my own money.... Super happy and worth spending every penny',\n",
       " \"I'm Really happy with the product\\nDelivery was fast as well\\n..it was a gift for my sister and she loved it so much.\",\n",
       " 'Great iphone.\\nI am writing this review after 2 months of usage.\\nCamera is excellent, especially the nightmode\\nDisplay perfect\\nBattery backup awesome\\nSound quality very good\\nOverall Apple gives you a perfect iphone in this range.\\nReally in love with iPhone 11',\n",
       " \"Phone is awesome no doubt. But Camera & Display is not great. Performance is mind blowing.\\nBut the phone is heating too much when charging or when you regularly used. It's experience after using 1 week. It's heating extrem when I play PUBG for 30 minutes.\\nGo for iPhone 11 pro or 12. Otherwise go for Android phone you will get much better phone in less price.\",\n",
       " 'Did an upgrade from 6s plus to iphone 11.\\nAo far the experience is well and good. Felt smoother than 6s plus. The camera quality is superb. Battery backup is descent. Not a heavy user, and gets power more than a day. Go for it if you need an alrounder iphone in a competitve price.',\n",
       " 'Gifted my man on his 30th birthday 🎂 He loves it.. Him happy so i am more than happy 😍😘❤️🥰',\n",
       " \"It is better to buy iPhone 11 over iPhone 12 if you prioritize the camera,Its because the difference isn’t significantly huge except lowlight performance and Go for 128 GB variant rather than 64 GB because the system data alone contains 20 GB of data .\\nEven though it's 720p LCD display but it's better than todays Android's 1080p display. My phone was a 64GB mint green model and this one is really pretty especially in the real life. I can still get almost everything out of what i paid for at a...\\nREAD MORE\"]"
      ]
     },
     "execution_count": 177,
     "metadata": {},
     "output_type": "execute_result"
    }
   ],
   "source": [
    "full_review=[]\n",
    "        \n",
    "    \n",
    "for i in mob_fullreview:\n",
    "    full_review.append(i.text)\n",
    "    if len(full_review)==8:\n",
    "        break\n",
    "full_review"
   ]
  },
  {
   "cell_type": "code",
   "execution_count": 178,
   "id": "fe84ca1d",
   "metadata": {},
   "outputs": [
    {
     "data": {
      "text/html": [
       "<div>\n",
       "<style scoped>\n",
       "    .dataframe tbody tr th:only-of-type {\n",
       "        vertical-align: middle;\n",
       "    }\n",
       "\n",
       "    .dataframe tbody tr th {\n",
       "        vertical-align: top;\n",
       "    }\n",
       "\n",
       "    .dataframe thead th {\n",
       "        text-align: right;\n",
       "    }\n",
       "</style>\n",
       "<table border=\"1\" class=\"dataframe\">\n",
       "  <thead>\n",
       "    <tr style=\"text-align: right;\">\n",
       "      <th></th>\n",
       "      <th>Rating</th>\n",
       "      <th>Review Summary</th>\n",
       "      <th>Full Review</th>\n",
       "    </tr>\n",
       "  </thead>\n",
       "  <tbody>\n",
       "    <tr>\n",
       "      <th>0</th>\n",
       "      <td>5</td>\n",
       "      <td>Absolute rubbish!</td>\n",
       "      <td>Worst product delivered by Flipkart\\nAfter 10d...</td>\n",
       "    </tr>\n",
       "    <tr>\n",
       "      <th>1</th>\n",
       "      <td>4</td>\n",
       "      <td>Awesome</td>\n",
       "      <td>I dreamt about this day from a long time.... G...</td>\n",
       "    </tr>\n",
       "    <tr>\n",
       "      <th>2</th>\n",
       "      <td>5</td>\n",
       "      <td>Value-for-money</td>\n",
       "      <td>I'm Really happy with the product\\nDelivery wa...</td>\n",
       "    </tr>\n",
       "    <tr>\n",
       "      <th>3</th>\n",
       "      <td>5</td>\n",
       "      <td>Just wow!</td>\n",
       "      <td>Great iphone.\\nI am writing this review after ...</td>\n",
       "    </tr>\n",
       "    <tr>\n",
       "      <th>4</th>\n",
       "      <td>5</td>\n",
       "      <td>Worthless</td>\n",
       "      <td>Phone is awesome no doubt. But Camera &amp; Displa...</td>\n",
       "    </tr>\n",
       "    <tr>\n",
       "      <th>5</th>\n",
       "      <td>5</td>\n",
       "      <td>Super!</td>\n",
       "      <td>Did an upgrade from 6s plus to iphone 11.\\nAo ...</td>\n",
       "    </tr>\n",
       "    <tr>\n",
       "      <th>6</th>\n",
       "      <td>5</td>\n",
       "      <td>Classy product</td>\n",
       "      <td>Gifted my man on his 30th birthday 🎂 He loves ...</td>\n",
       "    </tr>\n",
       "    <tr>\n",
       "      <th>7</th>\n",
       "      <td>5</td>\n",
       "      <td>Worth every penny</td>\n",
       "      <td>It is better to buy iPhone 11 over iPhone 12 i...</td>\n",
       "    </tr>\n",
       "  </tbody>\n",
       "</table>\n",
       "</div>"
      ],
      "text/plain": [
       "  Rating     Review Summary                                        Full Review\n",
       "0      5  Absolute rubbish!  Worst product delivered by Flipkart\\nAfter 10d...\n",
       "1      4            Awesome  I dreamt about this day from a long time.... G...\n",
       "2      5    Value-for-money  I'm Really happy with the product\\nDelivery wa...\n",
       "3      5          Just wow!  Great iphone.\\nI am writing this review after ...\n",
       "4      5          Worthless  Phone is awesome no doubt. But Camera & Displa...\n",
       "5      5             Super!  Did an upgrade from 6s plus to iphone 11.\\nAo ...\n",
       "6      5     Classy product  Gifted my man on his 30th birthday 🎂 He loves ...\n",
       "7      5  Worth every penny  It is better to buy iPhone 11 over iPhone 12 i..."
      ]
     },
     "execution_count": 178,
     "metadata": {},
     "output_type": "execute_result"
    }
   ],
   "source": [
    "mob=pd.DataFrame()\n",
    "mob['Rating']= rating\n",
    "mob['Review Summary']=review\n",
    "mob['Full Review']=full_review\n",
    "mob"
   ]
  },
  {
   "cell_type": "code",
   "execution_count": 179,
   "id": "f223e129",
   "metadata": {},
   "outputs": [
    {
     "data": {
      "text/plain": [
       "<selenium.webdriver.remote.webelement.WebElement (session=\"5094d429b813e05ea08a54666d8b2b6d\", element=\"324fdd40-2698-4d9b-87f6-dbccfe08ee4e\")>"
      ]
     },
     "execution_count": 179,
     "metadata": {},
     "output_type": "execute_result"
    }
   ],
   "source": [
    "next_btn= driver.find_element('xpath','/html/body/div/div/div[3]/div/div/div[2]/div[13]/div/div/nav/a[12]/span')\n",
    "next_btn"
   ]
  },
  {
   "cell_type": "code",
   "execution_count": 180,
   "id": "6d681409",
   "metadata": {},
   "outputs": [],
   "source": [
    "next_btn.click()"
   ]
  },
  {
   "cell_type": "code",
   "execution_count": 181,
   "id": "174b6e17",
   "metadata": {},
   "outputs": [
    {
     "data": {
      "text/plain": [
       "10"
      ]
     },
     "execution_count": 181,
     "metadata": {},
     "output_type": "execute_result"
    }
   ],
   "source": [
    "mob_rating=driver.find_elements('xpath','//div[@class=\"_3LWZlK _1BLPMq\"]')\n",
    "len(mob_rating)"
   ]
  },
  {
   "cell_type": "code",
   "execution_count": 182,
   "id": "180b13b8",
   "metadata": {},
   "outputs": [
    {
     "data": {
      "text/plain": [
       "['5', '5', '5', '5', '5', '5', '5', '5', '5', '5']"
      ]
     },
     "execution_count": 182,
     "metadata": {},
     "output_type": "execute_result"
    }
   ],
   "source": [
    "rating=[]\n",
    "for i in mob_rating:\n",
    "    rating.append(i.text)\n",
    "\n",
    "    if len(rating)==10:\n",
    "        break\n",
    "    \n",
    "rating"
   ]
  },
  {
   "cell_type": "code",
   "execution_count": 183,
   "id": "7cc99617",
   "metadata": {},
   "outputs": [
    {
     "data": {
      "text/plain": [
       "10"
      ]
     },
     "execution_count": 183,
     "metadata": {},
     "output_type": "execute_result"
    }
   ],
   "source": [
    "mob_review=driver.find_elements('xpath','//p[@class=\"_2-N8zT\"]')\n",
    "len(mob_review)"
   ]
  },
  {
   "cell_type": "code",
   "execution_count": 184,
   "id": "da8d85f4",
   "metadata": {},
   "outputs": [
    {
     "data": {
      "text/plain": [
       "['Excellent',\n",
       " 'Excellent',\n",
       " 'Terrific',\n",
       " 'Excellent',\n",
       " 'Worth every penny',\n",
       " 'Super!',\n",
       " 'Wonderful',\n",
       " 'Best in the market!',\n",
       " 'Mind-blowing purchase',\n",
       " 'Worth every penny']"
      ]
     },
     "execution_count": 184,
     "metadata": {},
     "output_type": "execute_result"
    }
   ],
   "source": [
    "review=[]\n",
    "for i in mob_review:\n",
    "    review.append(i.text)\n",
    "    if len(review)==10:\n",
    "        break\n",
    "    \n",
    "review"
   ]
  },
  {
   "cell_type": "code",
   "execution_count": 185,
   "id": "5ff0b847",
   "metadata": {},
   "outputs": [
    {
     "data": {
      "text/plain": [
       "10"
      ]
     },
     "execution_count": 185,
     "metadata": {},
     "output_type": "execute_result"
    }
   ],
   "source": [
    "mob_fullreview=driver.find_elements('xpath','//div[@class=\"t-ZTKy\"]')\n",
    "len(mob_fullreview)"
   ]
  },
  {
   "cell_type": "code",
   "execution_count": 186,
   "id": "42fc6801",
   "metadata": {},
   "outputs": [
    {
     "data": {
      "text/plain": [
       "['A perfect phone and a good battery super camera and the sound is dynamic overall the phone is perfect for upgrading from lower iPhone model to iPhone 11',\n",
       " \"It was amazing experience for me. Honestly i am using iPhone first time so I don't have that much past experience about that. But after using 7 days this mobile i want to give some honest feedback.\\n1- Display 9 out of 10\\n2- Camera 9.5 out of 10\\n3- Battery 7 out of 10\\n4- Performance 9.5 out of 10\\n5- Features & Functions 10 out of 10\\n6- Outer looks and colour 10 out of 10\\nRest i think i will understand after using this for few months.\\nI will highly recommend you guys if you have budget then you...\\nREAD MORE\",\n",
       " 'I bought iPhone 11 On March 2021, And I am Writing this review after using the phone for 4 Months. I would Say Everything is fine, Top Performance, Nice Camera as Anyone would Expect from any series of iPhone but when the Question comes to Battery it is complicated. The Battery is fully optimised and it comes 3110 mAh capacity but the problem is with the charger. Honestly Apple Removed charger from in Box items in the name of Environment and they are also forcing us to buy any 20W PD 3rd part...\\nREAD MORE',\n",
       " \"Just go for it.\\nThis phone is really amazing. I ordered it for my wife and we click photos on this thing which are better than dslr. I own OnePlus 6t but it's camera sucks. iPhone is really amazing when it comes to camera. It's worth spending 50k on this. Cons- only display is lcd. While using u don't feel it but if u compare with other phone then u can see difference quite easily.\\nChanging from Android to iphone is bit difficult coz most of things u don't know but I liked it. Some of the a...\\nREAD MORE\",\n",
       " 'Here is the thing\\n\\nThe only reason why you should buy this phone is for the camera, iOS, and if you have headaches looking at AMOLED display.\\n\\nI’m not an avid gamer but watch a lot of movies on smartphone. However, my migraine attacks increased considerably after using AMOLED Smartphone. That’s why I made a calculated decision to buy iPhone 11. It has the best LCD display and the blacks, though not as natural as an AMOLED, is better than some of the other smartphones.\\n\\nAdding to this the ste...\\nREAD MORE',\n",
       " 'This is my first ever iPhone.\\nAnd I truly don’t regret switching to IOS from my Android.\\n\\nIt is easily an alternative to a DSLR camera.\\nIf you’re obsessed with photos and videos, just don’t think twice or don’t compare to other androids(Samsung S10 lite or OnePlus 8/8T), as it’s far better from them in every field.\\nComparing will only make you confused.\\n\\nI am getting an average Screen on Time of around 10 hours with 30 percent left. I haven’t let my device discharged below 30 % as it aff...\\nREAD MORE',\n",
       " 'Nice value for money good and best price I phone mind blowing camera processor very fast other android mobile I am happy India top selling phone 2020',\n",
       " 'Don’t expect much from front camera… especially who loves beauty mode and filters.. back cameras are good…video department is always plus point in iPhones… battery capacity is really surprising lasts for one day at least… performance always good and smooth… speaker’s quality is good…built quality best and haptic feedback is enjoyable…\\nNote : images are good after you edit',\n",
       " 'Absolutely powerful gadget. Loved it’s look! Soo glassy and classy. I would definitely recommend this model of Apple. Only disappointed with the 5W charger, one should purchase an 18W adapter for fast charging. Though battery backup is great. Bought it in September 2020, reviewing after so long so I’m gonna put the genuine review here.✅',\n",
       " 'Undoubtedly Iphone 11 is the most successful model till now and its performance is extraordinary and the security features are very impressive, display is more vibrant sound quality Camera Quality 5*****, but Iphone should add accessories too and act like scrooge.']"
      ]
     },
     "execution_count": 186,
     "metadata": {},
     "output_type": "execute_result"
    }
   ],
   "source": [
    "full_review=[]\n",
    "        \n",
    "    \n",
    "for i in mob_fullreview:\n",
    "    full_review.append(i.text)\n",
    "    if len(full_review)==10:\n",
    "        break\n",
    "full_review"
   ]
  },
  {
   "cell_type": "code",
   "execution_count": 187,
   "id": "8a9c1c99",
   "metadata": {
    "scrolled": false
   },
   "outputs": [
    {
     "data": {
      "text/html": [
       "<div>\n",
       "<style scoped>\n",
       "    .dataframe tbody tr th:only-of-type {\n",
       "        vertical-align: middle;\n",
       "    }\n",
       "\n",
       "    .dataframe tbody tr th {\n",
       "        vertical-align: top;\n",
       "    }\n",
       "\n",
       "    .dataframe thead th {\n",
       "        text-align: right;\n",
       "    }\n",
       "</style>\n",
       "<table border=\"1\" class=\"dataframe\">\n",
       "  <thead>\n",
       "    <tr style=\"text-align: right;\">\n",
       "      <th></th>\n",
       "      <th>Rating</th>\n",
       "      <th>Review Summary</th>\n",
       "      <th>Full Review</th>\n",
       "    </tr>\n",
       "  </thead>\n",
       "  <tbody>\n",
       "    <tr>\n",
       "      <th>0</th>\n",
       "      <td>5</td>\n",
       "      <td>Excellent</td>\n",
       "      <td>A perfect phone and a good battery super camer...</td>\n",
       "    </tr>\n",
       "    <tr>\n",
       "      <th>1</th>\n",
       "      <td>5</td>\n",
       "      <td>Excellent</td>\n",
       "      <td>It was amazing experience for me. Honestly i a...</td>\n",
       "    </tr>\n",
       "    <tr>\n",
       "      <th>2</th>\n",
       "      <td>5</td>\n",
       "      <td>Terrific</td>\n",
       "      <td>I bought iPhone 11 On March 2021, And I am Wri...</td>\n",
       "    </tr>\n",
       "    <tr>\n",
       "      <th>3</th>\n",
       "      <td>5</td>\n",
       "      <td>Excellent</td>\n",
       "      <td>Just go for it.\\nThis phone is really amazing....</td>\n",
       "    </tr>\n",
       "    <tr>\n",
       "      <th>4</th>\n",
       "      <td>5</td>\n",
       "      <td>Worth every penny</td>\n",
       "      <td>Here is the thing\\n\\nThe only reason why you s...</td>\n",
       "    </tr>\n",
       "    <tr>\n",
       "      <th>5</th>\n",
       "      <td>5</td>\n",
       "      <td>Super!</td>\n",
       "      <td>This is my first ever iPhone.\\nAnd I truly don...</td>\n",
       "    </tr>\n",
       "    <tr>\n",
       "      <th>6</th>\n",
       "      <td>5</td>\n",
       "      <td>Wonderful</td>\n",
       "      <td>Nice value for money good and best price I pho...</td>\n",
       "    </tr>\n",
       "    <tr>\n",
       "      <th>7</th>\n",
       "      <td>5</td>\n",
       "      <td>Best in the market!</td>\n",
       "      <td>Don’t expect much from front camera… especiall...</td>\n",
       "    </tr>\n",
       "    <tr>\n",
       "      <th>8</th>\n",
       "      <td>5</td>\n",
       "      <td>Mind-blowing purchase</td>\n",
       "      <td>Absolutely powerful gadget. Loved it’s look! S...</td>\n",
       "    </tr>\n",
       "    <tr>\n",
       "      <th>9</th>\n",
       "      <td>5</td>\n",
       "      <td>Worth every penny</td>\n",
       "      <td>Undoubtedly Iphone 11 is the most successful m...</td>\n",
       "    </tr>\n",
       "  </tbody>\n",
       "</table>\n",
       "</div>"
      ],
      "text/plain": [
       "  Rating         Review Summary  \\\n",
       "0      5              Excellent   \n",
       "1      5              Excellent   \n",
       "2      5               Terrific   \n",
       "3      5              Excellent   \n",
       "4      5      Worth every penny   \n",
       "5      5                 Super!   \n",
       "6      5              Wonderful   \n",
       "7      5    Best in the market!   \n",
       "8      5  Mind-blowing purchase   \n",
       "9      5      Worth every penny   \n",
       "\n",
       "                                         Full Review  \n",
       "0  A perfect phone and a good battery super camer...  \n",
       "1  It was amazing experience for me. Honestly i a...  \n",
       "2  I bought iPhone 11 On March 2021, And I am Wri...  \n",
       "3  Just go for it.\\nThis phone is really amazing....  \n",
       "4  Here is the thing\\n\\nThe only reason why you s...  \n",
       "5  This is my first ever iPhone.\\nAnd I truly don...  \n",
       "6  Nice value for money good and best price I pho...  \n",
       "7  Don’t expect much from front camera… especiall...  \n",
       "8  Absolutely powerful gadget. Loved it’s look! S...  \n",
       "9  Undoubtedly Iphone 11 is the most successful m...  "
      ]
     },
     "execution_count": 187,
     "metadata": {},
     "output_type": "execute_result"
    }
   ],
   "source": [
    "mob=pd.DataFrame()\n",
    "mob['Rating']= rating\n",
    "mob['Review Summary']=review\n",
    "mob['Full Review']=full_review\n",
    "mob"
   ]
  },
  {
   "cell_type": "code",
   "execution_count": 188,
   "id": "89f08821",
   "metadata": {},
   "outputs": [],
   "source": [
    "#Q6\n",
    "driver= webdriver.Chrome(r'C:\\Users\\sofiy\\Downloads\\chromedriver_win32 (1)\\chromedriver.exe') #path of chrome driver location in the system."
   ]
  },
  {
   "cell_type": "code",
   "execution_count": 193,
   "id": "1a3ab03b",
   "metadata": {},
   "outputs": [],
   "source": [
    "url='https://www.flipkart.com/'\n",
    "driver.get(url) #get the url page from where data must be scraped."
   ]
  },
  {
   "cell_type": "code",
   "execution_count": 194,
   "id": "072928c5",
   "metadata": {},
   "outputs": [
    {
     "data": {
      "text/plain": [
       "<selenium.webdriver.remote.webelement.WebElement (session=\"e6aebe0108409fa7fe9bf890020605ac\", element=\"cc482a9f-faa3-4523-9e16-77a011d056ec\")>"
      ]
     },
     "execution_count": 194,
     "metadata": {},
     "output_type": "execute_result"
    }
   ],
   "source": [
    "sneaker=driver.find_element(\"xpath\", '//*[@id=\"container\"]/div/div[1]/div[1]/div[2]/div[2]/form/div/div/input')# giving xpath for search bar, where we give input as sneaker to be searched.\n",
    "sneaker "
   ]
  },
  {
   "cell_type": "code",
   "execution_count": 195,
   "id": "114fb470",
   "metadata": {},
   "outputs": [],
   "source": [
    "sneaker.send_keys(\"sneaker\") #we send value as sneaker, as an input to the search bar."
   ]
  },
  {
   "cell_type": "code",
   "execution_count": 196,
   "id": "51cfafd8",
   "metadata": {},
   "outputs": [
    {
     "data": {
      "text/plain": [
       "<selenium.webdriver.remote.webelement.WebElement (session=\"e6aebe0108409fa7fe9bf890020605ac\", element=\"327879b1-d830-4448-8239-89bd376eda55\")>"
      ]
     },
     "execution_count": 196,
     "metadata": {},
     "output_type": "execute_result"
    }
   ],
   "source": [
    "search_btn= driver.find_element('xpath','/html/body/div[1]/div/div[1]/div[1]/div[2]/div[2]/form/div/button') #to ensure that the search button is clicked after input sneaker is given.\n",
    "search_btn "
   ]
  },
  {
   "cell_type": "code",
   "execution_count": 197,
   "id": "49eeaf0c",
   "metadata": {},
   "outputs": [],
   "source": [
    "search_btn.click() #click(), will click the search button for us."
   ]
  },
  {
   "cell_type": "code",
   "execution_count": 198,
   "id": "1eddcbf9",
   "metadata": {},
   "outputs": [
    {
     "data": {
      "text/plain": [
       "40"
      ]
     },
     "execution_count": 198,
     "metadata": {},
     "output_type": "execute_result"
    }
   ],
   "source": [
    "sneaker_brand=driver.find_elements('xpath','//div[@class=\"_2WkVRV\"]') #class for brand name of the sneaker is provided here this path will help scrap data.\n",
    "len(sneaker_brand)"
   ]
  },
  {
   "cell_type": "code",
   "execution_count": 199,
   "id": "c0e62c13",
   "metadata": {},
   "outputs": [
    {
     "data": {
      "text/plain": [
       "40"
      ]
     },
     "execution_count": 199,
     "metadata": {},
     "output_type": "execute_result"
    }
   ],
   "source": [
    "brand=[] #empty list created for data to be stored after scrapping.\n",
    "for i in sneaker_brand: #for loop to get the data from the page.\n",
    "    brand.append(i.text)\n",
    "    \n",
    "len(brand) #check length of the list"
   ]
  },
  {
   "cell_type": "code",
   "execution_count": 200,
   "id": "c0439d63",
   "metadata": {},
   "outputs": [
    {
     "data": {
      "text/plain": [
       "['aadi',\n",
       " 'BUXBERRY',\n",
       " 'PUMA',\n",
       " 'Magnolia',\n",
       " 'PUMA',\n",
       " 'PUMA',\n",
       " 'Numenzo',\n",
       " 'HOTSTYLE',\n",
       " 'Magnolia',\n",
       " 'PUMA',\n",
       " 'Magnolia',\n",
       " 'fuoatieec',\n",
       " 'PUMA',\n",
       " 'ASTEROID',\n",
       " 'Rzisbo',\n",
       " 'RapidBox',\n",
       " 'KILLER',\n",
       " 'aadi',\n",
       " 'PROVOGUE',\n",
       " 'RapidBox',\n",
       " 'Robbie jones',\n",
       " 'BRUTON',\n",
       " 'KWIK FIT',\n",
       " 'Scull Wings',\n",
       " 'TR',\n",
       " 'ASTEROID',\n",
       " 'URBANBOX',\n",
       " 'Ardeo',\n",
       " 'Noztile',\n",
       " 'BRUTON',\n",
       " 'WHITE WALKERS',\n",
       " 'Frencho',\n",
       " 'BRUTON',\n",
       " 'PUMA',\n",
       " 'AMICO',\n",
       " 'KWIK FIT',\n",
       " 'Robbie jones',\n",
       " 'SPARX',\n",
       " 'PUMA',\n",
       " 'PROVOGUE']"
      ]
     },
     "execution_count": 200,
     "metadata": {},
     "output_type": "execute_result"
    }
   ],
   "source": [
    "brand #display scrapped data."
   ]
  },
  {
   "cell_type": "code",
   "execution_count": 201,
   "id": "2bd28f14",
   "metadata": {},
   "outputs": [
    {
     "data": {
      "text/plain": [
       "40"
      ]
     },
     "execution_count": 201,
     "metadata": {},
     "output_type": "execute_result"
    }
   ],
   "source": [
    "desc=driver.find_elements('xpath','//a[@class=\"IRpwTa\" or @class=\"IRpwTa _2-ICcC\"]')#scraping description from the xpath\n",
    "len(desc)\n"
   ]
  },
  {
   "cell_type": "code",
   "execution_count": 202,
   "id": "6b0800be",
   "metadata": {},
   "outputs": [
    {
     "data": {
      "text/plain": [
       "['Mesh | Ultralightweight | Comfortable | Breathable Walk...',\n",
       " 'Outdoor Trendy Lightweight Casual,Canvas Stylish Partyw...',\n",
       " 'x KL Seattle Sneakers For Men',\n",
       " 'Sneakers For Men',\n",
       " 'Puma Smash v2 L Sneakers For Men',\n",
       " 'x KL Denver Sneakers For Men',\n",
       " '411 Casual Sneakers For Men',\n",
       " 'Sneakers For Men',\n",
       " 'Sneakers For Men',\n",
       " 'x 1DER Rock V2 Sneakers For Men',\n",
       " 'Sneakers For Men',\n",
       " 'Sneakers For Men',\n",
       " 'Brave Sneakers For Men',\n",
       " 'Original Luxury Branded Black Fancy Casual Walking Part...',\n",
       " 'Sneakers For Men',\n",
       " 'Sneakers For Men',\n",
       " 'Sneakers For Men',\n",
       " 'Mesh | Ultralightweight | Comfortable | Breathable Walk...',\n",
       " 'Sneakers For Men',\n",
       " 'Sneakers For Men',\n",
       " 'Sneakers For Men',\n",
       " 'Modern Trendy Sneakers Shoes Sneakers For Men',\n",
       " 'Kwik FIT casual sneaker shoes and partywear shoes Casua...',\n",
       " 'GREEN SNEAKERS CASUAL SHOES CANVAS SHOES FOR MEN GREEN ...',\n",
       " 'Casual White Sneakers For Men',\n",
       " \"Original Luxury Branded Fashionable Men's Casual Walkin...\",\n",
       " 'Sneakers Sneakers For Men',\n",
       " 'Sneakers For Men',\n",
       " 'Sneakers For Men',\n",
       " 'Modern Trendy Sneakers Shoes Sneakers For Men',\n",
       " 'Stylish & Trending Outdoor Walking Comfortable Sneakers...',\n",
       " 'Sneakers For Men',\n",
       " 'Lattest Sneakers Shoe Sneakers For Men',\n",
       " 'Puma Smash v2 L Sneakers For Men',\n",
       " 'Sneakers For Men',\n",
       " 'Casual Trendy Fashion Sport Sneaker Shoes Gym Running P...',\n",
       " 'Sneakers For Men',\n",
       " '9019 Sneakers For Men',\n",
       " 'x 1DER Rock V2 Sneakers For Men',\n",
       " 'Sneakers For Men']"
      ]
     },
     "execution_count": 202,
     "metadata": {},
     "output_type": "execute_result"
    }
   ],
   "source": [
    "description=[] #creating empty list to store scrapped data.\n",
    "for i in desc:\n",
    "    description.append(i.text) # for loop to check that all required description is stored.\n",
    "   \n",
    "    \n",
    "description"
   ]
  },
  {
   "cell_type": "code",
   "execution_count": 203,
   "id": "88c8792f",
   "metadata": {},
   "outputs": [
    {
     "data": {
      "text/plain": [
       "40"
      ]
     },
     "execution_count": 203,
     "metadata": {},
     "output_type": "execute_result"
    }
   ],
   "source": [
    "sneaker_price=driver.find_elements('xpath','//div[@class=\"_30jeq3\"]') #providing the path for data scrapping.\n",
    "len(sneaker_price) "
   ]
  },
  {
   "cell_type": "code",
   "execution_count": 204,
   "id": "d9785015",
   "metadata": {},
   "outputs": [
    {
     "data": {
      "text/plain": [
       "40"
      ]
     },
     "execution_count": 204,
     "metadata": {},
     "output_type": "execute_result"
    }
   ],
   "source": [
    "price=[] #creating empty list for storing all prices scrapped. \n",
    "for i in sneaker_price:\n",
    "    price.append(i.text)\n",
    "    \n",
    "len(price)#check len of the list."
   ]
  },
  {
   "cell_type": "code",
   "execution_count": 205,
   "id": "bd12082f",
   "metadata": {},
   "outputs": [
    {
     "data": {
      "text/plain": [
       "['₹399',\n",
       " '₹449',\n",
       " '₹2,249',\n",
       " '₹374',\n",
       " '₹1,588',\n",
       " '₹1,679',\n",
       " '₹402',\n",
       " '₹197',\n",
       " '₹374',\n",
       " '₹1,889',\n",
       " '₹374',\n",
       " '₹499',\n",
       " '₹1,316',\n",
       " '₹474',\n",
       " '₹494',\n",
       " '₹630',\n",
       " '₹524',\n",
       " '₹399',\n",
       " '₹699',\n",
       " '₹630',\n",
       " '₹402',\n",
       " '₹349',\n",
       " '₹397',\n",
       " '₹496',\n",
       " '₹399',\n",
       " '₹474',\n",
       " '₹234',\n",
       " '₹499',\n",
       " '₹399',\n",
       " '₹399',\n",
       " '₹509',\n",
       " '₹599',\n",
       " '₹366',\n",
       " '₹1,539',\n",
       " '₹494',\n",
       " '₹499',\n",
       " '₹424',\n",
       " '₹1,189',\n",
       " '₹1,889',\n",
       " '₹676']"
      ]
     },
     "execution_count": 205,
     "metadata": {},
     "output_type": "execute_result"
    }
   ],
   "source": [
    "price #display scrapped data."
   ]
  },
  {
   "cell_type": "code",
   "execution_count": 206,
   "id": "221b4962",
   "metadata": {},
   "outputs": [
    {
     "data": {
      "text/plain": [
       "40"
      ]
     },
     "execution_count": 206,
     "metadata": {},
     "output_type": "execute_result"
    }
   ],
   "source": [
    "sneaker_discount=driver.find_elements('xpath','//div[@class=\"_3Ay6Sb\"]') #providing xpath.\n",
    "len(sneaker_discount) "
   ]
  },
  {
   "cell_type": "code",
   "execution_count": 207,
   "id": "962eeb0b",
   "metadata": {},
   "outputs": [
    {
     "data": {
      "text/plain": [
       "[['80%', 'off'],\n",
       " ['64%', 'off'],\n",
       " ['50%', 'off'],\n",
       " ['62%', 'off'],\n",
       " ['54%', 'off'],\n",
       " ['58%', 'off'],\n",
       " ['79%', 'off'],\n",
       " ['60%', 'off'],\n",
       " ['62%', 'off'],\n",
       " ['58%', 'off'],\n",
       " ['62%', 'off'],\n",
       " ['50%', 'off'],\n",
       " ['60%', 'off'],\n",
       " ['52%', 'off'],\n",
       " ['50%', 'off'],\n",
       " ['36%', 'off'],\n",
       " ['75%', 'off'],\n",
       " ['80%', 'off'],\n",
       " ['65%', 'off'],\n",
       " ['36%', 'off'],\n",
       " ['59%', 'off'],\n",
       " ['73%', 'off'],\n",
       " ['80%', 'off'],\n",
       " ['66%', 'off'],\n",
       " ['73%', 'off'],\n",
       " ['76%', 'off'],\n",
       " ['76%', 'off'],\n",
       " ['77%', 'off'],\n",
       " ['80%', 'off'],\n",
       " ['69%', 'off'],\n",
       " ['57%', 'off'],\n",
       " ['40%', 'off'],\n",
       " ['71%', 'off'],\n",
       " ['56%', 'off'],\n",
       " ['50%', 'off'],\n",
       " ['75%', 'off'],\n",
       " ['57%', 'off'],\n",
       " ['15%', 'off'],\n",
       " ['58%', 'off'],\n",
       " ['69%', 'off']]"
      ]
     },
     "execution_count": 207,
     "metadata": {},
     "output_type": "execute_result"
    }
   ],
   "source": [
    "discount=[] #creating empty list for storing scrapped data.\n",
    "\n",
    "for i in sneaker_discount: #for loop to ensure all data is scrapped.\n",
    "    discount.append(i.text.replace('0 %','').split())\n",
    "  \n",
    "    \n",
    "discount #to check length of the list created"
   ]
  },
  {
   "cell_type": "code",
   "execution_count": 208,
   "id": "13f79279",
   "metadata": {},
   "outputs": [
    {
     "data": {
      "text/html": [
       "<div>\n",
       "<style scoped>\n",
       "    .dataframe tbody tr th:only-of-type {\n",
       "        vertical-align: middle;\n",
       "    }\n",
       "\n",
       "    .dataframe tbody tr th {\n",
       "        vertical-align: top;\n",
       "    }\n",
       "\n",
       "    .dataframe thead th {\n",
       "        text-align: right;\n",
       "    }\n",
       "</style>\n",
       "<table border=\"1\" class=\"dataframe\">\n",
       "  <thead>\n",
       "    <tr style=\"text-align: right;\">\n",
       "      <th></th>\n",
       "      <th>Brand</th>\n",
       "      <th>Product Description</th>\n",
       "      <th>Price</th>\n",
       "      <th>Discount</th>\n",
       "    </tr>\n",
       "  </thead>\n",
       "  <tbody>\n",
       "    <tr>\n",
       "      <th>0</th>\n",
       "      <td>aadi</td>\n",
       "      <td>Mesh | Ultralightweight | Comfortable | Breath...</td>\n",
       "      <td>₹399</td>\n",
       "      <td>[80%, off]</td>\n",
       "    </tr>\n",
       "    <tr>\n",
       "      <th>1</th>\n",
       "      <td>BUXBERRY</td>\n",
       "      <td>Outdoor Trendy Lightweight Casual,Canvas Styli...</td>\n",
       "      <td>₹449</td>\n",
       "      <td>[64%, off]</td>\n",
       "    </tr>\n",
       "    <tr>\n",
       "      <th>2</th>\n",
       "      <td>PUMA</td>\n",
       "      <td>x KL Seattle Sneakers For Men</td>\n",
       "      <td>₹2,249</td>\n",
       "      <td>[50%, off]</td>\n",
       "    </tr>\n",
       "    <tr>\n",
       "      <th>3</th>\n",
       "      <td>Magnolia</td>\n",
       "      <td>Sneakers For Men</td>\n",
       "      <td>₹374</td>\n",
       "      <td>[62%, off]</td>\n",
       "    </tr>\n",
       "    <tr>\n",
       "      <th>4</th>\n",
       "      <td>PUMA</td>\n",
       "      <td>Puma Smash v2 L Sneakers For Men</td>\n",
       "      <td>₹1,588</td>\n",
       "      <td>[54%, off]</td>\n",
       "    </tr>\n",
       "    <tr>\n",
       "      <th>5</th>\n",
       "      <td>PUMA</td>\n",
       "      <td>x KL Denver Sneakers For Men</td>\n",
       "      <td>₹1,679</td>\n",
       "      <td>[58%, off]</td>\n",
       "    </tr>\n",
       "    <tr>\n",
       "      <th>6</th>\n",
       "      <td>Numenzo</td>\n",
       "      <td>411 Casual Sneakers For Men</td>\n",
       "      <td>₹402</td>\n",
       "      <td>[79%, off]</td>\n",
       "    </tr>\n",
       "    <tr>\n",
       "      <th>7</th>\n",
       "      <td>HOTSTYLE</td>\n",
       "      <td>Sneakers For Men</td>\n",
       "      <td>₹197</td>\n",
       "      <td>[60%, off]</td>\n",
       "    </tr>\n",
       "    <tr>\n",
       "      <th>8</th>\n",
       "      <td>Magnolia</td>\n",
       "      <td>Sneakers For Men</td>\n",
       "      <td>₹374</td>\n",
       "      <td>[62%, off]</td>\n",
       "    </tr>\n",
       "    <tr>\n",
       "      <th>9</th>\n",
       "      <td>PUMA</td>\n",
       "      <td>x 1DER Rock V2 Sneakers For Men</td>\n",
       "      <td>₹1,889</td>\n",
       "      <td>[58%, off]</td>\n",
       "    </tr>\n",
       "    <tr>\n",
       "      <th>10</th>\n",
       "      <td>Magnolia</td>\n",
       "      <td>Sneakers For Men</td>\n",
       "      <td>₹374</td>\n",
       "      <td>[62%, off]</td>\n",
       "    </tr>\n",
       "    <tr>\n",
       "      <th>11</th>\n",
       "      <td>fuoatieec</td>\n",
       "      <td>Sneakers For Men</td>\n",
       "      <td>₹499</td>\n",
       "      <td>[50%, off]</td>\n",
       "    </tr>\n",
       "    <tr>\n",
       "      <th>12</th>\n",
       "      <td>PUMA</td>\n",
       "      <td>Brave Sneakers For Men</td>\n",
       "      <td>₹1,316</td>\n",
       "      <td>[60%, off]</td>\n",
       "    </tr>\n",
       "    <tr>\n",
       "      <th>13</th>\n",
       "      <td>ASTEROID</td>\n",
       "      <td>Original Luxury Branded Black Fancy Casual Wal...</td>\n",
       "      <td>₹474</td>\n",
       "      <td>[52%, off]</td>\n",
       "    </tr>\n",
       "    <tr>\n",
       "      <th>14</th>\n",
       "      <td>Rzisbo</td>\n",
       "      <td>Sneakers For Men</td>\n",
       "      <td>₹494</td>\n",
       "      <td>[50%, off]</td>\n",
       "    </tr>\n",
       "    <tr>\n",
       "      <th>15</th>\n",
       "      <td>RapidBox</td>\n",
       "      <td>Sneakers For Men</td>\n",
       "      <td>₹630</td>\n",
       "      <td>[36%, off]</td>\n",
       "    </tr>\n",
       "    <tr>\n",
       "      <th>16</th>\n",
       "      <td>KILLER</td>\n",
       "      <td>Sneakers For Men</td>\n",
       "      <td>₹524</td>\n",
       "      <td>[75%, off]</td>\n",
       "    </tr>\n",
       "    <tr>\n",
       "      <th>17</th>\n",
       "      <td>aadi</td>\n",
       "      <td>Mesh | Ultralightweight | Comfortable | Breath...</td>\n",
       "      <td>₹399</td>\n",
       "      <td>[80%, off]</td>\n",
       "    </tr>\n",
       "    <tr>\n",
       "      <th>18</th>\n",
       "      <td>PROVOGUE</td>\n",
       "      <td>Sneakers For Men</td>\n",
       "      <td>₹699</td>\n",
       "      <td>[65%, off]</td>\n",
       "    </tr>\n",
       "    <tr>\n",
       "      <th>19</th>\n",
       "      <td>RapidBox</td>\n",
       "      <td>Sneakers For Men</td>\n",
       "      <td>₹630</td>\n",
       "      <td>[36%, off]</td>\n",
       "    </tr>\n",
       "    <tr>\n",
       "      <th>20</th>\n",
       "      <td>Robbie jones</td>\n",
       "      <td>Sneakers For Men</td>\n",
       "      <td>₹402</td>\n",
       "      <td>[59%, off]</td>\n",
       "    </tr>\n",
       "    <tr>\n",
       "      <th>21</th>\n",
       "      <td>BRUTON</td>\n",
       "      <td>Modern Trendy Sneakers Shoes Sneakers For Men</td>\n",
       "      <td>₹349</td>\n",
       "      <td>[73%, off]</td>\n",
       "    </tr>\n",
       "    <tr>\n",
       "      <th>22</th>\n",
       "      <td>KWIK FIT</td>\n",
       "      <td>Kwik FIT casual sneaker shoes and partywear sh...</td>\n",
       "      <td>₹397</td>\n",
       "      <td>[80%, off]</td>\n",
       "    </tr>\n",
       "    <tr>\n",
       "      <th>23</th>\n",
       "      <td>Scull Wings</td>\n",
       "      <td>GREEN SNEAKERS CASUAL SHOES CANVAS SHOES FOR M...</td>\n",
       "      <td>₹496</td>\n",
       "      <td>[66%, off]</td>\n",
       "    </tr>\n",
       "    <tr>\n",
       "      <th>24</th>\n",
       "      <td>TR</td>\n",
       "      <td>Casual White Sneakers For Men</td>\n",
       "      <td>₹399</td>\n",
       "      <td>[73%, off]</td>\n",
       "    </tr>\n",
       "    <tr>\n",
       "      <th>25</th>\n",
       "      <td>ASTEROID</td>\n",
       "      <td>Original Luxury Branded Fashionable Men's Casu...</td>\n",
       "      <td>₹474</td>\n",
       "      <td>[76%, off]</td>\n",
       "    </tr>\n",
       "    <tr>\n",
       "      <th>26</th>\n",
       "      <td>URBANBOX</td>\n",
       "      <td>Sneakers Sneakers For Men</td>\n",
       "      <td>₹234</td>\n",
       "      <td>[76%, off]</td>\n",
       "    </tr>\n",
       "    <tr>\n",
       "      <th>27</th>\n",
       "      <td>Ardeo</td>\n",
       "      <td>Sneakers For Men</td>\n",
       "      <td>₹499</td>\n",
       "      <td>[77%, off]</td>\n",
       "    </tr>\n",
       "    <tr>\n",
       "      <th>28</th>\n",
       "      <td>Noztile</td>\n",
       "      <td>Sneakers For Men</td>\n",
       "      <td>₹399</td>\n",
       "      <td>[80%, off]</td>\n",
       "    </tr>\n",
       "    <tr>\n",
       "      <th>29</th>\n",
       "      <td>BRUTON</td>\n",
       "      <td>Modern Trendy Sneakers Shoes Sneakers For Men</td>\n",
       "      <td>₹399</td>\n",
       "      <td>[69%, off]</td>\n",
       "    </tr>\n",
       "    <tr>\n",
       "      <th>30</th>\n",
       "      <td>WHITE WALKERS</td>\n",
       "      <td>Stylish &amp; Trending Outdoor Walking Comfortable...</td>\n",
       "      <td>₹509</td>\n",
       "      <td>[57%, off]</td>\n",
       "    </tr>\n",
       "    <tr>\n",
       "      <th>31</th>\n",
       "      <td>Frencho</td>\n",
       "      <td>Sneakers For Men</td>\n",
       "      <td>₹599</td>\n",
       "      <td>[40%, off]</td>\n",
       "    </tr>\n",
       "    <tr>\n",
       "      <th>32</th>\n",
       "      <td>BRUTON</td>\n",
       "      <td>Lattest Sneakers Shoe Sneakers For Men</td>\n",
       "      <td>₹366</td>\n",
       "      <td>[71%, off]</td>\n",
       "    </tr>\n",
       "    <tr>\n",
       "      <th>33</th>\n",
       "      <td>PUMA</td>\n",
       "      <td>Puma Smash v2 L Sneakers For Men</td>\n",
       "      <td>₹1,539</td>\n",
       "      <td>[56%, off]</td>\n",
       "    </tr>\n",
       "    <tr>\n",
       "      <th>34</th>\n",
       "      <td>AMICO</td>\n",
       "      <td>Sneakers For Men</td>\n",
       "      <td>₹494</td>\n",
       "      <td>[50%, off]</td>\n",
       "    </tr>\n",
       "    <tr>\n",
       "      <th>35</th>\n",
       "      <td>KWIK FIT</td>\n",
       "      <td>Casual Trendy Fashion Sport Sneaker Shoes Gym ...</td>\n",
       "      <td>₹499</td>\n",
       "      <td>[75%, off]</td>\n",
       "    </tr>\n",
       "    <tr>\n",
       "      <th>36</th>\n",
       "      <td>Robbie jones</td>\n",
       "      <td>Sneakers For Men</td>\n",
       "      <td>₹424</td>\n",
       "      <td>[57%, off]</td>\n",
       "    </tr>\n",
       "    <tr>\n",
       "      <th>37</th>\n",
       "      <td>SPARX</td>\n",
       "      <td>9019 Sneakers For Men</td>\n",
       "      <td>₹1,189</td>\n",
       "      <td>[15%, off]</td>\n",
       "    </tr>\n",
       "    <tr>\n",
       "      <th>38</th>\n",
       "      <td>PUMA</td>\n",
       "      <td>x 1DER Rock V2 Sneakers For Men</td>\n",
       "      <td>₹1,889</td>\n",
       "      <td>[58%, off]</td>\n",
       "    </tr>\n",
       "    <tr>\n",
       "      <th>39</th>\n",
       "      <td>PROVOGUE</td>\n",
       "      <td>Sneakers For Men</td>\n",
       "      <td>₹676</td>\n",
       "      <td>[69%, off]</td>\n",
       "    </tr>\n",
       "  </tbody>\n",
       "</table>\n",
       "</div>"
      ],
      "text/plain": [
       "            Brand                                Product Description   Price  \\\n",
       "0            aadi  Mesh | Ultralightweight | Comfortable | Breath...    ₹399   \n",
       "1        BUXBERRY  Outdoor Trendy Lightweight Casual,Canvas Styli...    ₹449   \n",
       "2            PUMA                      x KL Seattle Sneakers For Men  ₹2,249   \n",
       "3        Magnolia                                   Sneakers For Men    ₹374   \n",
       "4            PUMA                   Puma Smash v2 L Sneakers For Men  ₹1,588   \n",
       "5            PUMA                       x KL Denver Sneakers For Men  ₹1,679   \n",
       "6         Numenzo                        411 Casual Sneakers For Men    ₹402   \n",
       "7        HOTSTYLE                                   Sneakers For Men    ₹197   \n",
       "8        Magnolia                                   Sneakers For Men    ₹374   \n",
       "9            PUMA                    x 1DER Rock V2 Sneakers For Men  ₹1,889   \n",
       "10       Magnolia                                   Sneakers For Men    ₹374   \n",
       "11      fuoatieec                                   Sneakers For Men    ₹499   \n",
       "12           PUMA                             Brave Sneakers For Men  ₹1,316   \n",
       "13       ASTEROID  Original Luxury Branded Black Fancy Casual Wal...    ₹474   \n",
       "14         Rzisbo                                   Sneakers For Men    ₹494   \n",
       "15       RapidBox                                   Sneakers For Men    ₹630   \n",
       "16         KILLER                                   Sneakers For Men    ₹524   \n",
       "17           aadi  Mesh | Ultralightweight | Comfortable | Breath...    ₹399   \n",
       "18       PROVOGUE                                   Sneakers For Men    ₹699   \n",
       "19       RapidBox                                   Sneakers For Men    ₹630   \n",
       "20   Robbie jones                                   Sneakers For Men    ₹402   \n",
       "21         BRUTON      Modern Trendy Sneakers Shoes Sneakers For Men    ₹349   \n",
       "22       KWIK FIT  Kwik FIT casual sneaker shoes and partywear sh...    ₹397   \n",
       "23    Scull Wings  GREEN SNEAKERS CASUAL SHOES CANVAS SHOES FOR M...    ₹496   \n",
       "24             TR                      Casual White Sneakers For Men    ₹399   \n",
       "25       ASTEROID  Original Luxury Branded Fashionable Men's Casu...    ₹474   \n",
       "26       URBANBOX                          Sneakers Sneakers For Men    ₹234   \n",
       "27          Ardeo                                   Sneakers For Men    ₹499   \n",
       "28        Noztile                                   Sneakers For Men    ₹399   \n",
       "29         BRUTON      Modern Trendy Sneakers Shoes Sneakers For Men    ₹399   \n",
       "30  WHITE WALKERS  Stylish & Trending Outdoor Walking Comfortable...    ₹509   \n",
       "31        Frencho                                   Sneakers For Men    ₹599   \n",
       "32         BRUTON             Lattest Sneakers Shoe Sneakers For Men    ₹366   \n",
       "33           PUMA                   Puma Smash v2 L Sneakers For Men  ₹1,539   \n",
       "34          AMICO                                   Sneakers For Men    ₹494   \n",
       "35       KWIK FIT  Casual Trendy Fashion Sport Sneaker Shoes Gym ...    ₹499   \n",
       "36   Robbie jones                                   Sneakers For Men    ₹424   \n",
       "37          SPARX                              9019 Sneakers For Men  ₹1,189   \n",
       "38           PUMA                    x 1DER Rock V2 Sneakers For Men  ₹1,889   \n",
       "39       PROVOGUE                                   Sneakers For Men    ₹676   \n",
       "\n",
       "      Discount  \n",
       "0   [80%, off]  \n",
       "1   [64%, off]  \n",
       "2   [50%, off]  \n",
       "3   [62%, off]  \n",
       "4   [54%, off]  \n",
       "5   [58%, off]  \n",
       "6   [79%, off]  \n",
       "7   [60%, off]  \n",
       "8   [62%, off]  \n",
       "9   [58%, off]  \n",
       "10  [62%, off]  \n",
       "11  [50%, off]  \n",
       "12  [60%, off]  \n",
       "13  [52%, off]  \n",
       "14  [50%, off]  \n",
       "15  [36%, off]  \n",
       "16  [75%, off]  \n",
       "17  [80%, off]  \n",
       "18  [65%, off]  \n",
       "19  [36%, off]  \n",
       "20  [59%, off]  \n",
       "21  [73%, off]  \n",
       "22  [80%, off]  \n",
       "23  [66%, off]  \n",
       "24  [73%, off]  \n",
       "25  [76%, off]  \n",
       "26  [76%, off]  \n",
       "27  [77%, off]  \n",
       "28  [80%, off]  \n",
       "29  [69%, off]  \n",
       "30  [57%, off]  \n",
       "31  [40%, off]  \n",
       "32  [71%, off]  \n",
       "33  [56%, off]  \n",
       "34  [50%, off]  \n",
       "35  [75%, off]  \n",
       "36  [57%, off]  \n",
       "37  [15%, off]  \n",
       "38  [58%, off]  \n",
       "39  [69%, off]  "
      ]
     },
     "execution_count": 208,
     "metadata": {},
     "output_type": "execute_result"
    }
   ],
   "source": [
    "sneaker=pd.DataFrame() #creating data frame to display all the scrapped data.\n",
    "sneaker['Brand']= brand\n",
    "sneaker['Product Description']=description # I tried to include it in DataFrame, but on the website product description was not scrapped for 6 products randomly. \n",
    "sneaker['Price']=price\n",
    "sneaker['Discount']=discount\n",
    "sneaker #displaying dataframe."
   ]
  },
  {
   "cell_type": "code",
   "execution_count": 209,
   "id": "685433ed",
   "metadata": {},
   "outputs": [
    {
     "data": {
      "text/plain": [
       "<selenium.webdriver.remote.webelement.WebElement (session=\"e6aebe0108409fa7fe9bf890020605ac\", element=\"c5c66207-c94e-49e7-ae77-1d90e7aec76f\")>"
      ]
     },
     "execution_count": 209,
     "metadata": {},
     "output_type": "execute_result"
    }
   ],
   "source": [
    "next_btn= driver.find_element('xpath','/html/body/div/div/div[3]/div[1]/div[2]/div[12]/div/div/nav/a[11]/span')\n",
    "next_btn"
   ]
  },
  {
   "cell_type": "code",
   "execution_count": 210,
   "id": "96c20f2f",
   "metadata": {},
   "outputs": [],
   "source": [
    "next_btn.click()"
   ]
  },
  {
   "cell_type": "code",
   "execution_count": 211,
   "id": "9891be8d",
   "metadata": {},
   "outputs": [
    {
     "data": {
      "text/plain": [
       "40"
      ]
     },
     "execution_count": 211,
     "metadata": {},
     "output_type": "execute_result"
    }
   ],
   "source": [
    "sneaker_brand=driver.find_elements('xpath','//div[@class=\"_2WkVRV\"]') #class for brand name of the sneaker is provided here this path will help scrap data.\n",
    "len(sneaker_brand)"
   ]
  },
  {
   "cell_type": "code",
   "execution_count": 212,
   "id": "2df5c064",
   "metadata": {},
   "outputs": [
    {
     "data": {
      "text/plain": [
       "['aadi',\n",
       " 'BUXBERRY',\n",
       " 'PUMA',\n",
       " 'Magnolia',\n",
       " 'PUMA',\n",
       " 'PUMA',\n",
       " 'Numenzo',\n",
       " 'HOTSTYLE',\n",
       " 'Magnolia',\n",
       " 'PUMA',\n",
       " 'Magnolia',\n",
       " 'fuoatieec',\n",
       " 'PUMA',\n",
       " 'ASTEROID',\n",
       " 'Rzisbo',\n",
       " 'RapidBox',\n",
       " 'KILLER',\n",
       " 'aadi',\n",
       " 'PROVOGUE',\n",
       " 'RapidBox',\n",
       " 'Robbie jones',\n",
       " 'BRUTON',\n",
       " 'KWIK FIT',\n",
       " 'Scull Wings',\n",
       " 'TR',\n",
       " 'ASTEROID',\n",
       " 'URBANBOX',\n",
       " 'Ardeo',\n",
       " 'Noztile',\n",
       " 'BRUTON',\n",
       " 'WHITE WALKERS',\n",
       " 'Frencho',\n",
       " 'BRUTON',\n",
       " 'PUMA',\n",
       " 'AMICO',\n",
       " 'KWIK FIT',\n",
       " 'Robbie jones',\n",
       " 'SPARX',\n",
       " 'PUMA',\n",
       " 'PROVOGUE']"
      ]
     },
     "execution_count": 212,
     "metadata": {},
     "output_type": "execute_result"
    }
   ],
   "source": [
    "brand=[] #empty list created for data to be stored after scrapping.\n",
    "for i in sneaker_brand: #for loop to get the data from the page.\n",
    "    brand.append(i.text)\n",
    "    \n",
    "brand #check length of the list"
   ]
  },
  {
   "cell_type": "code",
   "execution_count": 213,
   "id": "8bd12f44",
   "metadata": {},
   "outputs": [
    {
     "data": {
      "text/plain": [
       "40"
      ]
     },
     "execution_count": 213,
     "metadata": {},
     "output_type": "execute_result"
    }
   ],
   "source": [
    "desc=driver.find_elements('xpath','//a[@class=\"IRpwTa\" or @class=\"IRpwTa _2-ICcC\"]')#scraping description from the xpath\n",
    "len(desc)\n"
   ]
  },
  {
   "cell_type": "code",
   "execution_count": 214,
   "id": "ff53b71d",
   "metadata": {},
   "outputs": [
    {
     "data": {
      "text/plain": [
       "['Mesh | Ultralightweight | Comfortable | Breathable Walk...',\n",
       " 'Outdoor Trendy Lightweight Casual,Canvas Stylish Partyw...',\n",
       " 'x KL Seattle Sneakers For Men',\n",
       " 'Sneakers For Men',\n",
       " 'Puma Smash v2 L Sneakers For Men',\n",
       " 'x KL Denver Sneakers For Men',\n",
       " '411 Casual Sneakers For Men',\n",
       " 'Sneakers For Men',\n",
       " 'Sneakers For Men',\n",
       " 'x 1DER Rock V2 Sneakers For Men',\n",
       " 'Sneakers For Men',\n",
       " 'Sneakers For Men',\n",
       " 'Brave Sneakers For Men',\n",
       " 'Original Luxury Branded Black Fancy Casual Walking Part...',\n",
       " 'Sneakers For Men',\n",
       " 'Sneakers For Men',\n",
       " 'Sneakers For Men',\n",
       " 'Mesh | Ultralightweight | Comfortable | Breathable Walk...',\n",
       " 'Sneakers For Men',\n",
       " 'Sneakers For Men',\n",
       " 'Sneakers For Men',\n",
       " 'Modern Trendy Sneakers Shoes Sneakers For Men',\n",
       " 'Kwik FIT casual sneaker shoes and partywear shoes Casua...',\n",
       " 'GREEN SNEAKERS CASUAL SHOES CANVAS SHOES FOR MEN GREEN ...',\n",
       " 'Casual White Sneakers For Men',\n",
       " \"Original Luxury Branded Fashionable Men's Casual Walkin...\",\n",
       " 'Sneakers Sneakers For Men',\n",
       " 'Sneakers For Men',\n",
       " 'Sneakers For Men',\n",
       " 'Modern Trendy Sneakers Shoes Sneakers For Men',\n",
       " 'Stylish & Trending Outdoor Walking Comfortable Sneakers...',\n",
       " 'Sneakers For Men',\n",
       " 'Lattest Sneakers Shoe Sneakers For Men',\n",
       " 'Puma Smash v2 L Sneakers For Men',\n",
       " 'Sneakers For Men',\n",
       " 'Casual Trendy Fashion Sport Sneaker Shoes Gym Running P...',\n",
       " 'Sneakers For Men',\n",
       " '9019 Sneakers For Men',\n",
       " 'x 1DER Rock V2 Sneakers For Men',\n",
       " 'Sneakers For Men']"
      ]
     },
     "execution_count": 214,
     "metadata": {},
     "output_type": "execute_result"
    }
   ],
   "source": [
    "description=[] #creating empty list to store scrapped data.\n",
    "for i in desc:\n",
    "    description.append(i.text) # for loop to check that all required description is stored.\n",
    "   \n",
    "    \n",
    "description"
   ]
  },
  {
   "cell_type": "code",
   "execution_count": 215,
   "id": "ed1f44eb",
   "metadata": {},
   "outputs": [
    {
     "data": {
      "text/plain": [
       "40"
      ]
     },
     "execution_count": 215,
     "metadata": {},
     "output_type": "execute_result"
    }
   ],
   "source": [
    "sneaker_price=driver.find_elements('xpath','//div[@class=\"_30jeq3\"]') #providing the path for data scrapping.\n",
    "len(sneaker_price) "
   ]
  },
  {
   "cell_type": "code",
   "execution_count": 216,
   "id": "a2e44510",
   "metadata": {},
   "outputs": [
    {
     "data": {
      "text/plain": [
       "40"
      ]
     },
     "execution_count": 216,
     "metadata": {},
     "output_type": "execute_result"
    }
   ],
   "source": [
    "price=[] #creating empty list for storing all prices scrapped. \n",
    "for i in sneaker_price:\n",
    "    price.append(i.text)\n",
    "    \n",
    "len(price)#check len of the list."
   ]
  },
  {
   "cell_type": "code",
   "execution_count": 217,
   "id": "d44891b3",
   "metadata": {},
   "outputs": [
    {
     "data": {
      "text/plain": [
       "['₹399',\n",
       " '₹449',\n",
       " '₹2,249',\n",
       " '₹374',\n",
       " '₹1,588',\n",
       " '₹1,679',\n",
       " '₹402',\n",
       " '₹197',\n",
       " '₹374',\n",
       " '₹1,889',\n",
       " '₹374',\n",
       " '₹499',\n",
       " '₹1,316',\n",
       " '₹474',\n",
       " '₹494',\n",
       " '₹630',\n",
       " '₹524',\n",
       " '₹399',\n",
       " '₹699',\n",
       " '₹630',\n",
       " '₹402',\n",
       " '₹349',\n",
       " '₹397',\n",
       " '₹496',\n",
       " '₹399',\n",
       " '₹474',\n",
       " '₹234',\n",
       " '₹499',\n",
       " '₹399',\n",
       " '₹399',\n",
       " '₹509',\n",
       " '₹599',\n",
       " '₹366',\n",
       " '₹1,539',\n",
       " '₹494',\n",
       " '₹499',\n",
       " '₹424',\n",
       " '₹1,189',\n",
       " '₹1,889',\n",
       " '₹676']"
      ]
     },
     "execution_count": 217,
     "metadata": {},
     "output_type": "execute_result"
    }
   ],
   "source": [
    "price"
   ]
  },
  {
   "cell_type": "code",
   "execution_count": 218,
   "id": "30901844",
   "metadata": {},
   "outputs": [
    {
     "data": {
      "text/plain": [
       "40"
      ]
     },
     "execution_count": 218,
     "metadata": {},
     "output_type": "execute_result"
    }
   ],
   "source": [
    "sneaker_discount=driver.find_elements('xpath','//div[@class=\"_3Ay6Sb\"]') #providing xpath.\n",
    "len(sneaker_discount) "
   ]
  },
  {
   "cell_type": "code",
   "execution_count": 221,
   "id": "3b26b6ce",
   "metadata": {},
   "outputs": [
    {
     "data": {
      "text/plain": [
       "[['80%', 'off'],\n",
       " ['64%', 'off'],\n",
       " ['50%', 'off'],\n",
       " ['62%', 'off'],\n",
       " ['54%', 'off'],\n",
       " ['58%', 'off'],\n",
       " ['79%', 'off'],\n",
       " ['60%', 'off'],\n",
       " ['62%', 'off'],\n",
       " ['58%', 'off'],\n",
       " ['62%', 'off'],\n",
       " ['50%', 'off'],\n",
       " ['60%', 'off'],\n",
       " ['52%', 'off'],\n",
       " ['50%', 'off'],\n",
       " ['36%', 'off'],\n",
       " ['75%', 'off'],\n",
       " ['80%', 'off'],\n",
       " ['65%', 'off'],\n",
       " ['36%', 'off'],\n",
       " ['59%', 'off'],\n",
       " ['73%', 'off'],\n",
       " ['80%', 'off'],\n",
       " ['66%', 'off'],\n",
       " ['73%', 'off'],\n",
       " ['76%', 'off'],\n",
       " ['76%', 'off'],\n",
       " ['77%', 'off'],\n",
       " ['80%', 'off'],\n",
       " ['69%', 'off'],\n",
       " ['57%', 'off'],\n",
       " ['40%', 'off'],\n",
       " ['71%', 'off'],\n",
       " ['56%', 'off'],\n",
       " ['50%', 'off'],\n",
       " ['75%', 'off'],\n",
       " ['57%', 'off'],\n",
       " ['15%', 'off'],\n",
       " ['58%', 'off'],\n",
       " ['69%', 'off']]"
      ]
     },
     "execution_count": 221,
     "metadata": {},
     "output_type": "execute_result"
    }
   ],
   "source": [
    "discount=[] #creating empty list for storing scrapped data.\n",
    "\n",
    "for i in sneaker_discount: #for loop to ensure all data is scrapped.\n",
    "    discount.append(i.text.replace('0 %','').split())\n",
    "  \n",
    "    \n",
    "\n",
    "(discount) #to check length of the list created"
   ]
  },
  {
   "cell_type": "code",
   "execution_count": 222,
   "id": "f0ca4bc5",
   "metadata": {
    "scrolled": false
   },
   "outputs": [
    {
     "data": {
      "text/html": [
       "<div>\n",
       "<style scoped>\n",
       "    .dataframe tbody tr th:only-of-type {\n",
       "        vertical-align: middle;\n",
       "    }\n",
       "\n",
       "    .dataframe tbody tr th {\n",
       "        vertical-align: top;\n",
       "    }\n",
       "\n",
       "    .dataframe thead th {\n",
       "        text-align: right;\n",
       "    }\n",
       "</style>\n",
       "<table border=\"1\" class=\"dataframe\">\n",
       "  <thead>\n",
       "    <tr style=\"text-align: right;\">\n",
       "      <th></th>\n",
       "      <th>Brand</th>\n",
       "      <th>Product Description</th>\n",
       "      <th>Price</th>\n",
       "      <th>Discount</th>\n",
       "    </tr>\n",
       "  </thead>\n",
       "  <tbody>\n",
       "    <tr>\n",
       "      <th>0</th>\n",
       "      <td>aadi</td>\n",
       "      <td>Mesh | Ultralightweight | Comfortable | Breath...</td>\n",
       "      <td>₹399</td>\n",
       "      <td>[80%, off]</td>\n",
       "    </tr>\n",
       "    <tr>\n",
       "      <th>1</th>\n",
       "      <td>BUXBERRY</td>\n",
       "      <td>Outdoor Trendy Lightweight Casual,Canvas Styli...</td>\n",
       "      <td>₹449</td>\n",
       "      <td>[64%, off]</td>\n",
       "    </tr>\n",
       "    <tr>\n",
       "      <th>2</th>\n",
       "      <td>PUMA</td>\n",
       "      <td>x KL Seattle Sneakers For Men</td>\n",
       "      <td>₹2,249</td>\n",
       "      <td>[50%, off]</td>\n",
       "    </tr>\n",
       "    <tr>\n",
       "      <th>3</th>\n",
       "      <td>Magnolia</td>\n",
       "      <td>Sneakers For Men</td>\n",
       "      <td>₹374</td>\n",
       "      <td>[62%, off]</td>\n",
       "    </tr>\n",
       "    <tr>\n",
       "      <th>4</th>\n",
       "      <td>PUMA</td>\n",
       "      <td>Puma Smash v2 L Sneakers For Men</td>\n",
       "      <td>₹1,588</td>\n",
       "      <td>[54%, off]</td>\n",
       "    </tr>\n",
       "    <tr>\n",
       "      <th>5</th>\n",
       "      <td>PUMA</td>\n",
       "      <td>x KL Denver Sneakers For Men</td>\n",
       "      <td>₹1,679</td>\n",
       "      <td>[58%, off]</td>\n",
       "    </tr>\n",
       "    <tr>\n",
       "      <th>6</th>\n",
       "      <td>Numenzo</td>\n",
       "      <td>411 Casual Sneakers For Men</td>\n",
       "      <td>₹402</td>\n",
       "      <td>[79%, off]</td>\n",
       "    </tr>\n",
       "    <tr>\n",
       "      <th>7</th>\n",
       "      <td>HOTSTYLE</td>\n",
       "      <td>Sneakers For Men</td>\n",
       "      <td>₹197</td>\n",
       "      <td>[60%, off]</td>\n",
       "    </tr>\n",
       "    <tr>\n",
       "      <th>8</th>\n",
       "      <td>Magnolia</td>\n",
       "      <td>Sneakers For Men</td>\n",
       "      <td>₹374</td>\n",
       "      <td>[62%, off]</td>\n",
       "    </tr>\n",
       "    <tr>\n",
       "      <th>9</th>\n",
       "      <td>PUMA</td>\n",
       "      <td>x 1DER Rock V2 Sneakers For Men</td>\n",
       "      <td>₹1,889</td>\n",
       "      <td>[58%, off]</td>\n",
       "    </tr>\n",
       "    <tr>\n",
       "      <th>10</th>\n",
       "      <td>Magnolia</td>\n",
       "      <td>Sneakers For Men</td>\n",
       "      <td>₹374</td>\n",
       "      <td>[62%, off]</td>\n",
       "    </tr>\n",
       "    <tr>\n",
       "      <th>11</th>\n",
       "      <td>fuoatieec</td>\n",
       "      <td>Sneakers For Men</td>\n",
       "      <td>₹499</td>\n",
       "      <td>[50%, off]</td>\n",
       "    </tr>\n",
       "    <tr>\n",
       "      <th>12</th>\n",
       "      <td>PUMA</td>\n",
       "      <td>Brave Sneakers For Men</td>\n",
       "      <td>₹1,316</td>\n",
       "      <td>[60%, off]</td>\n",
       "    </tr>\n",
       "    <tr>\n",
       "      <th>13</th>\n",
       "      <td>ASTEROID</td>\n",
       "      <td>Original Luxury Branded Black Fancy Casual Wal...</td>\n",
       "      <td>₹474</td>\n",
       "      <td>[52%, off]</td>\n",
       "    </tr>\n",
       "    <tr>\n",
       "      <th>14</th>\n",
       "      <td>Rzisbo</td>\n",
       "      <td>Sneakers For Men</td>\n",
       "      <td>₹494</td>\n",
       "      <td>[50%, off]</td>\n",
       "    </tr>\n",
       "    <tr>\n",
       "      <th>15</th>\n",
       "      <td>RapidBox</td>\n",
       "      <td>Sneakers For Men</td>\n",
       "      <td>₹630</td>\n",
       "      <td>[36%, off]</td>\n",
       "    </tr>\n",
       "    <tr>\n",
       "      <th>16</th>\n",
       "      <td>KILLER</td>\n",
       "      <td>Sneakers For Men</td>\n",
       "      <td>₹524</td>\n",
       "      <td>[75%, off]</td>\n",
       "    </tr>\n",
       "    <tr>\n",
       "      <th>17</th>\n",
       "      <td>aadi</td>\n",
       "      <td>Mesh | Ultralightweight | Comfortable | Breath...</td>\n",
       "      <td>₹399</td>\n",
       "      <td>[80%, off]</td>\n",
       "    </tr>\n",
       "    <tr>\n",
       "      <th>18</th>\n",
       "      <td>PROVOGUE</td>\n",
       "      <td>Sneakers For Men</td>\n",
       "      <td>₹699</td>\n",
       "      <td>[65%, off]</td>\n",
       "    </tr>\n",
       "    <tr>\n",
       "      <th>19</th>\n",
       "      <td>RapidBox</td>\n",
       "      <td>Sneakers For Men</td>\n",
       "      <td>₹630</td>\n",
       "      <td>[36%, off]</td>\n",
       "    </tr>\n",
       "    <tr>\n",
       "      <th>20</th>\n",
       "      <td>Robbie jones</td>\n",
       "      <td>Sneakers For Men</td>\n",
       "      <td>₹402</td>\n",
       "      <td>[59%, off]</td>\n",
       "    </tr>\n",
       "    <tr>\n",
       "      <th>21</th>\n",
       "      <td>BRUTON</td>\n",
       "      <td>Modern Trendy Sneakers Shoes Sneakers For Men</td>\n",
       "      <td>₹349</td>\n",
       "      <td>[73%, off]</td>\n",
       "    </tr>\n",
       "    <tr>\n",
       "      <th>22</th>\n",
       "      <td>KWIK FIT</td>\n",
       "      <td>Kwik FIT casual sneaker shoes and partywear sh...</td>\n",
       "      <td>₹397</td>\n",
       "      <td>[80%, off]</td>\n",
       "    </tr>\n",
       "    <tr>\n",
       "      <th>23</th>\n",
       "      <td>Scull Wings</td>\n",
       "      <td>GREEN SNEAKERS CASUAL SHOES CANVAS SHOES FOR M...</td>\n",
       "      <td>₹496</td>\n",
       "      <td>[66%, off]</td>\n",
       "    </tr>\n",
       "    <tr>\n",
       "      <th>24</th>\n",
       "      <td>TR</td>\n",
       "      <td>Casual White Sneakers For Men</td>\n",
       "      <td>₹399</td>\n",
       "      <td>[73%, off]</td>\n",
       "    </tr>\n",
       "    <tr>\n",
       "      <th>25</th>\n",
       "      <td>ASTEROID</td>\n",
       "      <td>Original Luxury Branded Fashionable Men's Casu...</td>\n",
       "      <td>₹474</td>\n",
       "      <td>[76%, off]</td>\n",
       "    </tr>\n",
       "    <tr>\n",
       "      <th>26</th>\n",
       "      <td>URBANBOX</td>\n",
       "      <td>Sneakers Sneakers For Men</td>\n",
       "      <td>₹234</td>\n",
       "      <td>[76%, off]</td>\n",
       "    </tr>\n",
       "    <tr>\n",
       "      <th>27</th>\n",
       "      <td>Ardeo</td>\n",
       "      <td>Sneakers For Men</td>\n",
       "      <td>₹499</td>\n",
       "      <td>[77%, off]</td>\n",
       "    </tr>\n",
       "    <tr>\n",
       "      <th>28</th>\n",
       "      <td>Noztile</td>\n",
       "      <td>Sneakers For Men</td>\n",
       "      <td>₹399</td>\n",
       "      <td>[80%, off]</td>\n",
       "    </tr>\n",
       "    <tr>\n",
       "      <th>29</th>\n",
       "      <td>BRUTON</td>\n",
       "      <td>Modern Trendy Sneakers Shoes Sneakers For Men</td>\n",
       "      <td>₹399</td>\n",
       "      <td>[69%, off]</td>\n",
       "    </tr>\n",
       "    <tr>\n",
       "      <th>30</th>\n",
       "      <td>WHITE WALKERS</td>\n",
       "      <td>Stylish &amp; Trending Outdoor Walking Comfortable...</td>\n",
       "      <td>₹509</td>\n",
       "      <td>[57%, off]</td>\n",
       "    </tr>\n",
       "    <tr>\n",
       "      <th>31</th>\n",
       "      <td>Frencho</td>\n",
       "      <td>Sneakers For Men</td>\n",
       "      <td>₹599</td>\n",
       "      <td>[40%, off]</td>\n",
       "    </tr>\n",
       "    <tr>\n",
       "      <th>32</th>\n",
       "      <td>BRUTON</td>\n",
       "      <td>Lattest Sneakers Shoe Sneakers For Men</td>\n",
       "      <td>₹366</td>\n",
       "      <td>[71%, off]</td>\n",
       "    </tr>\n",
       "    <tr>\n",
       "      <th>33</th>\n",
       "      <td>PUMA</td>\n",
       "      <td>Puma Smash v2 L Sneakers For Men</td>\n",
       "      <td>₹1,539</td>\n",
       "      <td>[56%, off]</td>\n",
       "    </tr>\n",
       "    <tr>\n",
       "      <th>34</th>\n",
       "      <td>AMICO</td>\n",
       "      <td>Sneakers For Men</td>\n",
       "      <td>₹494</td>\n",
       "      <td>[50%, off]</td>\n",
       "    </tr>\n",
       "    <tr>\n",
       "      <th>35</th>\n",
       "      <td>KWIK FIT</td>\n",
       "      <td>Casual Trendy Fashion Sport Sneaker Shoes Gym ...</td>\n",
       "      <td>₹499</td>\n",
       "      <td>[75%, off]</td>\n",
       "    </tr>\n",
       "    <tr>\n",
       "      <th>36</th>\n",
       "      <td>Robbie jones</td>\n",
       "      <td>Sneakers For Men</td>\n",
       "      <td>₹424</td>\n",
       "      <td>[57%, off]</td>\n",
       "    </tr>\n",
       "    <tr>\n",
       "      <th>37</th>\n",
       "      <td>SPARX</td>\n",
       "      <td>9019 Sneakers For Men</td>\n",
       "      <td>₹1,189</td>\n",
       "      <td>[15%, off]</td>\n",
       "    </tr>\n",
       "    <tr>\n",
       "      <th>38</th>\n",
       "      <td>PUMA</td>\n",
       "      <td>x 1DER Rock V2 Sneakers For Men</td>\n",
       "      <td>₹1,889</td>\n",
       "      <td>[58%, off]</td>\n",
       "    </tr>\n",
       "    <tr>\n",
       "      <th>39</th>\n",
       "      <td>PROVOGUE</td>\n",
       "      <td>Sneakers For Men</td>\n",
       "      <td>₹676</td>\n",
       "      <td>[69%, off]</td>\n",
       "    </tr>\n",
       "  </tbody>\n",
       "</table>\n",
       "</div>"
      ],
      "text/plain": [
       "            Brand                                Product Description   Price  \\\n",
       "0            aadi  Mesh | Ultralightweight | Comfortable | Breath...    ₹399   \n",
       "1        BUXBERRY  Outdoor Trendy Lightweight Casual,Canvas Styli...    ₹449   \n",
       "2            PUMA                      x KL Seattle Sneakers For Men  ₹2,249   \n",
       "3        Magnolia                                   Sneakers For Men    ₹374   \n",
       "4            PUMA                   Puma Smash v2 L Sneakers For Men  ₹1,588   \n",
       "5            PUMA                       x KL Denver Sneakers For Men  ₹1,679   \n",
       "6         Numenzo                        411 Casual Sneakers For Men    ₹402   \n",
       "7        HOTSTYLE                                   Sneakers For Men    ₹197   \n",
       "8        Magnolia                                   Sneakers For Men    ₹374   \n",
       "9            PUMA                    x 1DER Rock V2 Sneakers For Men  ₹1,889   \n",
       "10       Magnolia                                   Sneakers For Men    ₹374   \n",
       "11      fuoatieec                                   Sneakers For Men    ₹499   \n",
       "12           PUMA                             Brave Sneakers For Men  ₹1,316   \n",
       "13       ASTEROID  Original Luxury Branded Black Fancy Casual Wal...    ₹474   \n",
       "14         Rzisbo                                   Sneakers For Men    ₹494   \n",
       "15       RapidBox                                   Sneakers For Men    ₹630   \n",
       "16         KILLER                                   Sneakers For Men    ₹524   \n",
       "17           aadi  Mesh | Ultralightweight | Comfortable | Breath...    ₹399   \n",
       "18       PROVOGUE                                   Sneakers For Men    ₹699   \n",
       "19       RapidBox                                   Sneakers For Men    ₹630   \n",
       "20   Robbie jones                                   Sneakers For Men    ₹402   \n",
       "21         BRUTON      Modern Trendy Sneakers Shoes Sneakers For Men    ₹349   \n",
       "22       KWIK FIT  Kwik FIT casual sneaker shoes and partywear sh...    ₹397   \n",
       "23    Scull Wings  GREEN SNEAKERS CASUAL SHOES CANVAS SHOES FOR M...    ₹496   \n",
       "24             TR                      Casual White Sneakers For Men    ₹399   \n",
       "25       ASTEROID  Original Luxury Branded Fashionable Men's Casu...    ₹474   \n",
       "26       URBANBOX                          Sneakers Sneakers For Men    ₹234   \n",
       "27          Ardeo                                   Sneakers For Men    ₹499   \n",
       "28        Noztile                                   Sneakers For Men    ₹399   \n",
       "29         BRUTON      Modern Trendy Sneakers Shoes Sneakers For Men    ₹399   \n",
       "30  WHITE WALKERS  Stylish & Trending Outdoor Walking Comfortable...    ₹509   \n",
       "31        Frencho                                   Sneakers For Men    ₹599   \n",
       "32         BRUTON             Lattest Sneakers Shoe Sneakers For Men    ₹366   \n",
       "33           PUMA                   Puma Smash v2 L Sneakers For Men  ₹1,539   \n",
       "34          AMICO                                   Sneakers For Men    ₹494   \n",
       "35       KWIK FIT  Casual Trendy Fashion Sport Sneaker Shoes Gym ...    ₹499   \n",
       "36   Robbie jones                                   Sneakers For Men    ₹424   \n",
       "37          SPARX                              9019 Sneakers For Men  ₹1,189   \n",
       "38           PUMA                    x 1DER Rock V2 Sneakers For Men  ₹1,889   \n",
       "39       PROVOGUE                                   Sneakers For Men    ₹676   \n",
       "\n",
       "      Discount  \n",
       "0   [80%, off]  \n",
       "1   [64%, off]  \n",
       "2   [50%, off]  \n",
       "3   [62%, off]  \n",
       "4   [54%, off]  \n",
       "5   [58%, off]  \n",
       "6   [79%, off]  \n",
       "7   [60%, off]  \n",
       "8   [62%, off]  \n",
       "9   [58%, off]  \n",
       "10  [62%, off]  \n",
       "11  [50%, off]  \n",
       "12  [60%, off]  \n",
       "13  [52%, off]  \n",
       "14  [50%, off]  \n",
       "15  [36%, off]  \n",
       "16  [75%, off]  \n",
       "17  [80%, off]  \n",
       "18  [65%, off]  \n",
       "19  [36%, off]  \n",
       "20  [59%, off]  \n",
       "21  [73%, off]  \n",
       "22  [80%, off]  \n",
       "23  [66%, off]  \n",
       "24  [73%, off]  \n",
       "25  [76%, off]  \n",
       "26  [76%, off]  \n",
       "27  [77%, off]  \n",
       "28  [80%, off]  \n",
       "29  [69%, off]  \n",
       "30  [57%, off]  \n",
       "31  [40%, off]  \n",
       "32  [71%, off]  \n",
       "33  [56%, off]  \n",
       "34  [50%, off]  \n",
       "35  [75%, off]  \n",
       "36  [57%, off]  \n",
       "37  [15%, off]  \n",
       "38  [58%, off]  \n",
       "39  [69%, off]  "
      ]
     },
     "execution_count": 222,
     "metadata": {},
     "output_type": "execute_result"
    }
   ],
   "source": [
    "sneaker=pd.DataFrame() #creating data frame to display all the scrapped data.\n",
    "sneaker['Brand']= brand\n",
    "sneaker['Product Description']=description # I tried to include it in DataFrame, but on the website product description was not scrapped for 6 products randomly. \n",
    "sneaker['Price']=price\n",
    "sneaker['Discount']=discount\n",
    "sneaker #displaying dataframe."
   ]
  },
  {
   "cell_type": "code",
   "execution_count": 223,
   "id": "582c7386",
   "metadata": {},
   "outputs": [
    {
     "data": {
      "text/plain": [
       "<selenium.webdriver.remote.webelement.WebElement (session=\"e6aebe0108409fa7fe9bf890020605ac\", element=\"c5c66207-c94e-49e7-ae77-1d90e7aec76f\")>"
      ]
     },
     "execution_count": 223,
     "metadata": {},
     "output_type": "execute_result"
    }
   ],
   "source": [
    "next_btn= driver.find_element('xpath','/html/body/div/div/div[3]/div[1]/div[2]/div[12]/div/div/nav/a[11]/span')\n",
    "next_btn"
   ]
  },
  {
   "cell_type": "code",
   "execution_count": 224,
   "id": "4464c714",
   "metadata": {},
   "outputs": [],
   "source": [
    "next_btn.click()"
   ]
  },
  {
   "cell_type": "code",
   "execution_count": 225,
   "id": "bd69d946",
   "metadata": {},
   "outputs": [
    {
     "data": {
      "text/plain": [
       "40"
      ]
     },
     "execution_count": 225,
     "metadata": {},
     "output_type": "execute_result"
    }
   ],
   "source": [
    "sneaker_brand=driver.find_elements('xpath','//div[@class=\"_2WkVRV\"]') #class for brand name of the sneaker is provided here this path will help scrap data.\n",
    "len(sneaker_brand)"
   ]
  },
  {
   "cell_type": "code",
   "execution_count": 226,
   "id": "27608d4a",
   "metadata": {},
   "outputs": [
    {
     "data": {
      "text/plain": [
       "['aadi',\n",
       " 'BUXBERRY',\n",
       " 'PUMA',\n",
       " 'Magnolia',\n",
       " 'PUMA',\n",
       " 'PUMA',\n",
       " 'Numenzo',\n",
       " 'HOTSTYLE',\n",
       " 'Magnolia',\n",
       " 'PUMA',\n",
       " 'Magnolia',\n",
       " 'fuoatieec',\n",
       " 'PUMA',\n",
       " 'ASTEROID',\n",
       " 'Rzisbo',\n",
       " 'RapidBox',\n",
       " 'KILLER',\n",
       " 'aadi',\n",
       " 'PROVOGUE',\n",
       " 'RapidBox']"
      ]
     },
     "execution_count": 226,
     "metadata": {},
     "output_type": "execute_result"
    }
   ],
   "source": [
    "brand=[] #empty list created for data to be stored after scrapping.\n",
    "for i in sneaker_brand: #for loop to get the data from the page.\n",
    "    brand.append(i.text)\n",
    "    if len(brand)==20:\n",
    "        break\n",
    "    \n",
    "brand #check length of the list"
   ]
  },
  {
   "cell_type": "code",
   "execution_count": 227,
   "id": "7d6a1e61",
   "metadata": {},
   "outputs": [
    {
     "data": {
      "text/plain": [
       "40"
      ]
     },
     "execution_count": 227,
     "metadata": {},
     "output_type": "execute_result"
    }
   ],
   "source": [
    "desc=driver.find_elements('xpath','//a[@class=\"IRpwTa\" or @class=\"IRpwTa _2-ICcC\"]')#scraping description from the xpath\n",
    "len(desc)\n"
   ]
  },
  {
   "cell_type": "code",
   "execution_count": 228,
   "id": "3371472f",
   "metadata": {},
   "outputs": [
    {
     "data": {
      "text/plain": [
       "['Mesh | Ultralightweight | Comfortable | Breathable Walk...',\n",
       " 'Outdoor Trendy Lightweight Casual,Canvas Stylish Partyw...',\n",
       " 'x KL Seattle Sneakers For Men',\n",
       " 'Sneakers For Men',\n",
       " 'Puma Smash v2 L Sneakers For Men',\n",
       " 'x KL Denver Sneakers For Men',\n",
       " '411 Casual Sneakers For Men',\n",
       " 'Sneakers For Men',\n",
       " 'Sneakers For Men',\n",
       " 'x 1DER Rock V2 Sneakers For Men',\n",
       " 'Sneakers For Men',\n",
       " 'Sneakers For Men',\n",
       " 'Brave Sneakers For Men',\n",
       " 'Original Luxury Branded Black Fancy Casual Walking Part...',\n",
       " 'Sneakers For Men',\n",
       " 'Sneakers For Men',\n",
       " 'Sneakers For Men',\n",
       " 'Mesh | Ultralightweight | Comfortable | Breathable Walk...',\n",
       " 'Sneakers For Men',\n",
       " 'Sneakers For Men']"
      ]
     },
     "execution_count": 228,
     "metadata": {},
     "output_type": "execute_result"
    }
   ],
   "source": [
    "description=[] #creating empty list to store scrapped data.\n",
    "for i in desc:\n",
    "    description.append(i.text) # for loop to check that all required description is stored.\n",
    "    if len(description)==20:\n",
    "        break\n",
    "   \n",
    "    \n",
    "description"
   ]
  },
  {
   "cell_type": "code",
   "execution_count": 229,
   "id": "dce3034a",
   "metadata": {},
   "outputs": [
    {
     "data": {
      "text/plain": [
       "40"
      ]
     },
     "execution_count": 229,
     "metadata": {},
     "output_type": "execute_result"
    }
   ],
   "source": [
    "sneaker_price=driver.find_elements('xpath','//div[@class=\"_30jeq3\"]') #providing the path for data scrapping.\n",
    "len(sneaker_price) "
   ]
  },
  {
   "cell_type": "code",
   "execution_count": 230,
   "id": "42c1537b",
   "metadata": {},
   "outputs": [
    {
     "data": {
      "text/plain": [
       "20"
      ]
     },
     "execution_count": 230,
     "metadata": {},
     "output_type": "execute_result"
    }
   ],
   "source": [
    "price=[] #creating empty list for storing all prices scrapped. \n",
    "for i in sneaker_price:\n",
    "    price.append(i.text)\n",
    "    if len(price)==20:\n",
    "        break\n",
    "    \n",
    "len(price)#check len of the list."
   ]
  },
  {
   "cell_type": "code",
   "execution_count": 231,
   "id": "9d9422ef",
   "metadata": {},
   "outputs": [
    {
     "data": {
      "text/plain": [
       "['₹399',\n",
       " '₹449',\n",
       " '₹2,249',\n",
       " '₹374',\n",
       " '₹1,588',\n",
       " '₹1,679',\n",
       " '₹402',\n",
       " '₹197',\n",
       " '₹374',\n",
       " '₹1,889',\n",
       " '₹374',\n",
       " '₹499',\n",
       " '₹1,316',\n",
       " '₹474',\n",
       " '₹494',\n",
       " '₹630',\n",
       " '₹524',\n",
       " '₹399',\n",
       " '₹699',\n",
       " '₹630']"
      ]
     },
     "execution_count": 231,
     "metadata": {},
     "output_type": "execute_result"
    }
   ],
   "source": [
    "price"
   ]
  },
  {
   "cell_type": "code",
   "execution_count": 232,
   "id": "2e693859",
   "metadata": {},
   "outputs": [
    {
     "data": {
      "text/plain": [
       "40"
      ]
     },
     "execution_count": 232,
     "metadata": {},
     "output_type": "execute_result"
    }
   ],
   "source": [
    "sneaker_discount=driver.find_elements('xpath','//div[@class=\"_3Ay6Sb\"]') #providing xpath.\n",
    "len(sneaker_discount) "
   ]
  },
  {
   "cell_type": "code",
   "execution_count": 233,
   "id": "de9f21c3",
   "metadata": {},
   "outputs": [
    {
     "data": {
      "text/plain": [
       "20"
      ]
     },
     "execution_count": 233,
     "metadata": {},
     "output_type": "execute_result"
    }
   ],
   "source": [
    "discount=[] #creating empty list for storing scrapped data.\n",
    "\n",
    "for i in sneaker_discount: #for loop to ensure all data is scrapped.\n",
    "    discount.append(i.text.replace('0 %','').split())\n",
    "    if len(discount)==19:\n",
    "        break\n",
    "  \n",
    "    \n",
    "discount.insert(6,'0%')\n",
    "len(discount) #to check length of the list created"
   ]
  },
  {
   "cell_type": "code",
   "execution_count": 236,
   "id": "77326679",
   "metadata": {
    "scrolled": false
   },
   "outputs": [
    {
     "data": {
      "text/plain": [
       "[['80%', 'off'],\n",
       " ['64%', 'off'],\n",
       " ['50%', 'off'],\n",
       " ['62%', 'off'],\n",
       " ['54%', 'off'],\n",
       " ['58%', 'off'],\n",
       " '0%',\n",
       " ['79%', 'off'],\n",
       " ['60%', 'off'],\n",
       " ['62%', 'off'],\n",
       " ['58%', 'off'],\n",
       " ['62%', 'off'],\n",
       " ['50%', 'off'],\n",
       " ['60%', 'off'],\n",
       " ['52%', 'off'],\n",
       " ['50%', 'off'],\n",
       " ['36%', 'off'],\n",
       " ['75%', 'off'],\n",
       " ['80%', 'off'],\n",
       " ['65%', 'off']]"
      ]
     },
     "execution_count": 236,
     "metadata": {},
     "output_type": "execute_result"
    }
   ],
   "source": [
    "discount"
   ]
  },
  {
   "cell_type": "code",
   "execution_count": 237,
   "id": "00ef6640",
   "metadata": {},
   "outputs": [
    {
     "data": {
      "text/html": [
       "<div>\n",
       "<style scoped>\n",
       "    .dataframe tbody tr th:only-of-type {\n",
       "        vertical-align: middle;\n",
       "    }\n",
       "\n",
       "    .dataframe tbody tr th {\n",
       "        vertical-align: top;\n",
       "    }\n",
       "\n",
       "    .dataframe thead th {\n",
       "        text-align: right;\n",
       "    }\n",
       "</style>\n",
       "<table border=\"1\" class=\"dataframe\">\n",
       "  <thead>\n",
       "    <tr style=\"text-align: right;\">\n",
       "      <th></th>\n",
       "      <th>Brand</th>\n",
       "      <th>Product Description</th>\n",
       "      <th>Price</th>\n",
       "      <th>Discount</th>\n",
       "    </tr>\n",
       "  </thead>\n",
       "  <tbody>\n",
       "    <tr>\n",
       "      <th>0</th>\n",
       "      <td>aadi</td>\n",
       "      <td>Mesh | Ultralightweight | Comfortable | Breath...</td>\n",
       "      <td>₹399</td>\n",
       "      <td>[80%, off]</td>\n",
       "    </tr>\n",
       "    <tr>\n",
       "      <th>1</th>\n",
       "      <td>BUXBERRY</td>\n",
       "      <td>Outdoor Trendy Lightweight Casual,Canvas Styli...</td>\n",
       "      <td>₹449</td>\n",
       "      <td>[64%, off]</td>\n",
       "    </tr>\n",
       "    <tr>\n",
       "      <th>2</th>\n",
       "      <td>PUMA</td>\n",
       "      <td>x KL Seattle Sneakers For Men</td>\n",
       "      <td>₹2,249</td>\n",
       "      <td>[50%, off]</td>\n",
       "    </tr>\n",
       "    <tr>\n",
       "      <th>3</th>\n",
       "      <td>Magnolia</td>\n",
       "      <td>Sneakers For Men</td>\n",
       "      <td>₹374</td>\n",
       "      <td>[62%, off]</td>\n",
       "    </tr>\n",
       "    <tr>\n",
       "      <th>4</th>\n",
       "      <td>PUMA</td>\n",
       "      <td>Puma Smash v2 L Sneakers For Men</td>\n",
       "      <td>₹1,588</td>\n",
       "      <td>[54%, off]</td>\n",
       "    </tr>\n",
       "    <tr>\n",
       "      <th>5</th>\n",
       "      <td>PUMA</td>\n",
       "      <td>x KL Denver Sneakers For Men</td>\n",
       "      <td>₹1,679</td>\n",
       "      <td>[58%, off]</td>\n",
       "    </tr>\n",
       "    <tr>\n",
       "      <th>6</th>\n",
       "      <td>Numenzo</td>\n",
       "      <td>411 Casual Sneakers For Men</td>\n",
       "      <td>₹402</td>\n",
       "      <td>0%</td>\n",
       "    </tr>\n",
       "    <tr>\n",
       "      <th>7</th>\n",
       "      <td>HOTSTYLE</td>\n",
       "      <td>Sneakers For Men</td>\n",
       "      <td>₹197</td>\n",
       "      <td>[79%, off]</td>\n",
       "    </tr>\n",
       "    <tr>\n",
       "      <th>8</th>\n",
       "      <td>Magnolia</td>\n",
       "      <td>Sneakers For Men</td>\n",
       "      <td>₹374</td>\n",
       "      <td>[60%, off]</td>\n",
       "    </tr>\n",
       "    <tr>\n",
       "      <th>9</th>\n",
       "      <td>PUMA</td>\n",
       "      <td>x 1DER Rock V2 Sneakers For Men</td>\n",
       "      <td>₹1,889</td>\n",
       "      <td>[62%, off]</td>\n",
       "    </tr>\n",
       "    <tr>\n",
       "      <th>10</th>\n",
       "      <td>Magnolia</td>\n",
       "      <td>Sneakers For Men</td>\n",
       "      <td>₹374</td>\n",
       "      <td>[58%, off]</td>\n",
       "    </tr>\n",
       "    <tr>\n",
       "      <th>11</th>\n",
       "      <td>fuoatieec</td>\n",
       "      <td>Sneakers For Men</td>\n",
       "      <td>₹499</td>\n",
       "      <td>[62%, off]</td>\n",
       "    </tr>\n",
       "    <tr>\n",
       "      <th>12</th>\n",
       "      <td>PUMA</td>\n",
       "      <td>Brave Sneakers For Men</td>\n",
       "      <td>₹1,316</td>\n",
       "      <td>[50%, off]</td>\n",
       "    </tr>\n",
       "    <tr>\n",
       "      <th>13</th>\n",
       "      <td>ASTEROID</td>\n",
       "      <td>Original Luxury Branded Black Fancy Casual Wal...</td>\n",
       "      <td>₹474</td>\n",
       "      <td>[60%, off]</td>\n",
       "    </tr>\n",
       "    <tr>\n",
       "      <th>14</th>\n",
       "      <td>Rzisbo</td>\n",
       "      <td>Sneakers For Men</td>\n",
       "      <td>₹494</td>\n",
       "      <td>[52%, off]</td>\n",
       "    </tr>\n",
       "    <tr>\n",
       "      <th>15</th>\n",
       "      <td>RapidBox</td>\n",
       "      <td>Sneakers For Men</td>\n",
       "      <td>₹630</td>\n",
       "      <td>[50%, off]</td>\n",
       "    </tr>\n",
       "    <tr>\n",
       "      <th>16</th>\n",
       "      <td>KILLER</td>\n",
       "      <td>Sneakers For Men</td>\n",
       "      <td>₹524</td>\n",
       "      <td>[36%, off]</td>\n",
       "    </tr>\n",
       "    <tr>\n",
       "      <th>17</th>\n",
       "      <td>aadi</td>\n",
       "      <td>Mesh | Ultralightweight | Comfortable | Breath...</td>\n",
       "      <td>₹399</td>\n",
       "      <td>[75%, off]</td>\n",
       "    </tr>\n",
       "    <tr>\n",
       "      <th>18</th>\n",
       "      <td>PROVOGUE</td>\n",
       "      <td>Sneakers For Men</td>\n",
       "      <td>₹699</td>\n",
       "      <td>[80%, off]</td>\n",
       "    </tr>\n",
       "    <tr>\n",
       "      <th>19</th>\n",
       "      <td>RapidBox</td>\n",
       "      <td>Sneakers For Men</td>\n",
       "      <td>₹630</td>\n",
       "      <td>[65%, off]</td>\n",
       "    </tr>\n",
       "  </tbody>\n",
       "</table>\n",
       "</div>"
      ],
      "text/plain": [
       "        Brand                                Product Description   Price  \\\n",
       "0        aadi  Mesh | Ultralightweight | Comfortable | Breath...    ₹399   \n",
       "1    BUXBERRY  Outdoor Trendy Lightweight Casual,Canvas Styli...    ₹449   \n",
       "2        PUMA                      x KL Seattle Sneakers For Men  ₹2,249   \n",
       "3    Magnolia                                   Sneakers For Men    ₹374   \n",
       "4        PUMA                   Puma Smash v2 L Sneakers For Men  ₹1,588   \n",
       "5        PUMA                       x KL Denver Sneakers For Men  ₹1,679   \n",
       "6     Numenzo                        411 Casual Sneakers For Men    ₹402   \n",
       "7    HOTSTYLE                                   Sneakers For Men    ₹197   \n",
       "8    Magnolia                                   Sneakers For Men    ₹374   \n",
       "9        PUMA                    x 1DER Rock V2 Sneakers For Men  ₹1,889   \n",
       "10   Magnolia                                   Sneakers For Men    ₹374   \n",
       "11  fuoatieec                                   Sneakers For Men    ₹499   \n",
       "12       PUMA                             Brave Sneakers For Men  ₹1,316   \n",
       "13   ASTEROID  Original Luxury Branded Black Fancy Casual Wal...    ₹474   \n",
       "14     Rzisbo                                   Sneakers For Men    ₹494   \n",
       "15   RapidBox                                   Sneakers For Men    ₹630   \n",
       "16     KILLER                                   Sneakers For Men    ₹524   \n",
       "17       aadi  Mesh | Ultralightweight | Comfortable | Breath...    ₹399   \n",
       "18   PROVOGUE                                   Sneakers For Men    ₹699   \n",
       "19   RapidBox                                   Sneakers For Men    ₹630   \n",
       "\n",
       "      Discount  \n",
       "0   [80%, off]  \n",
       "1   [64%, off]  \n",
       "2   [50%, off]  \n",
       "3   [62%, off]  \n",
       "4   [54%, off]  \n",
       "5   [58%, off]  \n",
       "6           0%  \n",
       "7   [79%, off]  \n",
       "8   [60%, off]  \n",
       "9   [62%, off]  \n",
       "10  [58%, off]  \n",
       "11  [62%, off]  \n",
       "12  [50%, off]  \n",
       "13  [60%, off]  \n",
       "14  [52%, off]  \n",
       "15  [50%, off]  \n",
       "16  [36%, off]  \n",
       "17  [75%, off]  \n",
       "18  [80%, off]  \n",
       "19  [65%, off]  "
      ]
     },
     "execution_count": 237,
     "metadata": {},
     "output_type": "execute_result"
    }
   ],
   "source": [
    "sneaker=pd.DataFrame() #creating data frame to display all the scrapped data.\n",
    "sneaker['Brand']= brand\n",
    "sneaker['Product Description']=description # I tried to include it in DataFrame, but on the website product description was not scrapped for 6 products randomly. \n",
    "sneaker['Price']=price\n",
    "sneaker['Discount']=discount\n",
    "sneaker #displaying dataframe."
   ]
  },
  {
   "cell_type": "code",
   "execution_count": 240,
   "id": "0520a311",
   "metadata": {},
   "outputs": [],
   "source": [
    "#Q8\n",
    "driver= webdriver.Chrome(r'C:\\Users\\sofiy\\Downloads\\chromedriver_win32 (1)\\chromedriver.exe')"
   ]
  },
  {
   "cell_type": "code",
   "execution_count": 242,
   "id": "6f956864",
   "metadata": {
    "scrolled": true
   },
   "outputs": [],
   "source": [
    "url='https://www.amazon.in/'\n",
    "driver.get(url)"
   ]
  },
  {
   "cell_type": "code",
   "execution_count": 243,
   "id": "75fa5d25",
   "metadata": {},
   "outputs": [
    {
     "data": {
      "text/plain": [
       "<selenium.webdriver.remote.webelement.WebElement (session=\"f0b5975a5f5bbe2e99e56a70aa450049\", element=\"323a6f50-84a0-4fe1-8035-6b89186b65d0\")>"
      ]
     },
     "execution_count": 243,
     "metadata": {},
     "output_type": "execute_result"
    }
   ],
   "source": [
    "search_bar=driver.find_element('xpath','//*[@id=\"twotabsearchtextbox\"]')\n",
    "search_bar"
   ]
  },
  {
   "cell_type": "code",
   "execution_count": 244,
   "id": "91cd5446",
   "metadata": {},
   "outputs": [],
   "source": [
    "search_bar.send_keys(\"Laptop\")"
   ]
  },
  {
   "cell_type": "code",
   "execution_count": 245,
   "id": "c1973956",
   "metadata": {},
   "outputs": [
    {
     "data": {
      "text/plain": [
       "<selenium.webdriver.remote.webelement.WebElement (session=\"f0b5975a5f5bbe2e99e56a70aa450049\", element=\"63628ed5-520e-4660-88f0-edd9e28d12db\")>"
      ]
     },
     "execution_count": 245,
     "metadata": {},
     "output_type": "execute_result"
    }
   ],
   "source": [
    "search_btn= driver.find_element('xpath','/html/body/div[1]/header/div/div[1]/div[2]/div/form/div[3]/div/span/input')\n",
    "search_btn "
   ]
  },
  {
   "cell_type": "code",
   "execution_count": 246,
   "id": "6fe041de",
   "metadata": {},
   "outputs": [],
   "source": [
    "search_btn.click()"
   ]
  },
  {
   "cell_type": "code",
   "execution_count": 247,
   "id": "98ddd637",
   "metadata": {
    "scrolled": true
   },
   "outputs": [
    {
     "data": {
      "text/plain": [
       "<selenium.webdriver.remote.webelement.WebElement (session=\"f0b5975a5f5bbe2e99e56a70aa450049\", element=\"0e06785b-6f26-48f1-9ef8-bdd43ac74411\")>"
      ]
     },
     "execution_count": 247,
     "metadata": {},
     "output_type": "execute_result"
    }
   ],
   "source": [
    "filter_b= driver.find_element('xpath','/html/body/div[1]/div[2]/div[1]/div[2]/div/div[3]/span/div[1]/div/div/div[6]/ul[2]/li[14]/span/a/div/label/i')\n",
    "filter_b "
   ]
  },
  {
   "cell_type": "code",
   "execution_count": 248,
   "id": "2acb3a96",
   "metadata": {},
   "outputs": [],
   "source": [
    "filter_b.click()"
   ]
  },
  {
   "cell_type": "code",
   "execution_count": 249,
   "id": "b720d7b6",
   "metadata": {},
   "outputs": [
    {
     "data": {
      "text/plain": [
       "24"
      ]
     },
     "execution_count": 249,
     "metadata": {},
     "output_type": "execute_result"
    }
   ],
   "source": [
    "laptop_name=driver.find_elements('xpath','//h2[@class=\"a-size-mini a-spacing-none a-color-base s-line-clamp-2\"]')\n",
    "len(laptop_name)"
   ]
  },
  {
   "cell_type": "code",
   "execution_count": 250,
   "id": "21231f36",
   "metadata": {
    "scrolled": true
   },
   "outputs": [
    {
     "data": {
      "text/plain": [
       "['Dell Inspiron 3521 Laptop, Intel PQC-N5030, Win 11 + MSO\\'21, 8Gb GDDR4, 256Gb SSD, 15.6\" (39.62Cms) HD Anti-Glare (D560756Win9Be, 1.61Kgs)',\n",
       " 'ASUS VivoBook 14 (2021), 14-inch (35.56 cm) HD, Intel Pentium Silver N6000 Quad Core, Thin and Light Laptop (8GB/256GB SSD/Office 2021/Windows 11/Integrated Graphics/Silver/1.5 kg), X415KA-BV121WS',\n",
       " 'Acer Extensa 15 Thin & Light Intel Processor Pentium Silver N5030 15.6 inches ( 39 cm ) Business Laptop (4GB RAM/256 GB SSD/Windows 11 Home/Black/1.9 Kg, EX215-31)',\n",
       " 'Hp 14S-Intel Pentium Silver N6000- 8Gb Ram/256Gb Ssd 14 Inches (35.6Cm) Hd, Micro-Edge Display (Uhd Graphics/Alexa/Dual Speakers/Fast Charge/Windows 11 Home/Ms Office), 14S- Dq3033Tu,Jet Black',\n",
       " 'Acer Travelmate Business Laptop Intel Pentium N5030 Quad-core Processor ( 4GB DDR4/ 128GB SSD /UHD Graphics/ Windows 11 Home/Spill Resistant Keyboard) TMB311-31 with 29.4 cm (11.6 Inches) HD Display',\n",
       " 'Acer Aspire 3 Laptop (Made in India) A314-35 35.56 cm (14-Inch) HD Display (Intel Pentium Silver Quad -Core Processor N6000 | Windows 11 Home | 8 GB | 256GB SSD | Weight : 1.45 Kg| Silver',\n",
       " 'Microsoft Surface GO 3 8VA-00013 10.5\" (26.67 cms) Laptop (Intel Pentium T6600 Processor/8GB/128GB SSD/Windows 11 Home), Platinum',\n",
       " 'HP 15 Intel Pentium Gold 6405U Processor Entry Level 39.62 cms(15.6-inch) FHD Laptop (4GB/1TB/Win 10/Jet Black/1.74kg), 15s-du1052tu',\n",
       " 'Acer Aspire 3 Laptop (Made in India) A314-35 35.56 cm (14-Inch) HD Display (Intel Pentium Silver Quad -Core Processor N6000 | Windows 11 Home | 4 GB | 256GB SSD | Weight : 1.45 Kg| Silver',\n",
       " 'ASUS Intel Pentium Quad Core 15.6 inches Business Laptop (4 GB/1 TB HDD/1366 X 768 HD/Windows 10 Home) Transparent Silver, 1.9 kg - X543MA-GQ1020T']"
      ]
     },
     "execution_count": 250,
     "metadata": {},
     "output_type": "execute_result"
    }
   ],
   "source": [
    "title=[]\n",
    "for i in laptop_name:\n",
    "    title.append(i.text)\n",
    "    if len(title)==10:\n",
    "        break\n",
    "    \n",
    "title"
   ]
  },
  {
   "cell_type": "code",
   "execution_count": 251,
   "id": "98b9d6c9",
   "metadata": {},
   "outputs": [
    {
     "data": {
      "text/plain": [
       "20"
      ]
     },
     "execution_count": 251,
     "metadata": {},
     "output_type": "execute_result"
    }
   ],
   "source": [
    "laptop_rating=driver.find_elements('xpath','//div[@class=\"a-row a-size-small\"]')\n",
    "len(laptop_rating)"
   ]
  },
  {
   "cell_type": "code",
   "execution_count": 252,
   "id": "ebb659f8",
   "metadata": {},
   "outputs": [
    {
     "data": {
      "text/plain": [
       "[['89'],\n",
       " ['40'],\n",
       " ['249'],\n",
       " ['13'],\n",
       " ['25'],\n",
       " ['42'],\n",
       " ['1,029'],\n",
       " ['36'],\n",
       " ['110'],\n",
       " ['4']]"
      ]
     },
     "execution_count": 252,
     "metadata": {},
     "output_type": "execute_result"
    }
   ],
   "source": [
    "rating=[]\n",
    "for i in laptop_rating:\n",
    "    rating.append(i.text.split())\n",
    "    if len(rating)==10:\n",
    "        break\n",
    "    \n",
    "rating"
   ]
  },
  {
   "cell_type": "code",
   "execution_count": 253,
   "id": "77241c07",
   "metadata": {},
   "outputs": [
    {
     "data": {
      "text/plain": [
       "20"
      ]
     },
     "execution_count": 253,
     "metadata": {},
     "output_type": "execute_result"
    }
   ],
   "source": [
    "laptop_price=driver.find_elements('xpath','//span[@class=\"a-price-whole\"]')\n",
    "len(laptop_price)"
   ]
  },
  {
   "cell_type": "code",
   "execution_count": 254,
   "id": "4c145910",
   "metadata": {},
   "outputs": [
    {
     "data": {
      "text/plain": [
       "[['33,390'],\n",
       " ['29,990'],\n",
       " ['27,990'],\n",
       " ['31,638'],\n",
       " ['28,990'],\n",
       " ['28,990'],\n",
       " ['49,936'],\n",
       " ['26,990'],\n",
       " ['26,490'],\n",
       " ['30,300']]"
      ]
     },
     "execution_count": 254,
     "metadata": {},
     "output_type": "execute_result"
    }
   ],
   "source": [
    "price=[]\n",
    "for i in laptop_price:\n",
    "    price.append(i.text.split())\n",
    "    if len(price)==10:\n",
    "        break\n",
    "    \n",
    "price"
   ]
  },
  {
   "cell_type": "code",
   "execution_count": 255,
   "id": "a1fbc07a",
   "metadata": {},
   "outputs": [
    {
     "data": {
      "text/html": [
       "<div>\n",
       "<style scoped>\n",
       "    .dataframe tbody tr th:only-of-type {\n",
       "        vertical-align: middle;\n",
       "    }\n",
       "\n",
       "    .dataframe tbody tr th {\n",
       "        vertical-align: top;\n",
       "    }\n",
       "\n",
       "    .dataframe thead th {\n",
       "        text-align: right;\n",
       "    }\n",
       "</style>\n",
       "<table border=\"1\" class=\"dataframe\">\n",
       "  <thead>\n",
       "    <tr style=\"text-align: right;\">\n",
       "      <th></th>\n",
       "      <th>Title</th>\n",
       "      <th>Rating</th>\n",
       "      <th>Price</th>\n",
       "    </tr>\n",
       "  </thead>\n",
       "  <tbody>\n",
       "    <tr>\n",
       "      <th>0</th>\n",
       "      <td>Dell Inspiron 3521 Laptop, Intel PQC-N5030, Wi...</td>\n",
       "      <td>[89]</td>\n",
       "      <td>[33,390]</td>\n",
       "    </tr>\n",
       "    <tr>\n",
       "      <th>1</th>\n",
       "      <td>ASUS VivoBook 14 (2021), 14-inch (35.56 cm) HD...</td>\n",
       "      <td>[40]</td>\n",
       "      <td>[29,990]</td>\n",
       "    </tr>\n",
       "    <tr>\n",
       "      <th>2</th>\n",
       "      <td>Acer Extensa 15 Thin &amp; Light Intel Processor P...</td>\n",
       "      <td>[249]</td>\n",
       "      <td>[27,990]</td>\n",
       "    </tr>\n",
       "    <tr>\n",
       "      <th>3</th>\n",
       "      <td>Hp 14S-Intel Pentium Silver N6000- 8Gb Ram/256...</td>\n",
       "      <td>[13]</td>\n",
       "      <td>[31,638]</td>\n",
       "    </tr>\n",
       "    <tr>\n",
       "      <th>4</th>\n",
       "      <td>Acer Travelmate Business Laptop Intel Pentium ...</td>\n",
       "      <td>[25]</td>\n",
       "      <td>[28,990]</td>\n",
       "    </tr>\n",
       "    <tr>\n",
       "      <th>5</th>\n",
       "      <td>Acer Aspire 3 Laptop (Made in India) A314-35 3...</td>\n",
       "      <td>[42]</td>\n",
       "      <td>[28,990]</td>\n",
       "    </tr>\n",
       "    <tr>\n",
       "      <th>6</th>\n",
       "      <td>Microsoft Surface GO 3 8VA-00013 10.5\" (26.67 ...</td>\n",
       "      <td>[1,029]</td>\n",
       "      <td>[49,936]</td>\n",
       "    </tr>\n",
       "    <tr>\n",
       "      <th>7</th>\n",
       "      <td>HP 15 Intel Pentium Gold 6405U Processor Entry...</td>\n",
       "      <td>[36]</td>\n",
       "      <td>[26,990]</td>\n",
       "    </tr>\n",
       "    <tr>\n",
       "      <th>8</th>\n",
       "      <td>Acer Aspire 3 Laptop (Made in India) A314-35 3...</td>\n",
       "      <td>[110]</td>\n",
       "      <td>[26,490]</td>\n",
       "    </tr>\n",
       "    <tr>\n",
       "      <th>9</th>\n",
       "      <td>ASUS Intel Pentium Quad Core 15.6 inches Busin...</td>\n",
       "      <td>[4]</td>\n",
       "      <td>[30,300]</td>\n",
       "    </tr>\n",
       "  </tbody>\n",
       "</table>\n",
       "</div>"
      ],
      "text/plain": [
       "                                               Title   Rating     Price\n",
       "0  Dell Inspiron 3521 Laptop, Intel PQC-N5030, Wi...     [89]  [33,390]\n",
       "1  ASUS VivoBook 14 (2021), 14-inch (35.56 cm) HD...     [40]  [29,990]\n",
       "2  Acer Extensa 15 Thin & Light Intel Processor P...    [249]  [27,990]\n",
       "3  Hp 14S-Intel Pentium Silver N6000- 8Gb Ram/256...     [13]  [31,638]\n",
       "4  Acer Travelmate Business Laptop Intel Pentium ...     [25]  [28,990]\n",
       "5  Acer Aspire 3 Laptop (Made in India) A314-35 3...     [42]  [28,990]\n",
       "6  Microsoft Surface GO 3 8VA-00013 10.5\" (26.67 ...  [1,029]  [49,936]\n",
       "7  HP 15 Intel Pentium Gold 6405U Processor Entry...     [36]  [26,990]\n",
       "8  Acer Aspire 3 Laptop (Made in India) A314-35 3...    [110]  [26,490]\n",
       "9  ASUS Intel Pentium Quad Core 15.6 inches Busin...      [4]  [30,300]"
      ]
     },
     "execution_count": 255,
     "metadata": {},
     "output_type": "execute_result"
    }
   ],
   "source": [
    "laptop=pd.DataFrame()\n",
    "laptop['Title']= title\n",
    "laptop['Rating']=rating\n",
    "laptop['Price']=price\n",
    "laptop"
   ]
  },
  {
   "cell_type": "code",
   "execution_count": 256,
   "id": "a67b70a8",
   "metadata": {},
   "outputs": [],
   "source": [
    "#Q9\n",
    "driver= webdriver.Chrome(r'C:\\Users\\sofiy\\Downloads\\chromedriver_win32 (1)\\chromedriver.exe')"
   ]
  },
  {
   "cell_type": "code",
   "execution_count": 257,
   "id": "61c13074",
   "metadata": {},
   "outputs": [],
   "source": [
    "url='https://www.ambitionbox.com/'\n",
    "driver.get(url)"
   ]
  },
  {
   "cell_type": "code",
   "execution_count": 259,
   "id": "fd7999d0",
   "metadata": {
    "scrolled": true
   },
   "outputs": [
    {
     "data": {
      "text/plain": [
       "<selenium.webdriver.remote.webelement.WebElement (session=\"3b7e9e458e37e955deca908e3fe2a00f\", element=\"4a13f32e-9c2d-402c-aadc-371d5fec85c4\")>"
      ]
     },
     "execution_count": 259,
     "metadata": {},
     "output_type": "execute_result"
    }
   ],
   "source": [
    "search_job=driver.find_element('xpath','//*[@id=\"headerWrapper\"]/nav[2]/div/ul/li[5]/a')\n",
    "search_job"
   ]
  },
  {
   "cell_type": "code",
   "execution_count": 260,
   "id": "55e19ea9",
   "metadata": {},
   "outputs": [],
   "source": [
    "search_job.click()"
   ]
  },
  {
   "cell_type": "code",
   "execution_count": 261,
   "id": "eb78f523",
   "metadata": {},
   "outputs": [
    {
     "data": {
      "text/plain": [
       "<selenium.webdriver.remote.webelement.WebElement (session=\"3b7e9e458e37e955deca908e3fe2a00f\", element=\"f6d7509f-320a-4221-be5d-a4442596d2a7\")>"
      ]
     },
     "execution_count": 261,
     "metadata": {},
     "output_type": "execute_result"
    }
   ],
   "source": [
    "search_bar=driver.find_element('xpath','//*[@id=\"jobs-typeahead\"]/span/input')\n",
    "search_bar"
   ]
  },
  {
   "cell_type": "code",
   "execution_count": 262,
   "id": "7baced55",
   "metadata": {},
   "outputs": [],
   "source": [
    "search_bar.send_keys(\"Data Scientist\")"
   ]
  },
  {
   "cell_type": "code",
   "execution_count": 263,
   "id": "7a41c922",
   "metadata": {},
   "outputs": [
    {
     "data": {
      "text/plain": [
       "<selenium.webdriver.remote.webelement.WebElement (session=\"3b7e9e458e37e955deca908e3fe2a00f\", element=\"0494d482-597e-48b4-b07b-75adc127a018\")>"
      ]
     },
     "execution_count": 263,
     "metadata": {},
     "output_type": "execute_result"
    }
   ],
   "source": [
    "search_btn= driver.find_element('xpath','/html/body/div/div/div/div[2]/div[1]/div[1]/div/div/div/button')\n",
    "search_btn "
   ]
  },
  {
   "cell_type": "code",
   "execution_count": 264,
   "id": "f734aac0",
   "metadata": {},
   "outputs": [],
   "source": [
    "search_btn.click()"
   ]
  },
  {
   "cell_type": "code",
   "execution_count": 265,
   "id": "10d6d1ad",
   "metadata": {},
   "outputs": [
    {
     "data": {
      "text/plain": [
       "<selenium.webdriver.remote.webelement.WebElement (session=\"3b7e9e458e37e955deca908e3fe2a00f\", element=\"f740eb27-0263-4570-97b3-20745ee4441b\")>"
      ]
     },
     "execution_count": 265,
     "metadata": {},
     "output_type": "execute_result"
    }
   ],
   "source": [
    "search_btn= driver.find_element('xpath','/html/body/div/div/div/div[2]/div[1]/div[2]/div[1]/div/div/div/div[2]/div[1]/i')\n",
    "search_btn "
   ]
  },
  {
   "cell_type": "code",
   "execution_count": 266,
   "id": "337e885a",
   "metadata": {},
   "outputs": [],
   "source": [
    "search_btn.click()"
   ]
  },
  {
   "cell_type": "code",
   "execution_count": 267,
   "id": "d0274489",
   "metadata": {
    "scrolled": true
   },
   "outputs": [
    {
     "data": {
      "text/plain": [
       "<selenium.webdriver.remote.webelement.WebElement (session=\"3b7e9e458e37e955deca908e3fe2a00f\", element=\"cc3a681f-2929-4aa5-ac8e-619a229fa05d\")>"
      ]
     },
     "execution_count": 267,
     "metadata": {},
     "output_type": "execute_result"
    }
   ],
   "source": [
    "search_loc=driver.find_element('xpath','//*[@id=\"filters-row\"]/div/div/div[2]/div[2]/div/div[2]/input')\n",
    "search_loc"
   ]
  },
  {
   "cell_type": "code",
   "execution_count": 268,
   "id": "d4137eed",
   "metadata": {},
   "outputs": [],
   "source": [
    "search_loc.send_keys(\"Noida\")"
   ]
  },
  {
   "cell_type": "code",
   "execution_count": 269,
   "id": "5541651f",
   "metadata": {},
   "outputs": [
    {
     "data": {
      "text/plain": [
       "<selenium.webdriver.remote.webelement.WebElement (session=\"3b7e9e458e37e955deca908e3fe2a00f\", element=\"22a76b4a-936a-4a41-9418-69b2a36ba02c\")>"
      ]
     },
     "execution_count": 269,
     "metadata": {},
     "output_type": "execute_result"
    }
   ],
   "source": [
    "search_loc=driver.find_element('xpath','//*[@id=\"filters-row\"]/div/div/div[2]/div[2]/div/div[3]/div[1]/div[1]/div/label')\n",
    "search_loc"
   ]
  },
  {
   "cell_type": "code",
   "execution_count": 270,
   "id": "c288bbf2",
   "metadata": {},
   "outputs": [],
   "source": [
    "search_loc.click()"
   ]
  },
  {
   "cell_type": "code",
   "execution_count": 271,
   "id": "e2cb274a",
   "metadata": {},
   "outputs": [
    {
     "data": {
      "text/plain": [
       "10"
      ]
     },
     "execution_count": 271,
     "metadata": {},
     "output_type": "execute_result"
    }
   ],
   "source": [
    "job_name=driver.find_elements('xpath','//a[@class=\"title noclick\"]')\n",
    "len(job_name)"
   ]
  },
  {
   "cell_type": "code",
   "execution_count": 272,
   "id": "58f52e3b",
   "metadata": {},
   "outputs": [
    {
     "data": {
      "text/plain": [
       "['Senior Data Scientist',\n",
       " 'Data Scientist Intern',\n",
       " 'Data Scientist- Forecasting and R or Python',\n",
       " 'Data Scientist - Machine Learning Algorithms (3-8 yrs)',\n",
       " 'LatentBridge - Data Scientist - Python/R (2-6 yrs)',\n",
       " 'Data Scientist - Machine Learning/Big Data (0-4 yrs)',\n",
       " 'Info Edge - Data Scientist - Machine Learning/NLP (0-2 yrs)',\n",
       " 'Info Edge - Senior Data Scientist - Machine Learning/Deep Learning (3-5 yrs)',\n",
       " 'Data Scientist - NLP',\n",
       " 'Data Science Trainer | AI | Machine Learning | Python |']"
      ]
     },
     "execution_count": 272,
     "metadata": {},
     "output_type": "execute_result"
    }
   ],
   "source": [
    "name=[]\n",
    "for i in job_name:\n",
    "    name.append(i.text)\n",
    "    if len(name)==10:\n",
    "        break\n",
    "    \n",
    "name"
   ]
  },
  {
   "cell_type": "code",
   "execution_count": 273,
   "id": "a90664d9",
   "metadata": {},
   "outputs": [
    {
     "data": {
      "text/plain": [
       "10"
      ]
     },
     "execution_count": 273,
     "metadata": {},
     "output_type": "execute_result"
    }
   ],
   "source": [
    "job_company=driver.find_elements('xpath','//p[@class=\"company body-medium\"]')\n",
    "len(job_company)"
   ]
  },
  {
   "cell_type": "code",
   "execution_count": 274,
   "id": "e5cbb14d",
   "metadata": {},
   "outputs": [
    {
     "data": {
      "text/plain": [
       "['Optum Global Solutions (India) Private Limited',\n",
       " 'CARE HEALTH INSURANCE LIMITED',\n",
       " 'GENPACT India Private Limited',\n",
       " 'Dew Solutions Pvt. Ltd.',\n",
       " 'Latent bridge',\n",
       " 'InfoEdge India Ltd.',\n",
       " 'Info Edge India Limited',\n",
       " 'Info Edge India Limited',\n",
       " 'CRMnext',\n",
       " 'Careerera']"
      ]
     },
     "execution_count": 274,
     "metadata": {},
     "output_type": "execute_result"
    }
   ],
   "source": [
    "company=[]\n",
    "for i in job_company:\n",
    "    company.append(i.text)\n",
    "    if len(company)==10:\n",
    "        break\n",
    "    \n",
    "company"
   ]
  },
  {
   "cell_type": "code",
   "execution_count": 275,
   "id": "3d7b9a5c",
   "metadata": {},
   "outputs": [
    {
     "data": {
      "text/plain": [
       "10"
      ]
     },
     "execution_count": 275,
     "metadata": {},
     "output_type": "execute_result"
    }
   ],
   "source": [
    "job_rating=driver.find_elements('xpath','//span[@class=\"body-small\"]')\n",
    "len(job_rating)"
   ]
  },
  {
   "cell_type": "code",
   "execution_count": 276,
   "id": "286cd2bf",
   "metadata": {},
   "outputs": [
    {
     "data": {
      "text/plain": [
       "[['4.1'],\n",
       " ['4.0'],\n",
       " ['4.0'],\n",
       " ['4.3'],\n",
       " ['4.5'],\n",
       " ['3.9'],\n",
       " ['3.9'],\n",
       " ['3.9'],\n",
       " ['4.1'],\n",
       " ['3.8']]"
      ]
     },
     "execution_count": 276,
     "metadata": {},
     "output_type": "execute_result"
    }
   ],
   "source": [
    "rating=[]\n",
    "for i in job_rating:\n",
    "    rating.append(i.text.split())\n",
    "    if len(rating)==10:\n",
    "        break\n",
    "    \n",
    "rating"
   ]
  },
  {
   "cell_type": "code",
   "execution_count": 277,
   "id": "dc54a7c5",
   "metadata": {},
   "outputs": [
    {
     "data": {
      "text/html": [
       "<div>\n",
       "<style scoped>\n",
       "    .dataframe tbody tr th:only-of-type {\n",
       "        vertical-align: middle;\n",
       "    }\n",
       "\n",
       "    .dataframe tbody tr th {\n",
       "        vertical-align: top;\n",
       "    }\n",
       "\n",
       "    .dataframe thead th {\n",
       "        text-align: right;\n",
       "    }\n",
       "</style>\n",
       "<table border=\"1\" class=\"dataframe\">\n",
       "  <thead>\n",
       "    <tr style=\"text-align: right;\">\n",
       "      <th></th>\n",
       "      <th>Job Title</th>\n",
       "      <th>Company</th>\n",
       "      <th>Job Rating</th>\n",
       "    </tr>\n",
       "  </thead>\n",
       "  <tbody>\n",
       "    <tr>\n",
       "      <th>0</th>\n",
       "      <td>Senior Data Scientist</td>\n",
       "      <td>Optum Global Solutions (India) Private Limited</td>\n",
       "      <td>[4.1]</td>\n",
       "    </tr>\n",
       "    <tr>\n",
       "      <th>1</th>\n",
       "      <td>Data Scientist Intern</td>\n",
       "      <td>CARE HEALTH INSURANCE LIMITED</td>\n",
       "      <td>[4.0]</td>\n",
       "    </tr>\n",
       "    <tr>\n",
       "      <th>2</th>\n",
       "      <td>Data Scientist- Forecasting and R or Python</td>\n",
       "      <td>GENPACT India Private Limited</td>\n",
       "      <td>[4.0]</td>\n",
       "    </tr>\n",
       "    <tr>\n",
       "      <th>3</th>\n",
       "      <td>Data Scientist - Machine Learning Algorithms (...</td>\n",
       "      <td>Dew Solutions Pvt. Ltd.</td>\n",
       "      <td>[4.3]</td>\n",
       "    </tr>\n",
       "    <tr>\n",
       "      <th>4</th>\n",
       "      <td>LatentBridge - Data Scientist - Python/R (2-6 ...</td>\n",
       "      <td>Latent bridge</td>\n",
       "      <td>[4.5]</td>\n",
       "    </tr>\n",
       "    <tr>\n",
       "      <th>5</th>\n",
       "      <td>Data Scientist - Machine Learning/Big Data (0-...</td>\n",
       "      <td>InfoEdge India Ltd.</td>\n",
       "      <td>[3.9]</td>\n",
       "    </tr>\n",
       "    <tr>\n",
       "      <th>6</th>\n",
       "      <td>Info Edge - Data Scientist - Machine Learning/...</td>\n",
       "      <td>Info Edge India Limited</td>\n",
       "      <td>[3.9]</td>\n",
       "    </tr>\n",
       "    <tr>\n",
       "      <th>7</th>\n",
       "      <td>Info Edge - Senior Data Scientist - Machine Le...</td>\n",
       "      <td>Info Edge India Limited</td>\n",
       "      <td>[3.9]</td>\n",
       "    </tr>\n",
       "    <tr>\n",
       "      <th>8</th>\n",
       "      <td>Data Scientist - NLP</td>\n",
       "      <td>CRMnext</td>\n",
       "      <td>[4.1]</td>\n",
       "    </tr>\n",
       "    <tr>\n",
       "      <th>9</th>\n",
       "      <td>Data Science Trainer | AI | Machine Learning |...</td>\n",
       "      <td>Careerera</td>\n",
       "      <td>[3.8]</td>\n",
       "    </tr>\n",
       "  </tbody>\n",
       "</table>\n",
       "</div>"
      ],
      "text/plain": [
       "                                           Job Title  \\\n",
       "0                              Senior Data Scientist   \n",
       "1                              Data Scientist Intern   \n",
       "2        Data Scientist- Forecasting and R or Python   \n",
       "3  Data Scientist - Machine Learning Algorithms (...   \n",
       "4  LatentBridge - Data Scientist - Python/R (2-6 ...   \n",
       "5  Data Scientist - Machine Learning/Big Data (0-...   \n",
       "6  Info Edge - Data Scientist - Machine Learning/...   \n",
       "7  Info Edge - Senior Data Scientist - Machine Le...   \n",
       "8                               Data Scientist - NLP   \n",
       "9  Data Science Trainer | AI | Machine Learning |...   \n",
       "\n",
       "                                          Company Job Rating  \n",
       "0  Optum Global Solutions (India) Private Limited      [4.1]  \n",
       "1                   CARE HEALTH INSURANCE LIMITED      [4.0]  \n",
       "2                   GENPACT India Private Limited      [4.0]  \n",
       "3                         Dew Solutions Pvt. Ltd.      [4.3]  \n",
       "4                                   Latent bridge      [4.5]  \n",
       "5                             InfoEdge India Ltd.      [3.9]  \n",
       "6                         Info Edge India Limited      [3.9]  \n",
       "7                         Info Edge India Limited      [3.9]  \n",
       "8                                         CRMnext      [4.1]  \n",
       "9                                       Careerera      [3.8]  "
      ]
     },
     "execution_count": 277,
     "metadata": {},
     "output_type": "execute_result"
    }
   ],
   "source": [
    "job=pd.DataFrame()\n",
    "job['Job Title']= name\n",
    "job['Company']=company\n",
    "job['Job Rating']=rating\n",
    "job"
   ]
  },
  {
   "cell_type": "code",
   "execution_count": null,
   "id": "f4f38bda",
   "metadata": {},
   "outputs": [],
   "source": []
  }
 ],
 "metadata": {
  "kernelspec": {
   "display_name": "Python 3 (ipykernel)",
   "language": "python",
   "name": "python3"
  },
  "language_info": {
   "codemirror_mode": {
    "name": "ipython",
    "version": 3
   },
   "file_extension": ".py",
   "mimetype": "text/x-python",
   "name": "python",
   "nbconvert_exporter": "python",
   "pygments_lexer": "ipython3",
   "version": "3.9.12"
  }
 },
 "nbformat": 4,
 "nbformat_minor": 5
}
